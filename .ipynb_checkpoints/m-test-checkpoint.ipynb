{
 "cells": [
  {
   "cell_type": "code",
   "execution_count": 1,
   "id": "aae1414e-330f-4757-badc-81af8205e490",
   "metadata": {},
   "outputs": [],
   "source": [
    "import pandas as pd\n",
    "import numpy as np\n",
    "import seaborn as sns\n",
    "import matplotlib.pyplot as plt\n",
    "\n",
    "pd.set_option('display.max_columns', 200)\n",
    "pd.set_option('display.max_rows', 400)"
   ]
  },
  {
   "cell_type": "code",
   "execution_count": 2,
   "id": "b97311bb-d652-4409-b3b4-855cbfbd391a",
   "metadata": {},
   "outputs": [],
   "source": [
    "full = pd.read_csv('../capstone-data/merged_na.csv')\n",
    "limit = pd.read_csv('../capstone-data/merge_limited.csv')"
   ]
  },
  {
   "cell_type": "code",
   "execution_count": 3,
   "id": "a0d4ddeb-5d7a-49bc-98e2-df07cb2dd2c1",
   "metadata": {},
   "outputs": [
    {
     "data": {
      "text/plain": [
       "(253, 38)"
      ]
     },
     "execution_count": 3,
     "metadata": {},
     "output_type": "execute_result"
    }
   ],
   "source": [
    "full.shape"
   ]
  },
  {
   "cell_type": "code",
   "execution_count": 4,
   "id": "d556ae68-e7c0-4162-9dd1-fecbecb757ba",
   "metadata": {},
   "outputs": [
    {
     "data": {
      "text/plain": [
       "(171, 38)"
      ]
     },
     "execution_count": 4,
     "metadata": {},
     "output_type": "execute_result"
    }
   ],
   "source": [
    "limit.shape"
   ]
  },
  {
   "cell_type": "code",
   "execution_count": 5,
   "id": "4dfca283-bfaa-48e2-b0c1-309aabf0d14e",
   "metadata": {},
   "outputs": [
    {
     "data": {
      "text/html": [
       "<div>\n",
       "<style scoped>\n",
       "    .dataframe tbody tr th:only-of-type {\n",
       "        vertical-align: middle;\n",
       "    }\n",
       "\n",
       "    .dataframe tbody tr th {\n",
       "        vertical-align: top;\n",
       "    }\n",
       "\n",
       "    .dataframe thead th {\n",
       "        text-align: right;\n",
       "    }\n",
       "</style>\n",
       "<table border=\"1\" class=\"dataframe\">\n",
       "  <thead>\n",
       "    <tr style=\"text-align: right;\">\n",
       "      <th></th>\n",
       "      <th>date</th>\n",
       "      <th>avg_weekday_rides</th>\n",
       "      <th>avg_saturday_rides</th>\n",
       "      <th>avg_sunday-holiday_rides</th>\n",
       "      <th>monthtotal</th>\n",
       "      <th>new_light_truck_reg</th>\n",
       "      <th>new_car_reg</th>\n",
       "      <th>new_total_reg</th>\n",
       "      <th>car_crashes</th>\n",
       "      <th>C1_School closing</th>\n",
       "      <th>C2_Workplace closing</th>\n",
       "      <th>C3_Cancel public events</th>\n",
       "      <th>C4_Restrictions on gatherings</th>\n",
       "      <th>C5_Close public transport</th>\n",
       "      <th>C6_Stay at home requirements</th>\n",
       "      <th>C7_Restrictions on internal movement</th>\n",
       "      <th>C8_International travel controls</th>\n",
       "      <th>E1_Income support</th>\n",
       "      <th>E2_Debt/contract relief</th>\n",
       "      <th>H1_Public information campaigns</th>\n",
       "      <th>H1_Flag</th>\n",
       "      <th>H2_Testing policy</th>\n",
       "      <th>H3_Contact tracing</th>\n",
       "      <th>H6_Facial Coverings</th>\n",
       "      <th>H7_Vaccination policy</th>\n",
       "      <th>H8_Protection of elderly people</th>\n",
       "      <th>ConfirmedCases</th>\n",
       "      <th>ConfirmedDeaths</th>\n",
       "      <th>StringencyIndex</th>\n",
       "      <th>StringencyIndexForDisplay</th>\n",
       "      <th>StringencyLegacyIndex</th>\n",
       "      <th>StringencyLegacyIndexForDisplay</th>\n",
       "      <th>GovernmentResponseIndex</th>\n",
       "      <th>GovernmentResponseIndexForDisplay</th>\n",
       "      <th>ContainmentHealthIndex</th>\n",
       "      <th>ContainmentHealthIndexForDisplay</th>\n",
       "      <th>EconomicSupportIndex</th>\n",
       "      <th>EconomicSupportIndexForDisplay</th>\n",
       "    </tr>\n",
       "  </thead>\n",
       "  <tbody>\n",
       "    <tr>\n",
       "      <th>0</th>\n",
       "      <td>2001-01-01</td>\n",
       "      <td>487319.6</td>\n",
       "      <td>220753.3</td>\n",
       "      <td>136573.0</td>\n",
       "      <td>12286897.0</td>\n",
       "      <td>NaN</td>\n",
       "      <td>NaN</td>\n",
       "      <td>NaN</td>\n",
       "      <td>NaN</td>\n",
       "      <td>NaN</td>\n",
       "      <td>NaN</td>\n",
       "      <td>NaN</td>\n",
       "      <td>NaN</td>\n",
       "      <td>NaN</td>\n",
       "      <td>NaN</td>\n",
       "      <td>NaN</td>\n",
       "      <td>NaN</td>\n",
       "      <td>NaN</td>\n",
       "      <td>NaN</td>\n",
       "      <td>NaN</td>\n",
       "      <td>NaN</td>\n",
       "      <td>NaN</td>\n",
       "      <td>NaN</td>\n",
       "      <td>NaN</td>\n",
       "      <td>NaN</td>\n",
       "      <td>NaN</td>\n",
       "      <td>NaN</td>\n",
       "      <td>NaN</td>\n",
       "      <td>NaN</td>\n",
       "      <td>NaN</td>\n",
       "      <td>NaN</td>\n",
       "      <td>NaN</td>\n",
       "      <td>NaN</td>\n",
       "      <td>NaN</td>\n",
       "      <td>NaN</td>\n",
       "      <td>NaN</td>\n",
       "      <td>NaN</td>\n",
       "      <td>NaN</td>\n",
       "    </tr>\n",
       "    <tr>\n",
       "      <th>1</th>\n",
       "      <td>2001-02-01</td>\n",
       "      <td>497416.6</td>\n",
       "      <td>219440.1</td>\n",
       "      <td>147447.5</td>\n",
       "      <td>11415793.0</td>\n",
       "      <td>NaN</td>\n",
       "      <td>NaN</td>\n",
       "      <td>NaN</td>\n",
       "      <td>NaN</td>\n",
       "      <td>NaN</td>\n",
       "      <td>NaN</td>\n",
       "      <td>NaN</td>\n",
       "      <td>NaN</td>\n",
       "      <td>NaN</td>\n",
       "      <td>NaN</td>\n",
       "      <td>NaN</td>\n",
       "      <td>NaN</td>\n",
       "      <td>NaN</td>\n",
       "      <td>NaN</td>\n",
       "      <td>NaN</td>\n",
       "      <td>NaN</td>\n",
       "      <td>NaN</td>\n",
       "      <td>NaN</td>\n",
       "      <td>NaN</td>\n",
       "      <td>NaN</td>\n",
       "      <td>NaN</td>\n",
       "      <td>NaN</td>\n",
       "      <td>NaN</td>\n",
       "      <td>NaN</td>\n",
       "      <td>NaN</td>\n",
       "      <td>NaN</td>\n",
       "      <td>NaN</td>\n",
       "      <td>NaN</td>\n",
       "      <td>NaN</td>\n",
       "      <td>NaN</td>\n",
       "      <td>NaN</td>\n",
       "      <td>NaN</td>\n",
       "      <td>NaN</td>\n",
       "    </tr>\n",
       "    <tr>\n",
       "      <th>2</th>\n",
       "      <td>2001-03-01</td>\n",
       "      <td>503369.6</td>\n",
       "      <td>245850.6</td>\n",
       "      <td>152733.2</td>\n",
       "      <td>12914296.0</td>\n",
       "      <td>NaN</td>\n",
       "      <td>NaN</td>\n",
       "      <td>NaN</td>\n",
       "      <td>NaN</td>\n",
       "      <td>NaN</td>\n",
       "      <td>NaN</td>\n",
       "      <td>NaN</td>\n",
       "      <td>NaN</td>\n",
       "      <td>NaN</td>\n",
       "      <td>NaN</td>\n",
       "      <td>NaN</td>\n",
       "      <td>NaN</td>\n",
       "      <td>NaN</td>\n",
       "      <td>NaN</td>\n",
       "      <td>NaN</td>\n",
       "      <td>NaN</td>\n",
       "      <td>NaN</td>\n",
       "      <td>NaN</td>\n",
       "      <td>NaN</td>\n",
       "      <td>NaN</td>\n",
       "      <td>NaN</td>\n",
       "      <td>NaN</td>\n",
       "      <td>NaN</td>\n",
       "      <td>NaN</td>\n",
       "      <td>NaN</td>\n",
       "      <td>NaN</td>\n",
       "      <td>NaN</td>\n",
       "      <td>NaN</td>\n",
       "      <td>NaN</td>\n",
       "      <td>NaN</td>\n",
       "      <td>NaN</td>\n",
       "      <td>NaN</td>\n",
       "      <td>NaN</td>\n",
       "    </tr>\n",
       "    <tr>\n",
       "      <th>3</th>\n",
       "      <td>2001-04-01</td>\n",
       "      <td>501485.0</td>\n",
       "      <td>242434.5</td>\n",
       "      <td>157367.0</td>\n",
       "      <td>12287737.0</td>\n",
       "      <td>NaN</td>\n",
       "      <td>NaN</td>\n",
       "      <td>NaN</td>\n",
       "      <td>NaN</td>\n",
       "      <td>NaN</td>\n",
       "      <td>NaN</td>\n",
       "      <td>NaN</td>\n",
       "      <td>NaN</td>\n",
       "      <td>NaN</td>\n",
       "      <td>NaN</td>\n",
       "      <td>NaN</td>\n",
       "      <td>NaN</td>\n",
       "      <td>NaN</td>\n",
       "      <td>NaN</td>\n",
       "      <td>NaN</td>\n",
       "      <td>NaN</td>\n",
       "      <td>NaN</td>\n",
       "      <td>NaN</td>\n",
       "      <td>NaN</td>\n",
       "      <td>NaN</td>\n",
       "      <td>NaN</td>\n",
       "      <td>NaN</td>\n",
       "      <td>NaN</td>\n",
       "      <td>NaN</td>\n",
       "      <td>NaN</td>\n",
       "      <td>NaN</td>\n",
       "      <td>NaN</td>\n",
       "      <td>NaN</td>\n",
       "      <td>NaN</td>\n",
       "      <td>NaN</td>\n",
       "      <td>NaN</td>\n",
       "      <td>NaN</td>\n",
       "      <td>NaN</td>\n",
       "    </tr>\n",
       "    <tr>\n",
       "      <th>4</th>\n",
       "      <td>2001-05-01</td>\n",
       "      <td>513900.5</td>\n",
       "      <td>246570.3</td>\n",
       "      <td>171236.2</td>\n",
       "      <td>13148263.0</td>\n",
       "      <td>NaN</td>\n",
       "      <td>NaN</td>\n",
       "      <td>NaN</td>\n",
       "      <td>NaN</td>\n",
       "      <td>NaN</td>\n",
       "      <td>NaN</td>\n",
       "      <td>NaN</td>\n",
       "      <td>NaN</td>\n",
       "      <td>NaN</td>\n",
       "      <td>NaN</td>\n",
       "      <td>NaN</td>\n",
       "      <td>NaN</td>\n",
       "      <td>NaN</td>\n",
       "      <td>NaN</td>\n",
       "      <td>NaN</td>\n",
       "      <td>NaN</td>\n",
       "      <td>NaN</td>\n",
       "      <td>NaN</td>\n",
       "      <td>NaN</td>\n",
       "      <td>NaN</td>\n",
       "      <td>NaN</td>\n",
       "      <td>NaN</td>\n",
       "      <td>NaN</td>\n",
       "      <td>NaN</td>\n",
       "      <td>NaN</td>\n",
       "      <td>NaN</td>\n",
       "      <td>NaN</td>\n",
       "      <td>NaN</td>\n",
       "      <td>NaN</td>\n",
       "      <td>NaN</td>\n",
       "      <td>NaN</td>\n",
       "      <td>NaN</td>\n",
       "      <td>NaN</td>\n",
       "    </tr>\n",
       "  </tbody>\n",
       "</table>\n",
       "</div>"
      ],
      "text/plain": [
       "         date  avg_weekday_rides  avg_saturday_rides  \\\n",
       "0  2001-01-01           487319.6            220753.3   \n",
       "1  2001-02-01           497416.6            219440.1   \n",
       "2  2001-03-01           503369.6            245850.6   \n",
       "3  2001-04-01           501485.0            242434.5   \n",
       "4  2001-05-01           513900.5            246570.3   \n",
       "\n",
       "   avg_sunday-holiday_rides  monthtotal  new_light_truck_reg  new_car_reg  \\\n",
       "0                  136573.0  12286897.0                  NaN          NaN   \n",
       "1                  147447.5  11415793.0                  NaN          NaN   \n",
       "2                  152733.2  12914296.0                  NaN          NaN   \n",
       "3                  157367.0  12287737.0                  NaN          NaN   \n",
       "4                  171236.2  13148263.0                  NaN          NaN   \n",
       "\n",
       "   new_total_reg  car_crashes  C1_School closing  C2_Workplace closing  \\\n",
       "0            NaN          NaN                NaN                   NaN   \n",
       "1            NaN          NaN                NaN                   NaN   \n",
       "2            NaN          NaN                NaN                   NaN   \n",
       "3            NaN          NaN                NaN                   NaN   \n",
       "4            NaN          NaN                NaN                   NaN   \n",
       "\n",
       "   C3_Cancel public events  C4_Restrictions on gatherings  \\\n",
       "0                      NaN                            NaN   \n",
       "1                      NaN                            NaN   \n",
       "2                      NaN                            NaN   \n",
       "3                      NaN                            NaN   \n",
       "4                      NaN                            NaN   \n",
       "\n",
       "   C5_Close public transport  C6_Stay at home requirements  \\\n",
       "0                        NaN                           NaN   \n",
       "1                        NaN                           NaN   \n",
       "2                        NaN                           NaN   \n",
       "3                        NaN                           NaN   \n",
       "4                        NaN                           NaN   \n",
       "\n",
       "   C7_Restrictions on internal movement  C8_International travel controls  \\\n",
       "0                                   NaN                               NaN   \n",
       "1                                   NaN                               NaN   \n",
       "2                                   NaN                               NaN   \n",
       "3                                   NaN                               NaN   \n",
       "4                                   NaN                               NaN   \n",
       "\n",
       "   E1_Income support  E2_Debt/contract relief  \\\n",
       "0                NaN                      NaN   \n",
       "1                NaN                      NaN   \n",
       "2                NaN                      NaN   \n",
       "3                NaN                      NaN   \n",
       "4                NaN                      NaN   \n",
       "\n",
       "   H1_Public information campaigns  H1_Flag  H2_Testing policy  \\\n",
       "0                              NaN      NaN                NaN   \n",
       "1                              NaN      NaN                NaN   \n",
       "2                              NaN      NaN                NaN   \n",
       "3                              NaN      NaN                NaN   \n",
       "4                              NaN      NaN                NaN   \n",
       "\n",
       "   H3_Contact tracing  H6_Facial Coverings  H7_Vaccination policy  \\\n",
       "0                 NaN                  NaN                    NaN   \n",
       "1                 NaN                  NaN                    NaN   \n",
       "2                 NaN                  NaN                    NaN   \n",
       "3                 NaN                  NaN                    NaN   \n",
       "4                 NaN                  NaN                    NaN   \n",
       "\n",
       "   H8_Protection of elderly people  ConfirmedCases  ConfirmedDeaths  \\\n",
       "0                              NaN             NaN              NaN   \n",
       "1                              NaN             NaN              NaN   \n",
       "2                              NaN             NaN              NaN   \n",
       "3                              NaN             NaN              NaN   \n",
       "4                              NaN             NaN              NaN   \n",
       "\n",
       "   StringencyIndex  StringencyIndexForDisplay  StringencyLegacyIndex  \\\n",
       "0              NaN                        NaN                    NaN   \n",
       "1              NaN                        NaN                    NaN   \n",
       "2              NaN                        NaN                    NaN   \n",
       "3              NaN                        NaN                    NaN   \n",
       "4              NaN                        NaN                    NaN   \n",
       "\n",
       "   StringencyLegacyIndexForDisplay  GovernmentResponseIndex  \\\n",
       "0                              NaN                      NaN   \n",
       "1                              NaN                      NaN   \n",
       "2                              NaN                      NaN   \n",
       "3                              NaN                      NaN   \n",
       "4                              NaN                      NaN   \n",
       "\n",
       "   GovernmentResponseIndexForDisplay  ContainmentHealthIndex  \\\n",
       "0                                NaN                     NaN   \n",
       "1                                NaN                     NaN   \n",
       "2                                NaN                     NaN   \n",
       "3                                NaN                     NaN   \n",
       "4                                NaN                     NaN   \n",
       "\n",
       "   ContainmentHealthIndexForDisplay  EconomicSupportIndex  \\\n",
       "0                               NaN                   NaN   \n",
       "1                               NaN                   NaN   \n",
       "2                               NaN                   NaN   \n",
       "3                               NaN                   NaN   \n",
       "4                               NaN                   NaN   \n",
       "\n",
       "   EconomicSupportIndexForDisplay  \n",
       "0                             NaN  \n",
       "1                             NaN  \n",
       "2                             NaN  \n",
       "3                             NaN  \n",
       "4                             NaN  "
      ]
     },
     "execution_count": 5,
     "metadata": {},
     "output_type": "execute_result"
    }
   ],
   "source": [
    "full.head()"
   ]
  },
  {
   "cell_type": "code",
   "execution_count": 6,
   "id": "834ede10-75b1-4dd9-bdab-7cf3574600d1",
   "metadata": {},
   "outputs": [
    {
     "data": {
      "text/html": [
       "<div>\n",
       "<style scoped>\n",
       "    .dataframe tbody tr th:only-of-type {\n",
       "        vertical-align: middle;\n",
       "    }\n",
       "\n",
       "    .dataframe tbody tr th {\n",
       "        vertical-align: top;\n",
       "    }\n",
       "\n",
       "    .dataframe thead th {\n",
       "        text-align: right;\n",
       "    }\n",
       "</style>\n",
       "<table border=\"1\" class=\"dataframe\">\n",
       "  <thead>\n",
       "    <tr style=\"text-align: right;\">\n",
       "      <th></th>\n",
       "      <th>date</th>\n",
       "      <th>avg_weekday_rides</th>\n",
       "      <th>avg_saturday_rides</th>\n",
       "      <th>avg_sunday-holiday_rides</th>\n",
       "      <th>monthtotal</th>\n",
       "      <th>new_light_truck_reg</th>\n",
       "      <th>new_car_reg</th>\n",
       "      <th>new_total_reg</th>\n",
       "      <th>car_crashes</th>\n",
       "      <th>C1_School closing</th>\n",
       "      <th>C2_Workplace closing</th>\n",
       "      <th>C3_Cancel public events</th>\n",
       "      <th>C4_Restrictions on gatherings</th>\n",
       "      <th>C5_Close public transport</th>\n",
       "      <th>C6_Stay at home requirements</th>\n",
       "      <th>C7_Restrictions on internal movement</th>\n",
       "      <th>C8_International travel controls</th>\n",
       "      <th>E1_Income support</th>\n",
       "      <th>E2_Debt/contract relief</th>\n",
       "      <th>H1_Public information campaigns</th>\n",
       "      <th>H1_Flag</th>\n",
       "      <th>H2_Testing policy</th>\n",
       "      <th>H3_Contact tracing</th>\n",
       "      <th>H6_Facial Coverings</th>\n",
       "      <th>H7_Vaccination policy</th>\n",
       "      <th>H8_Protection of elderly people</th>\n",
       "      <th>ConfirmedCases</th>\n",
       "      <th>ConfirmedDeaths</th>\n",
       "      <th>StringencyIndex</th>\n",
       "      <th>StringencyIndexForDisplay</th>\n",
       "      <th>StringencyLegacyIndex</th>\n",
       "      <th>StringencyLegacyIndexForDisplay</th>\n",
       "      <th>GovernmentResponseIndex</th>\n",
       "      <th>GovernmentResponseIndexForDisplay</th>\n",
       "      <th>ContainmentHealthIndex</th>\n",
       "      <th>ContainmentHealthIndexForDisplay</th>\n",
       "      <th>EconomicSupportIndex</th>\n",
       "      <th>EconomicSupportIndexForDisplay</th>\n",
       "    </tr>\n",
       "  </thead>\n",
       "  <tbody>\n",
       "    <tr>\n",
       "      <th>166</th>\n",
       "      <td>2021-08-01</td>\n",
       "      <td>NaN</td>\n",
       "      <td>NaN</td>\n",
       "      <td>NaN</td>\n",
       "      <td>NaN</td>\n",
       "      <td>16901.0</td>\n",
       "      <td>21676.0</td>\n",
       "      <td>21676.0</td>\n",
       "      <td>9989.0</td>\n",
       "      <td>0.0</td>\n",
       "      <td>0.0</td>\n",
       "      <td>1.0</td>\n",
       "      <td>0.0</td>\n",
       "      <td>0.0</td>\n",
       "      <td>0.0</td>\n",
       "      <td>1.0</td>\n",
       "      <td>3.0</td>\n",
       "      <td>1.0</td>\n",
       "      <td>2.0</td>\n",
       "      <td>2.0</td>\n",
       "      <td>1.0</td>\n",
       "      <td>3.0</td>\n",
       "      <td>1.0</td>\n",
       "      <td>2.0</td>\n",
       "      <td>5.0</td>\n",
       "      <td>1.0</td>\n",
       "      <td>1419611.0</td>\n",
       "      <td>25873.0</td>\n",
       "      <td>30.56</td>\n",
       "      <td>30.56</td>\n",
       "      <td>44.05</td>\n",
       "      <td>44.05</td>\n",
       "      <td>44.79</td>\n",
       "      <td>44.79</td>\n",
       "      <td>42.26</td>\n",
       "      <td>42.26</td>\n",
       "      <td>62.5</td>\n",
       "      <td>62.5</td>\n",
       "    </tr>\n",
       "    <tr>\n",
       "      <th>167</th>\n",
       "      <td>2021-09-01</td>\n",
       "      <td>NaN</td>\n",
       "      <td>NaN</td>\n",
       "      <td>NaN</td>\n",
       "      <td>NaN</td>\n",
       "      <td>14109.0</td>\n",
       "      <td>4021.0</td>\n",
       "      <td>18130.0</td>\n",
       "      <td>9897.0</td>\n",
       "      <td>0.0</td>\n",
       "      <td>0.0</td>\n",
       "      <td>0.0</td>\n",
       "      <td>0.0</td>\n",
       "      <td>0.0</td>\n",
       "      <td>0.0</td>\n",
       "      <td>1.0</td>\n",
       "      <td>3.0</td>\n",
       "      <td>1.0</td>\n",
       "      <td>2.0</td>\n",
       "      <td>2.0</td>\n",
       "      <td>1.0</td>\n",
       "      <td>3.0</td>\n",
       "      <td>1.0</td>\n",
       "      <td>2.0</td>\n",
       "      <td>5.0</td>\n",
       "      <td>1.0</td>\n",
       "      <td>1528120.0</td>\n",
       "      <td>26412.0</td>\n",
       "      <td>25.00</td>\n",
       "      <td>25.00</td>\n",
       "      <td>34.52</td>\n",
       "      <td>34.52</td>\n",
       "      <td>42.71</td>\n",
       "      <td>42.71</td>\n",
       "      <td>39.88</td>\n",
       "      <td>39.88</td>\n",
       "      <td>62.5</td>\n",
       "      <td>62.5</td>\n",
       "    </tr>\n",
       "    <tr>\n",
       "      <th>168</th>\n",
       "      <td>2021-10-01</td>\n",
       "      <td>NaN</td>\n",
       "      <td>NaN</td>\n",
       "      <td>NaN</td>\n",
       "      <td>NaN</td>\n",
       "      <td>17447.0</td>\n",
       "      <td>5041.0</td>\n",
       "      <td>22488.0</td>\n",
       "      <td>10264.0</td>\n",
       "      <td>0.0</td>\n",
       "      <td>0.0</td>\n",
       "      <td>0.0</td>\n",
       "      <td>0.0</td>\n",
       "      <td>0.0</td>\n",
       "      <td>0.0</td>\n",
       "      <td>1.0</td>\n",
       "      <td>3.0</td>\n",
       "      <td>1.0</td>\n",
       "      <td>1.0</td>\n",
       "      <td>2.0</td>\n",
       "      <td>1.0</td>\n",
       "      <td>3.0</td>\n",
       "      <td>1.0</td>\n",
       "      <td>2.0</td>\n",
       "      <td>5.0</td>\n",
       "      <td>2.0</td>\n",
       "      <td>1630864.0</td>\n",
       "      <td>27450.0</td>\n",
       "      <td>25.00</td>\n",
       "      <td>25.00</td>\n",
       "      <td>34.52</td>\n",
       "      <td>34.52</td>\n",
       "      <td>41.67</td>\n",
       "      <td>41.67</td>\n",
       "      <td>42.26</td>\n",
       "      <td>42.26</td>\n",
       "      <td>37.5</td>\n",
       "      <td>37.5</td>\n",
       "    </tr>\n",
       "    <tr>\n",
       "      <th>169</th>\n",
       "      <td>2021-11-01</td>\n",
       "      <td>NaN</td>\n",
       "      <td>NaN</td>\n",
       "      <td>NaN</td>\n",
       "      <td>NaN</td>\n",
       "      <td>13562.0</td>\n",
       "      <td>3328.0</td>\n",
       "      <td>16890.0</td>\n",
       "      <td>8763.0</td>\n",
       "      <td>0.0</td>\n",
       "      <td>0.0</td>\n",
       "      <td>0.0</td>\n",
       "      <td>0.0</td>\n",
       "      <td>0.0</td>\n",
       "      <td>0.0</td>\n",
       "      <td>1.0</td>\n",
       "      <td>3.0</td>\n",
       "      <td>1.0</td>\n",
       "      <td>1.0</td>\n",
       "      <td>2.0</td>\n",
       "      <td>1.0</td>\n",
       "      <td>3.0</td>\n",
       "      <td>2.0</td>\n",
       "      <td>2.0</td>\n",
       "      <td>5.0</td>\n",
       "      <td>2.0</td>\n",
       "      <td>1701649.0</td>\n",
       "      <td>28267.0</td>\n",
       "      <td>25.00</td>\n",
       "      <td>25.00</td>\n",
       "      <td>34.52</td>\n",
       "      <td>34.52</td>\n",
       "      <td>44.79</td>\n",
       "      <td>44.79</td>\n",
       "      <td>45.83</td>\n",
       "      <td>45.83</td>\n",
       "      <td>37.5</td>\n",
       "      <td>37.5</td>\n",
       "    </tr>\n",
       "    <tr>\n",
       "      <th>170</th>\n",
       "      <td>2021-12-01</td>\n",
       "      <td>NaN</td>\n",
       "      <td>NaN</td>\n",
       "      <td>NaN</td>\n",
       "      <td>NaN</td>\n",
       "      <td>20876.0</td>\n",
       "      <td>4820.0</td>\n",
       "      <td>25696.0</td>\n",
       "      <td>8472.0</td>\n",
       "      <td>0.0</td>\n",
       "      <td>0.0</td>\n",
       "      <td>0.0</td>\n",
       "      <td>0.0</td>\n",
       "      <td>0.0</td>\n",
       "      <td>0.0</td>\n",
       "      <td>1.0</td>\n",
       "      <td>3.0</td>\n",
       "      <td>1.0</td>\n",
       "      <td>1.0</td>\n",
       "      <td>2.0</td>\n",
       "      <td>1.0</td>\n",
       "      <td>3.0</td>\n",
       "      <td>2.0</td>\n",
       "      <td>2.0</td>\n",
       "      <td>5.0</td>\n",
       "      <td>2.0</td>\n",
       "      <td>1815994.0</td>\n",
       "      <td>28892.0</td>\n",
       "      <td>25.00</td>\n",
       "      <td>25.00</td>\n",
       "      <td>34.52</td>\n",
       "      <td>34.52</td>\n",
       "      <td>44.79</td>\n",
       "      <td>44.79</td>\n",
       "      <td>45.83</td>\n",
       "      <td>45.83</td>\n",
       "      <td>37.5</td>\n",
       "      <td>37.5</td>\n",
       "    </tr>\n",
       "  </tbody>\n",
       "</table>\n",
       "</div>"
      ],
      "text/plain": [
       "           date  avg_weekday_rides  avg_saturday_rides  \\\n",
       "166  2021-08-01                NaN                 NaN   \n",
       "167  2021-09-01                NaN                 NaN   \n",
       "168  2021-10-01                NaN                 NaN   \n",
       "169  2021-11-01                NaN                 NaN   \n",
       "170  2021-12-01                NaN                 NaN   \n",
       "\n",
       "     avg_sunday-holiday_rides  monthtotal  new_light_truck_reg  new_car_reg  \\\n",
       "166                       NaN         NaN              16901.0      21676.0   \n",
       "167                       NaN         NaN              14109.0       4021.0   \n",
       "168                       NaN         NaN              17447.0       5041.0   \n",
       "169                       NaN         NaN              13562.0       3328.0   \n",
       "170                       NaN         NaN              20876.0       4820.0   \n",
       "\n",
       "     new_total_reg  car_crashes  C1_School closing  C2_Workplace closing  \\\n",
       "166        21676.0       9989.0                0.0                   0.0   \n",
       "167        18130.0       9897.0                0.0                   0.0   \n",
       "168        22488.0      10264.0                0.0                   0.0   \n",
       "169        16890.0       8763.0                0.0                   0.0   \n",
       "170        25696.0       8472.0                0.0                   0.0   \n",
       "\n",
       "     C3_Cancel public events  C4_Restrictions on gatherings  \\\n",
       "166                      1.0                            0.0   \n",
       "167                      0.0                            0.0   \n",
       "168                      0.0                            0.0   \n",
       "169                      0.0                            0.0   \n",
       "170                      0.0                            0.0   \n",
       "\n",
       "     C5_Close public transport  C6_Stay at home requirements  \\\n",
       "166                        0.0                           0.0   \n",
       "167                        0.0                           0.0   \n",
       "168                        0.0                           0.0   \n",
       "169                        0.0                           0.0   \n",
       "170                        0.0                           0.0   \n",
       "\n",
       "     C7_Restrictions on internal movement  C8_International travel controls  \\\n",
       "166                                   1.0                               3.0   \n",
       "167                                   1.0                               3.0   \n",
       "168                                   1.0                               3.0   \n",
       "169                                   1.0                               3.0   \n",
       "170                                   1.0                               3.0   \n",
       "\n",
       "     E1_Income support  E2_Debt/contract relief  \\\n",
       "166                1.0                      2.0   \n",
       "167                1.0                      2.0   \n",
       "168                1.0                      1.0   \n",
       "169                1.0                      1.0   \n",
       "170                1.0                      1.0   \n",
       "\n",
       "     H1_Public information campaigns  H1_Flag  H2_Testing policy  \\\n",
       "166                              2.0      1.0                3.0   \n",
       "167                              2.0      1.0                3.0   \n",
       "168                              2.0      1.0                3.0   \n",
       "169                              2.0      1.0                3.0   \n",
       "170                              2.0      1.0                3.0   \n",
       "\n",
       "     H3_Contact tracing  H6_Facial Coverings  H7_Vaccination policy  \\\n",
       "166                 1.0                  2.0                    5.0   \n",
       "167                 1.0                  2.0                    5.0   \n",
       "168                 1.0                  2.0                    5.0   \n",
       "169                 2.0                  2.0                    5.0   \n",
       "170                 2.0                  2.0                    5.0   \n",
       "\n",
       "     H8_Protection of elderly people  ConfirmedCases  ConfirmedDeaths  \\\n",
       "166                              1.0       1419611.0          25873.0   \n",
       "167                              1.0       1528120.0          26412.0   \n",
       "168                              2.0       1630864.0          27450.0   \n",
       "169                              2.0       1701649.0          28267.0   \n",
       "170                              2.0       1815994.0          28892.0   \n",
       "\n",
       "     StringencyIndex  StringencyIndexForDisplay  StringencyLegacyIndex  \\\n",
       "166            30.56                      30.56                  44.05   \n",
       "167            25.00                      25.00                  34.52   \n",
       "168            25.00                      25.00                  34.52   \n",
       "169            25.00                      25.00                  34.52   \n",
       "170            25.00                      25.00                  34.52   \n",
       "\n",
       "     StringencyLegacyIndexForDisplay  GovernmentResponseIndex  \\\n",
       "166                            44.05                    44.79   \n",
       "167                            34.52                    42.71   \n",
       "168                            34.52                    41.67   \n",
       "169                            34.52                    44.79   \n",
       "170                            34.52                    44.79   \n",
       "\n",
       "     GovernmentResponseIndexForDisplay  ContainmentHealthIndex  \\\n",
       "166                              44.79                   42.26   \n",
       "167                              42.71                   39.88   \n",
       "168                              41.67                   42.26   \n",
       "169                              44.79                   45.83   \n",
       "170                              44.79                   45.83   \n",
       "\n",
       "     ContainmentHealthIndexForDisplay  EconomicSupportIndex  \\\n",
       "166                             42.26                  62.5   \n",
       "167                             39.88                  62.5   \n",
       "168                             42.26                  37.5   \n",
       "169                             45.83                  37.5   \n",
       "170                             45.83                  37.5   \n",
       "\n",
       "     EconomicSupportIndexForDisplay  \n",
       "166                            62.5  \n",
       "167                            62.5  \n",
       "168                            37.5  \n",
       "169                            37.5  \n",
       "170                            37.5  "
      ]
     },
     "execution_count": 6,
     "metadata": {},
     "output_type": "execute_result"
    }
   ],
   "source": [
    "limit.tail()"
   ]
  },
  {
   "cell_type": "code",
   "execution_count": 7,
   "id": "5c2a129d-9139-4101-88d8-1fa176d58332",
   "metadata": {},
   "outputs": [],
   "source": [
    "df = limit.loc[(limit['car_crashes'].isna()==False) & (limit['monthtotal'].isna()==False)]"
   ]
  },
  {
   "cell_type": "code",
   "execution_count": 8,
   "id": "704fff75-faed-45dd-98f7-986160aefd4d",
   "metadata": {},
   "outputs": [
    {
     "data": {
      "text/plain": [
       "(101, 38)"
      ]
     },
     "execution_count": 8,
     "metadata": {},
     "output_type": "execute_result"
    }
   ],
   "source": [
    "df.shape"
   ]
  },
  {
   "cell_type": "code",
   "execution_count": 9,
   "id": "01738f4c-9da7-40ca-89f2-adc1029c9523",
   "metadata": {},
   "outputs": [],
   "source": [
    "df=df.fillna(0)"
   ]
  },
  {
   "cell_type": "code",
   "execution_count": 10,
   "id": "13479970-ebd0-42fc-b812-b951f8f9f9a1",
   "metadata": {},
   "outputs": [
    {
     "data": {
      "text/plain": [
       "date                                    0\n",
       "avg_weekday_rides                       0\n",
       "avg_saturday_rides                      0\n",
       "avg_sunday-holiday_rides                0\n",
       "monthtotal                              0\n",
       "new_light_truck_reg                     0\n",
       "new_car_reg                             0\n",
       "new_total_reg                           0\n",
       "car_crashes                             0\n",
       "C1_School closing                       0\n",
       "C2_Workplace closing                    0\n",
       "C3_Cancel public events                 0\n",
       "C4_Restrictions on gatherings           0\n",
       "C5_Close public transport               0\n",
       "C6_Stay at home requirements            0\n",
       "C7_Restrictions on internal movement    0\n",
       "C8_International travel controls        0\n",
       "E1_Income support                       0\n",
       "E2_Debt/contract relief                 0\n",
       "H1_Public information campaigns         0\n",
       "H1_Flag                                 0\n",
       "H2_Testing policy                       0\n",
       "H3_Contact tracing                      0\n",
       "H6_Facial Coverings                     0\n",
       "H7_Vaccination policy                   0\n",
       "H8_Protection of elderly people         0\n",
       "ConfirmedCases                          0\n",
       "ConfirmedDeaths                         0\n",
       "StringencyIndex                         0\n",
       "StringencyIndexForDisplay               0\n",
       "StringencyLegacyIndex                   0\n",
       "StringencyLegacyIndexForDisplay         0\n",
       "GovernmentResponseIndex                 0\n",
       "GovernmentResponseIndexForDisplay       0\n",
       "ContainmentHealthIndex                  0\n",
       "ContainmentHealthIndexForDisplay        0\n",
       "EconomicSupportIndex                    0\n",
       "EconomicSupportIndexForDisplay          0\n",
       "dtype: int64"
      ]
     },
     "execution_count": 10,
     "metadata": {},
     "output_type": "execute_result"
    }
   ],
   "source": [
    "df.isna().sum()"
   ]
  },
  {
   "cell_type": "code",
   "execution_count": 11,
   "id": "232c1a79-3749-45ed-864e-4ed9ff8c8d22",
   "metadata": {},
   "outputs": [
    {
     "data": {
      "image/png": "[encoded data removed]",
      "text/plain": [
       "<Figure size 432x288 with 1 Axes>"
      ]
     },
     "metadata": {
      "needs_background": "light"
     },
     "output_type": "display_data"
    }
   ],
   "source": [
    "sns.scatterplot(data= df,x='monthtotal',y= 'new_total_reg');"
   ]
  },
  {
   "cell_type": "code",
   "execution_count": 12,
   "id": "0c836c09-29f8-4548-a55c-3a6f4ad1ec49",
   "metadata": {},
   "outputs": [
    {
     "data": {
      "image/png": "[encoded data removed]",
      "text/plain": [
       "<Figure size 432x288 with 1 Axes>"
      ]
     },
     "metadata": {
      "needs_background": "light"
     },
     "output_type": "display_data"
    }
   ],
   "source": [
    "sns.scatterplot(data= df,x='monthtotal',y= 'car_crashes');"
   ]
  },
  {
   "cell_type": "code",
   "execution_count": 13,
   "id": "cd4c5101-d00e-4900-af22-61c0d52125e8",
   "metadata": {},
   "outputs": [
    {
     "data": {
      "image/png": "[encoded data removed]",
      "text/plain": [
       "<Figure size 432x288 with 1 Axes>"
      ]
     },
     "metadata": {
      "needs_background": "light"
     },
     "output_type": "display_data"
    }
   ],
   "source": [
    "sns.scatterplot(data= df,x='monthtotal',y= 'StringencyIndexForDisplay');"
   ]
  },
  {
   "cell_type": "code",
   "execution_count": 14,
   "id": "46e46ca5-31b2-4027-8c0c-3dd935c996ad",
   "metadata": {},
   "outputs": [
    {
     "data": {
      "image/png": "[encoded data removed]",
      "text/plain": [
       "<Figure size 864x864 with 2 Axes>"
      ]
     },
     "metadata": {
      "needs_background": "light"
     },
     "output_type": "display_data"
    }
   ],
   "source": [
    "plt.figure(figsize=(12,12))\n",
    "sns.heatmap(df[['monthtotal','new_total_reg','car_crashes','StringencyIndex','ConfirmedCases','ConfirmedDeaths']].corr(),vmin=-1,vmax=1,annot=True,square=True);"
   ]
  },
  {
   "cell_type": "code",
   "execution_count": 15,
   "id": "13a9b035-2577-4f89-a501-9dec7a27658f",
   "metadata": {},
   "outputs": [],
   "source": [
    "df.set_index('date',inplace=True)\n",
    "df.sort_index(inplace=True)"
   ]
  },
  {
   "cell_type": "code",
   "execution_count": 16,
   "id": "61875bd7-6e14-4209-bc67-21915a00d550",
   "metadata": {},
   "outputs": [
    {
     "data": {
      "text/html": [
       "<div>\n",
       "<style scoped>\n",
       "    .dataframe tbody tr th:only-of-type {\n",
       "        vertical-align: middle;\n",
       "    }\n",
       "\n",
       "    .dataframe tbody tr th {\n",
       "        vertical-align: top;\n",
       "    }\n",
       "\n",
       "    .dataframe thead th {\n",
       "        text-align: right;\n",
       "    }\n",
       "</style>\n",
       "<table border=\"1\" class=\"dataframe\">\n",
       "  <thead>\n",
       "    <tr style=\"text-align: right;\">\n",
       "      <th></th>\n",
       "      <th>avg_weekday_rides</th>\n",
       "      <th>avg_saturday_rides</th>\n",
       "      <th>avg_sunday-holiday_rides</th>\n",
       "      <th>monthtotal</th>\n",
       "      <th>new_light_truck_reg</th>\n",
       "      <th>new_car_reg</th>\n",
       "      <th>new_total_reg</th>\n",
       "      <th>car_crashes</th>\n",
       "      <th>C1_School closing</th>\n",
       "      <th>C2_Workplace closing</th>\n",
       "      <th>C3_Cancel public events</th>\n",
       "      <th>C4_Restrictions on gatherings</th>\n",
       "      <th>C5_Close public transport</th>\n",
       "      <th>C6_Stay at home requirements</th>\n",
       "      <th>C7_Restrictions on internal movement</th>\n",
       "      <th>C8_International travel controls</th>\n",
       "      <th>E1_Income support</th>\n",
       "      <th>E2_Debt/contract relief</th>\n",
       "      <th>H1_Public information campaigns</th>\n",
       "      <th>H1_Flag</th>\n",
       "      <th>H2_Testing policy</th>\n",
       "      <th>H3_Contact tracing</th>\n",
       "      <th>H6_Facial Coverings</th>\n",
       "      <th>H7_Vaccination policy</th>\n",
       "      <th>H8_Protection of elderly people</th>\n",
       "      <th>ConfirmedCases</th>\n",
       "      <th>ConfirmedDeaths</th>\n",
       "      <th>StringencyIndex</th>\n",
       "      <th>StringencyIndexForDisplay</th>\n",
       "      <th>StringencyLegacyIndex</th>\n",
       "      <th>StringencyLegacyIndexForDisplay</th>\n",
       "      <th>GovernmentResponseIndex</th>\n",
       "      <th>GovernmentResponseIndexForDisplay</th>\n",
       "      <th>ContainmentHealthIndex</th>\n",
       "      <th>ContainmentHealthIndexForDisplay</th>\n",
       "      <th>EconomicSupportIndex</th>\n",
       "      <th>EconomicSupportIndexForDisplay</th>\n",
       "    </tr>\n",
       "    <tr>\n",
       "      <th>date</th>\n",
       "      <th></th>\n",
       "      <th></th>\n",
       "      <th></th>\n",
       "      <th></th>\n",
       "      <th></th>\n",
       "      <th></th>\n",
       "      <th></th>\n",
       "      <th></th>\n",
       "      <th></th>\n",
       "      <th></th>\n",
       "      <th></th>\n",
       "      <th></th>\n",
       "      <th></th>\n",
       "      <th></th>\n",
       "      <th></th>\n",
       "      <th></th>\n",
       "      <th></th>\n",
       "      <th></th>\n",
       "      <th></th>\n",
       "      <th></th>\n",
       "      <th></th>\n",
       "      <th></th>\n",
       "      <th></th>\n",
       "      <th></th>\n",
       "      <th></th>\n",
       "      <th></th>\n",
       "      <th></th>\n",
       "      <th></th>\n",
       "      <th></th>\n",
       "      <th></th>\n",
       "      <th></th>\n",
       "      <th></th>\n",
       "      <th></th>\n",
       "      <th></th>\n",
       "      <th></th>\n",
       "      <th></th>\n",
       "      <th></th>\n",
       "    </tr>\n",
       "  </thead>\n",
       "  <tbody>\n",
       "    <tr>\n",
       "      <th>2013-03-01</th>\n",
       "      <td>582461.4</td>\n",
       "      <td>363471.0</td>\n",
       "      <td>240581.8</td>\n",
       "      <td>15251953.0</td>\n",
       "      <td>12829.0</td>\n",
       "      <td>14945.0</td>\n",
       "      <td>27774.0</td>\n",
       "      <td>1.0</td>\n",
       "      <td>0.0</td>\n",
       "      <td>0.0</td>\n",
       "      <td>0.0</td>\n",
       "      <td>0.0</td>\n",
       "      <td>0.0</td>\n",
       "      <td>0.0</td>\n",
       "      <td>0.0</td>\n",
       "      <td>0.0</td>\n",
       "      <td>0.0</td>\n",
       "      <td>0.0</td>\n",
       "      <td>0.0</td>\n",
       "      <td>0.0</td>\n",
       "      <td>0.0</td>\n",
       "      <td>0.0</td>\n",
       "      <td>0.0</td>\n",
       "      <td>0.0</td>\n",
       "      <td>0.0</td>\n",
       "      <td>0.0</td>\n",
       "      <td>0.0</td>\n",
       "      <td>0.0</td>\n",
       "      <td>0.0</td>\n",
       "      <td>0.0</td>\n",
       "      <td>0.0</td>\n",
       "      <td>0.0</td>\n",
       "      <td>0.0</td>\n",
       "      <td>0.0</td>\n",
       "      <td>0.0</td>\n",
       "      <td>0.0</td>\n",
       "      <td>0.0</td>\n",
       "    </tr>\n",
       "    <tr>\n",
       "      <th>2013-04-01</th>\n",
       "      <td>604796.6</td>\n",
       "      <td>370356.6</td>\n",
       "      <td>274747.5</td>\n",
       "      <td>15885919.0</td>\n",
       "      <td>13753.0</td>\n",
       "      <td>16516.0</td>\n",
       "      <td>30269.0</td>\n",
       "      <td>0.0</td>\n",
       "      <td>0.0</td>\n",
       "      <td>0.0</td>\n",
       "      <td>0.0</td>\n",
       "      <td>0.0</td>\n",
       "      <td>0.0</td>\n",
       "      <td>0.0</td>\n",
       "      <td>0.0</td>\n",
       "      <td>0.0</td>\n",
       "      <td>0.0</td>\n",
       "      <td>0.0</td>\n",
       "      <td>0.0</td>\n",
       "      <td>0.0</td>\n",
       "      <td>0.0</td>\n",
       "      <td>0.0</td>\n",
       "      <td>0.0</td>\n",
       "      <td>0.0</td>\n",
       "      <td>0.0</td>\n",
       "      <td>0.0</td>\n",
       "      <td>0.0</td>\n",
       "      <td>0.0</td>\n",
       "      <td>0.0</td>\n",
       "      <td>0.0</td>\n",
       "      <td>0.0</td>\n",
       "      <td>0.0</td>\n",
       "      <td>0.0</td>\n",
       "      <td>0.0</td>\n",
       "      <td>0.0</td>\n",
       "      <td>0.0</td>\n",
       "      <td>0.0</td>\n",
       "    </tr>\n",
       "    <tr>\n",
       "      <th>2013-05-01</th>\n",
       "      <td>589875.8</td>\n",
       "      <td>355020.3</td>\n",
       "      <td>263617.4</td>\n",
       "      <td>15715412.0</td>\n",
       "      <td>15273.0</td>\n",
       "      <td>18229.0</td>\n",
       "      <td>33502.0</td>\n",
       "      <td>0.0</td>\n",
       "      <td>0.0</td>\n",
       "      <td>0.0</td>\n",
       "      <td>0.0</td>\n",
       "      <td>0.0</td>\n",
       "      <td>0.0</td>\n",
       "      <td>0.0</td>\n",
       "      <td>0.0</td>\n",
       "      <td>0.0</td>\n",
       "      <td>0.0</td>\n",
       "      <td>0.0</td>\n",
       "      <td>0.0</td>\n",
       "      <td>0.0</td>\n",
       "      <td>0.0</td>\n",
       "      <td>0.0</td>\n",
       "      <td>0.0</td>\n",
       "      <td>0.0</td>\n",
       "      <td>0.0</td>\n",
       "      <td>0.0</td>\n",
       "      <td>0.0</td>\n",
       "      <td>0.0</td>\n",
       "      <td>0.0</td>\n",
       "      <td>0.0</td>\n",
       "      <td>0.0</td>\n",
       "      <td>0.0</td>\n",
       "      <td>0.0</td>\n",
       "      <td>0.0</td>\n",
       "      <td>0.0</td>\n",
       "      <td>0.0</td>\n",
       "      <td>0.0</td>\n",
       "    </tr>\n",
       "    <tr>\n",
       "      <th>2013-06-01</th>\n",
       "      <td>589409.7</td>\n",
       "      <td>376016.8</td>\n",
       "      <td>317617.6</td>\n",
       "      <td>15256300.0</td>\n",
       "      <td>13565.0</td>\n",
       "      <td>16371.0</td>\n",
       "      <td>29936.0</td>\n",
       "      <td>0.0</td>\n",
       "      <td>0.0</td>\n",
       "      <td>0.0</td>\n",
       "      <td>0.0</td>\n",
       "      <td>0.0</td>\n",
       "      <td>0.0</td>\n",
       "      <td>0.0</td>\n",
       "      <td>0.0</td>\n",
       "      <td>0.0</td>\n",
       "      <td>0.0</td>\n",
       "      <td>0.0</td>\n",
       "      <td>0.0</td>\n",
       "      <td>0.0</td>\n",
       "      <td>0.0</td>\n",
       "      <td>0.0</td>\n",
       "      <td>0.0</td>\n",
       "      <td>0.0</td>\n",
       "      <td>0.0</td>\n",
       "      <td>0.0</td>\n",
       "      <td>0.0</td>\n",
       "      <td>0.0</td>\n",
       "      <td>0.0</td>\n",
       "      <td>0.0</td>\n",
       "      <td>0.0</td>\n",
       "      <td>0.0</td>\n",
       "      <td>0.0</td>\n",
       "      <td>0.0</td>\n",
       "      <td>0.0</td>\n",
       "      <td>0.0</td>\n",
       "      <td>0.0</td>\n",
       "    </tr>\n",
       "    <tr>\n",
       "      <th>2013-07-01</th>\n",
       "      <td>581874.8</td>\n",
       "      <td>411215.8</td>\n",
       "      <td>318338.2</td>\n",
       "      <td>16037793.0</td>\n",
       "      <td>15193.0</td>\n",
       "      <td>17779.0</td>\n",
       "      <td>32972.0</td>\n",
       "      <td>0.0</td>\n",
       "      <td>0.0</td>\n",
       "      <td>0.0</td>\n",
       "      <td>0.0</td>\n",
       "      <td>0.0</td>\n",
       "      <td>0.0</td>\n",
       "      <td>0.0</td>\n",
       "      <td>0.0</td>\n",
       "      <td>0.0</td>\n",
       "      <td>0.0</td>\n",
       "      <td>0.0</td>\n",
       "      <td>0.0</td>\n",
       "      <td>0.0</td>\n",
       "      <td>0.0</td>\n",
       "      <td>0.0</td>\n",
       "      <td>0.0</td>\n",
       "      <td>0.0</td>\n",
       "      <td>0.0</td>\n",
       "      <td>0.0</td>\n",
       "      <td>0.0</td>\n",
       "      <td>0.0</td>\n",
       "      <td>0.0</td>\n",
       "      <td>0.0</td>\n",
       "      <td>0.0</td>\n",
       "      <td>0.0</td>\n",
       "      <td>0.0</td>\n",
       "      <td>0.0</td>\n",
       "      <td>0.0</td>\n",
       "      <td>0.0</td>\n",
       "      <td>0.0</td>\n",
       "    </tr>\n",
       "  </tbody>\n",
       "</table>\n",
       "</div>"
      ],
      "text/plain": [
       "            avg_weekday_rides  avg_saturday_rides  avg_sunday-holiday_rides  \\\n",
       "date                                                                          \n",
       "2013-03-01           582461.4            363471.0                  240581.8   \n",
       "2013-04-01           604796.6            370356.6                  274747.5   \n",
       "2013-05-01           589875.8            355020.3                  263617.4   \n",
       "2013-06-01           589409.7            376016.8                  317617.6   \n",
       "2013-07-01           581874.8            411215.8                  318338.2   \n",
       "\n",
       "            monthtotal  new_light_truck_reg  new_car_reg  new_total_reg  \\\n",
       "date                                                                      \n",
       "2013-03-01  15251953.0              12829.0      14945.0        27774.0   \n",
       "2013-04-01  15885919.0              13753.0      16516.0        30269.0   \n",
       "2013-05-01  15715412.0              15273.0      18229.0        33502.0   \n",
       "2013-06-01  15256300.0              13565.0      16371.0        29936.0   \n",
       "2013-07-01  16037793.0              15193.0      17779.0        32972.0   \n",
       "\n",
       "            car_crashes  C1_School closing  C2_Workplace closing  \\\n",
       "date                                                               \n",
       "2013-03-01          1.0                0.0                   0.0   \n",
       "2013-04-01          0.0                0.0                   0.0   \n",
       "2013-05-01          0.0                0.0                   0.0   \n",
       "2013-06-01          0.0                0.0                   0.0   \n",
       "2013-07-01          0.0                0.0                   0.0   \n",
       "\n",
       "            C3_Cancel public events  C4_Restrictions on gatherings  \\\n",
       "date                                                                 \n",
       "2013-03-01                      0.0                            0.0   \n",
       "2013-04-01                      0.0                            0.0   \n",
       "2013-05-01                      0.0                            0.0   \n",
       "2013-06-01                      0.0                            0.0   \n",
       "2013-07-01                      0.0                            0.0   \n",
       "\n",
       "            C5_Close public transport  C6_Stay at home requirements  \\\n",
       "date                                                                  \n",
       "2013-03-01                        0.0                           0.0   \n",
       "2013-04-01                        0.0                           0.0   \n",
       "2013-05-01                        0.0                           0.0   \n",
       "2013-06-01                        0.0                           0.0   \n",
       "2013-07-01                        0.0                           0.0   \n",
       "\n",
       "            C7_Restrictions on internal movement  \\\n",
       "date                                               \n",
       "2013-03-01                                   0.0   \n",
       "2013-04-01                                   0.0   \n",
       "2013-05-01                                   0.0   \n",
       "2013-06-01                                   0.0   \n",
       "2013-07-01                                   0.0   \n",
       "\n",
       "            C8_International travel controls  E1_Income support  \\\n",
       "date                                                              \n",
       "2013-03-01                               0.0                0.0   \n",
       "2013-04-01                               0.0                0.0   \n",
       "2013-05-01                               0.0                0.0   \n",
       "2013-06-01                               0.0                0.0   \n",
       "2013-07-01                               0.0                0.0   \n",
       "\n",
       "            E2_Debt/contract relief  H1_Public information campaigns  H1_Flag  \\\n",
       "date                                                                            \n",
       "2013-03-01                      0.0                              0.0      0.0   \n",
       "2013-04-01                      0.0                              0.0      0.0   \n",
       "2013-05-01                      0.0                              0.0      0.0   \n",
       "2013-06-01                      0.0                              0.0      0.0   \n",
       "2013-07-01                      0.0                              0.0      0.0   \n",
       "\n",
       "            H2_Testing policy  H3_Contact tracing  H6_Facial Coverings  \\\n",
       "date                                                                     \n",
       "2013-03-01                0.0                 0.0                  0.0   \n",
       "2013-04-01                0.0                 0.0                  0.0   \n",
       "2013-05-01                0.0                 0.0                  0.0   \n",
       "2013-06-01                0.0                 0.0                  0.0   \n",
       "2013-07-01                0.0                 0.0                  0.0   \n",
       "\n",
       "            H7_Vaccination policy  H8_Protection of elderly people  \\\n",
       "date                                                                 \n",
       "2013-03-01                    0.0                              0.0   \n",
       "2013-04-01                    0.0                              0.0   \n",
       "2013-05-01                    0.0                              0.0   \n",
       "2013-06-01                    0.0                              0.0   \n",
       "2013-07-01                    0.0                              0.0   \n",
       "\n",
       "            ConfirmedCases  ConfirmedDeaths  StringencyIndex  \\\n",
       "date                                                           \n",
       "2013-03-01             0.0              0.0              0.0   \n",
       "2013-04-01             0.0              0.0              0.0   \n",
       "2013-05-01             0.0              0.0              0.0   \n",
       "2013-06-01             0.0              0.0              0.0   \n",
       "2013-07-01             0.0              0.0              0.0   \n",
       "\n",
       "            StringencyIndexForDisplay  StringencyLegacyIndex  \\\n",
       "date                                                           \n",
       "2013-03-01                        0.0                    0.0   \n",
       "2013-04-01                        0.0                    0.0   \n",
       "2013-05-01                        0.0                    0.0   \n",
       "2013-06-01                        0.0                    0.0   \n",
       "2013-07-01                        0.0                    0.0   \n",
       "\n",
       "            StringencyLegacyIndexForDisplay  GovernmentResponseIndex  \\\n",
       "date                                                                   \n",
       "2013-03-01                              0.0                      0.0   \n",
       "2013-04-01                              0.0                      0.0   \n",
       "2013-05-01                              0.0                      0.0   \n",
       "2013-06-01                              0.0                      0.0   \n",
       "2013-07-01                              0.0                      0.0   \n",
       "\n",
       "            GovernmentResponseIndexForDisplay  ContainmentHealthIndex  \\\n",
       "date                                                                    \n",
       "2013-03-01                                0.0                     0.0   \n",
       "2013-04-01                                0.0                     0.0   \n",
       "2013-05-01                                0.0                     0.0   \n",
       "2013-06-01                                0.0                     0.0   \n",
       "2013-07-01                                0.0                     0.0   \n",
       "\n",
       "            ContainmentHealthIndexForDisplay  EconomicSupportIndex  \\\n",
       "date                                                                 \n",
       "2013-03-01                               0.0                   0.0   \n",
       "2013-04-01                               0.0                   0.0   \n",
       "2013-05-01                               0.0                   0.0   \n",
       "2013-06-01                               0.0                   0.0   \n",
       "2013-07-01                               0.0                   0.0   \n",
       "\n",
       "            EconomicSupportIndexForDisplay  \n",
       "date                                        \n",
       "2013-03-01                             0.0  \n",
       "2013-04-01                             0.0  \n",
       "2013-05-01                             0.0  \n",
       "2013-06-01                             0.0  \n",
       "2013-07-01                             0.0  "
      ]
     },
     "execution_count": 16,
     "metadata": {},
     "output_type": "execute_result"
    }
   ],
   "source": [
    "df.head()"
   ]
  },
  {
   "cell_type": "code",
   "execution_count": 17,
   "id": "cf4459d0-b0aa-40e0-b239-b40c8268c9b1",
   "metadata": {},
   "outputs": [
    {
     "data": {
      "image/png": "[encoded data removed]",
      "text/plain": [
       "<Figure size 1080x864 with 3 Axes>"
      ]
     },
     "metadata": {
      "needs_background": "light"
     },
     "output_type": "display_data"
    }
   ],
   "source": [
    "fig, axes = plt.subplots(nrows = 3, figsize = (15, 12))\n",
    "\n",
    "axes[0].plot(df['monthtotal'])\n",
    "axes[1].plot(df['monthtotal'].diff())\n",
    "axes[2].plot(df['monthtotal'].pct_change());"
   ]
  },
  {
   "cell_type": "code",
   "execution_count": 18,
   "id": "e5f7b8e9-02df-43a9-9000-551192adf8e9",
   "metadata": {},
   "outputs": [
    {
     "data": {
      "text/plain": [
       "<AxesSubplot:xlabel='date'>"
      ]
     },
     "execution_count": 18,
     "metadata": {},
     "output_type": "execute_result"
    },
    {
     "data": {
      "image/png": "[encoded data removed]",
      "text/plain": [
       "<Figure size 432x288 with 3 Axes>"
      ]
     },
     "metadata": {
      "needs_background": "light"
     },
     "output_type": "display_data"
    }
   ],
   "source": [
    "plt.subplot(3,1,1)\n",
    "df['new_total_reg'].plot()\n",
    "plt.subplot(3,1,2)\n",
    "df['new_total_reg'].diff().plot()\n",
    "plt.subplot(3,1,3)\n",
    "df['new_total_reg'].pct_change().plot()"
   ]
  },
  {
   "cell_type": "code",
   "execution_count": 19,
   "id": "1471b890-1b98-4cd9-9a0a-f769834488e8",
   "metadata": {},
   "outputs": [],
   "source": [
    "df=df.fillna(0)"
   ]
  },
  {
   "cell_type": "code",
   "execution_count": 20,
   "id": "e0dafe3d-0898-45df-af22-a910b41b518a",
   "metadata": {},
   "outputs": [
    {
     "data": {
      "text/plain": [
       "avg_weekday_rides                       0\n",
       "avg_saturday_rides                      0\n",
       "avg_sunday-holiday_rides                0\n",
       "monthtotal                              0\n",
       "new_light_truck_reg                     0\n",
       "new_car_reg                             0\n",
       "new_total_reg                           0\n",
       "car_crashes                             0\n",
       "C1_School closing                       0\n",
       "C2_Workplace closing                    0\n",
       "C3_Cancel public events                 0\n",
       "C4_Restrictions on gatherings           0\n",
       "C5_Close public transport               0\n",
       "C6_Stay at home requirements            0\n",
       "C7_Restrictions on internal movement    0\n",
       "C8_International travel controls        0\n",
       "E1_Income support                       0\n",
       "E2_Debt/contract relief                 0\n",
       "H1_Public information campaigns         0\n",
       "H1_Flag                                 0\n",
       "H2_Testing policy                       0\n",
       "H3_Contact tracing                      0\n",
       "H6_Facial Coverings                     0\n",
       "H7_Vaccination policy                   0\n",
       "H8_Protection of elderly people         0\n",
       "ConfirmedCases                          0\n",
       "ConfirmedDeaths                         0\n",
       "StringencyIndex                         0\n",
       "StringencyIndexForDisplay               0\n",
       "StringencyLegacyIndex                   0\n",
       "StringencyLegacyIndexForDisplay         0\n",
       "GovernmentResponseIndex                 0\n",
       "GovernmentResponseIndexForDisplay       0\n",
       "ContainmentHealthIndex                  0\n",
       "ContainmentHealthIndexForDisplay        0\n",
       "EconomicSupportIndex                    0\n",
       "EconomicSupportIndexForDisplay          0\n",
       "dtype: int64"
      ]
     },
     "execution_count": 20,
     "metadata": {},
     "output_type": "execute_result"
    }
   ],
   "source": [
    "df.isna().sum()"
   ]
  },
  {
   "cell_type": "code",
   "execution_count": 21,
   "id": "e286ddae-39a2-40cb-b27e-d58d64f1f6bc",
   "metadata": {},
   "outputs": [
    {
     "data": {
      "text/plain": [
       "Index(['avg_weekday_rides', 'avg_saturday_rides', 'avg_sunday-holiday_rides',\n",
       "       'monthtotal', 'new_light_truck_reg', 'new_car_reg', 'new_total_reg',\n",
       "       'car_crashes', 'C1_School closing', 'C2_Workplace closing',\n",
       "       'C3_Cancel public events', 'C4_Restrictions on gatherings',\n",
       "       'C5_Close public transport', 'C6_Stay at home requirements',\n",
       "       'C7_Restrictions on internal movement',\n",
       "       'C8_International travel controls', 'E1_Income support',\n",
       "       'E2_Debt/contract relief', 'H1_Public information campaigns', 'H1_Flag',\n",
       "       'H2_Testing policy', 'H3_Contact tracing', 'H6_Facial Coverings',\n",
       "       'H7_Vaccination policy', 'H8_Protection of elderly people',\n",
       "       'ConfirmedCases', 'ConfirmedDeaths', 'StringencyIndex',\n",
       "       'StringencyIndexForDisplay', 'StringencyLegacyIndex',\n",
       "       'StringencyLegacyIndexForDisplay', 'GovernmentResponseIndex',\n",
       "       'GovernmentResponseIndexForDisplay', 'ContainmentHealthIndex',\n",
       "       'ContainmentHealthIndexForDisplay', 'EconomicSupportIndex',\n",
       "       'EconomicSupportIndexForDisplay'],\n",
       "      dtype='object')"
      ]
     },
     "execution_count": 21,
     "metadata": {},
     "output_type": "execute_result"
    }
   ],
   "source": [
    "df.columns"
   ]
  },
  {
   "cell_type": "code",
   "execution_count": 22,
   "id": "26ad9f3d-8f4b-4999-aca0-d439dfa07293",
   "metadata": {},
   "outputs": [],
   "source": [
    "from sklearn.linear_model import LinearRegression"
   ]
  },
  {
   "cell_type": "code",
   "execution_count": 23,
   "id": "13808fac-30d2-47ff-b527-01a18999867a",
   "metadata": {},
   "outputs": [],
   "source": [
    "from sklearn.model_selection import train_test_split\n",
    "from sklearn import metrics"
   ]
  },
  {
   "cell_type": "code",
   "execution_count": 24,
   "id": "5414f88c-d9bf-47ab-9976-1c71ba087765",
   "metadata": {},
   "outputs": [],
   "source": [
    "lr = LinearRegression()"
   ]
  },
  {
   "cell_type": "code",
   "execution_count": 25,
   "id": "42531b00-b940-45f4-ba2a-978290e21f69",
   "metadata": {},
   "outputs": [],
   "source": [
    "features = ['new_total_reg','StringencyLegacyIndex','car_crashes']"
   ]
  },
  {
   "cell_type": "code",
   "execution_count": 26,
   "id": "a6511910-077b-4228-9294-b3fa1e01dd59",
   "metadata": {},
   "outputs": [],
   "source": [
    "X = df[features]\n",
    "y = df['monthtotal']"
   ]
  },
  {
   "cell_type": "code",
   "execution_count": 27,
   "id": "bd84ed60-6544-4423-b90f-69b4fdf44045",
   "metadata": {},
   "outputs": [],
   "source": [
    "X_train,X_test,y_train,y_test = train_test_split(X,y,test_size=.3,random_state=42)"
   ]
  },
  {
   "cell_type": "code",
   "execution_count": 28,
   "id": "3f54cd20-be1d-40a3-8853-ad4edc072fd0",
   "metadata": {},
   "outputs": [
    {
     "data": {
      "text/plain": [
       "LinearRegression()"
      ]
     },
     "execution_count": 28,
     "metadata": {},
     "output_type": "execute_result"
    }
   ],
   "source": [
    "lr.fit(X_train,y_train)"
   ]
  },
  {
   "cell_type": "code",
   "execution_count": 29,
   "id": "c8d7a4a8-3ede-46e6-8ac4-be5af277353b",
   "metadata": {},
   "outputs": [
    {
     "data": {
      "text/plain": [
       "(0.9556351242523031, 0.8784618113171385)"
      ]
     },
     "execution_count": 29,
     "metadata": {},
     "output_type": "execute_result"
    }
   ],
   "source": [
    "lr.score(X_train,y_train), lr.score(X_test,y_test)"
   ]
  },
  {
   "cell_type": "code",
   "execution_count": 30,
   "id": "c1ab025d-b276-4022-a76e-3c0b710ed1d5",
   "metadata": {},
   "outputs": [],
   "source": [
    "preds = lr.predict(X_test)"
   ]
  },
  {
   "cell_type": "code",
   "execution_count": 31,
   "id": "d922c7cb-6b73-41e4-9917-6cced193ec4e",
   "metadata": {},
   "outputs": [
    {
     "data": {
      "text/plain": [
       "1225101.588117454"
      ]
     },
     "execution_count": 31,
     "metadata": {},
     "output_type": "execute_result"
    }
   ],
   "source": [
    "metrics.mean_absolute_error(y_test,preds)"
   ]
  },
  {
   "cell_type": "code",
   "execution_count": 32,
   "id": "de643e6e-9a27-4dbc-a440-ad2bf3dd115b",
   "metadata": {},
   "outputs": [
    {
     "data": {
      "text/plain": [
       "1549167.4550938644"
      ]
     },
     "execution_count": 32,
     "metadata": {},
     "output_type": "execute_result"
    }
   ],
   "source": [
    "metrics.mean_squared_error(y_test,preds,squared=False)"
   ]
  },
  {
   "cell_type": "code",
   "execution_count": 33,
   "id": "77047732-be2d-461e-9049-cb64fddd00aa",
   "metadata": {},
   "outputs": [],
   "source": [
    "from sklearn.ensemble import RandomForestRegressor"
   ]
  },
  {
   "cell_type": "code",
   "execution_count": 34,
   "id": "300c18d9-8ce0-43af-bdd9-e441779a4f39",
   "metadata": {},
   "outputs": [],
   "source": [
    "rf=RandomForestRegressor(n_estimators=100,max_depth=5,random_state=42)"
   ]
  },
  {
   "cell_type": "code",
   "execution_count": 35,
   "id": "4e5bdfde-7125-4190-a507-63694795710a",
   "metadata": {},
   "outputs": [
    {
     "data": {
      "text/plain": [
       "RandomForestRegressor(max_depth=5, random_state=42)"
      ]
     },
     "execution_count": 35,
     "metadata": {},
     "output_type": "execute_result"
    }
   ],
   "source": [
    "rf.fit(X_train,y_train)"
   ]
  },
  {
   "cell_type": "code",
   "execution_count": 43,
   "id": "5b482c9f-de47-436d-a336-a65a8b893b90",
   "metadata": {},
   "outputs": [
    {
     "data": {
      "text/plain": [
       "(0.9861459963860857, 0.8806400966449502)"
      ]
     },
     "execution_count": 43,
     "metadata": {},
     "output_type": "execute_result"
    }
   ],
   "source": [
    "rf.score(X_train,y_train),rf.score(X_test,y_test)"
   ]
  },
  {
   "cell_type": "code",
   "execution_count": 39,
   "id": "dbaef701-e994-4ed9-86d3-aae3ae21f288",
   "metadata": {},
   "outputs": [],
   "source": [
    "from sklearn.neighbors import KNeighborsRegressor"
   ]
  },
  {
   "cell_type": "code",
   "execution_count": 40,
   "id": "f8fe3849-e0cf-4e83-93f1-94de51fa3fae",
   "metadata": {},
   "outputs": [],
   "source": [
    "knn = KNeighborsRegressor()"
   ]
  },
  {
   "cell_type": "code",
   "execution_count": 41,
   "id": "d77312fa-a74b-46e0-aeba-77c294b82663",
   "metadata": {},
   "outputs": [
    {
     "data": {
      "text/plain": [
       "KNeighborsRegressor()"
      ]
     },
     "execution_count": 41,
     "metadata": {},
     "output_type": "execute_result"
    }
   ],
   "source": [
    "knn.fit(X_train,y_train)"
   ]
  },
  {
   "cell_type": "code",
   "execution_count": 42,
   "id": "df6c4a32-a365-4816-bb22-20488bc89d10",
   "metadata": {},
   "outputs": [
    {
     "data": {
      "text/plain": [
       "(0.6294515671381307, -0.013353380440887186)"
      ]
     },
     "execution_count": 42,
     "metadata": {},
     "output_type": "execute_result"
    }
   ],
   "source": [
    "knn.score(X_train,y_train), knn.score(X_test,y_test)"
   ]
  },
  {
   "cell_type": "code",
   "execution_count": 44,
   "id": "b53367fa-de0e-47d9-97ac-ca69bcf2e386",
   "metadata": {},
   "outputs": [],
   "source": [
    "from sklearn.tree import DecisionTreeRegressor"
   ]
  },
  {
   "cell_type": "code",
   "execution_count": 45,
   "id": "8b3ce5a8-0bb6-4fa1-bf51-2c6f543dcdde",
   "metadata": {},
   "outputs": [],
   "source": [
    "dt = DecisionTreeRegressor()"
   ]
  },
  {
   "cell_type": "code",
   "execution_count": 46,
   "id": "c738ca63-31fc-4886-958e-52a9066a9127",
   "metadata": {},
   "outputs": [
    {
     "data": {
      "text/plain": [
       "DecisionTreeRegressor()"
      ]
     },
     "execution_count": 46,
     "metadata": {},
     "output_type": "execute_result"
    }
   ],
   "source": [
    "dt.fit(X_train,y_train)"
   ]
  },
  {
   "cell_type": "code",
   "execution_count": 47,
   "id": "05f253c2-16a5-4401-9541-0efc806b4735",
   "metadata": {},
   "outputs": [
    {
     "data": {
      "text/plain": [
       "(1.0, 0.8175582498927949)"
      ]
     },
     "execution_count": 47,
     "metadata": {},
     "output_type": "execute_result"
    }
   ],
   "source": [
    "dt.score(X_train,y_train),dt.score(X_test,y_test)"
   ]
  },
  {
   "cell_type": "code",
   "execution_count": null,
   "id": "b6e83dc5-40f2-495c-81a6-fcf8d0861504",
   "metadata": {},
   "outputs": [],
   "source": []
  }
 ],
 "metadata": {
  "kernelspec": {
   "display_name": "Python [conda env:dsi] *",
   "language": "python",
   "name": "conda-env-dsi-py"
  },
  "language_info": {
   "codemirror_mode": {
    "name": "ipython",
    "version": 3
   },
   "file_extension": ".py",
   "mimetype": "text/x-python",
   "name": "python",
   "nbconvert_exporter": "python",
   "pygments_lexer": "ipython3",
   "version": "3.8.8"
  }
 },
 "nbformat": 4,
 "nbformat_minor": 5
}
