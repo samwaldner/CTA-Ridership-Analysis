{
 "cells": [
  {
   "cell_type": "code",
   "execution_count": 1,
   "id": "a84906c8-a1b6-4dae-8544-6ca2313fa5c5",
   "metadata": {},
   "outputs": [],
   "source": [
    "import requests\n",
    "from bs4 import BeautifulSoup\n",
    "import pandas as pd\n",
    "import numpy as np\n",
    "\n",
    "pd.set_option('display.max_columns', 200)\n",
    "pd.set_option('display.max_rows', 200)"
   ]
  },
  {
   "cell_type": "code",
   "execution_count": 2,
   "id": "2b85b94d-6096-4dbe-9fad-64f24b6c61f8",
   "metadata": {},
   "outputs": [
    {
     "name": "stdout",
     "output_type": "stream",
     "text": [
      "200\n"
     ]
    }
   ],
   "source": [
    "url = \"http://www.cata.info/news/?CategoryId=4&pg=5&F_All=y\"\n",
    "\n",
    "response = requests.get(url)\n",
    "\n",
    "print(response.status_code)\n",
    "\n",
    "html = response.text"
   ]
  },
  {
   "cell_type": "code",
   "execution_count": null,
   "id": "5f8e24a6-3a27-422e-bb6f-004505530c16",
   "metadata": {},
   "outputs": [],
   "source": [
    "# Adapted from code by GeeksforGeeks User: hemavatisabu\n",
    "soup = BeautifulSoup(response.text, 'html.parser')\n",
    "  \n",
    "links = soup.find_all('a')\n",
    "\n",
    "i = 0\n",
    "names = set()\n",
    "\n",
    "for link in links:\n",
    "    if ('.pdf' in link.get('href')):\n",
    "        elem=tuple(link.get('href').split('\\n'))\n",
    "        names.add(elem)\n",
    "        \n",
    "for link in names:\n",
    "    \n",
    "    #if ('.pdf' in link.get('href')):                  \n",
    "        i += 1\n",
    "        print(\"Downloading file: \", i)\n",
    "\n",
    "        # Get response object for link\n",
    "        response = requests.get(link[0])\n",
    "\n",
    "        # Write content in pdf file\n",
    "        pdf = open(\"pdf\"+str(i)+\".pdf\", 'wb')\n",
    "        \n",
    "        #pdf = open(f\"{str(link[0])}\", 'wb')\n",
    "\n",
    "        pdf.write(response.content)\n",
    "        pdf.close()\n",
    "        print(\"File \", i, \" downloaded\")\n",
    "\n",
    "print(\"All PDF files downloaded\")"
   ]
  },
  {
   "cell_type": "code",
   "execution_count": null,
   "id": "f3d6b343-4f4a-4c7f-9049-404a0f5b6daf",
   "metadata": {},
   "outputs": [],
   "source": []
  }
 ],
 "metadata": {
  "kernelspec": {
   "display_name": "Python [conda env:dsi01]",
   "language": "python",
   "name": "conda-env-dsi01-py"
  },
  "language_info": {
   "codemirror_mode": {
    "name": "ipython",
    "version": 3
   },
   "file_extension": ".py",
   "mimetype": "text/x-python",
   "name": "python",
   "nbconvert_exporter": "python",
   "pygments_lexer": "ipython3",
   "version": "3.8.8"
  }
 },
 "nbformat": 4,
 "nbformat_minor": 5
}
