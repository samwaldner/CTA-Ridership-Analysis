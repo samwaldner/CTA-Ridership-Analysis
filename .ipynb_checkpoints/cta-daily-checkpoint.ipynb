{
 "cells": [
  {
   "cell_type": "code",
   "execution_count": 1,
   "id": "d124a531-e01d-46b6-8b54-c64cf384dd51",
   "metadata": {},
   "outputs": [],
   "source": [
    "import pandas as pd\n",
    "import numpy as np\n",
    "import matplotlib.pyplot as plt\n",
    "from sklearn.experimental import enable_iterative_imputer\n",
    "from sklearn.impute import IterativeImputer,KNNImputer,SimpleImputer\n",
    "import statistics\n",
    "from sklearn.linear_model import LinearRegression\n",
    "\n",
    "\n",
    "\n",
    "pd.set_option('display.max_columns', 200)\n",
    "pd.set_option('display.max_rows', 200)"
   ]
  },
  {
   "cell_type": "code",
   "execution_count": 2,
   "id": "2b81980f-32ec-4980-a7b6-6bc9469a502b",
   "metadata": {},
   "outputs": [],
   "source": [
    "cta = pd.read_csv('../capstone-data/CTA_-_Ridership_-_Daily_Boarding_Totals.csv')\n",
    "weather = pd.read_csv('../capstone-data/weather.csv')"
   ]
  },
  {
   "cell_type": "code",
   "execution_count": 3,
   "id": "098e5e91-2a1c-40f6-bc00-e956b6791524",
   "metadata": {},
   "outputs": [
    {
     "data": {
      "text/html": [
       "<div>\n",
       "<style scoped>\n",
       "    .dataframe tbody tr th:only-of-type {\n",
       "        vertical-align: middle;\n",
       "    }\n",
       "\n",
       "    .dataframe tbody tr th {\n",
       "        vertical-align: top;\n",
       "    }\n",
       "\n",
       "    .dataframe thead th {\n",
       "        text-align: right;\n",
       "    }\n",
       "</style>\n",
       "<table border=\"1\" class=\"dataframe\">\n",
       "  <thead>\n",
       "    <tr style=\"text-align: right;\">\n",
       "      <th></th>\n",
       "      <th>service_date</th>\n",
       "      <th>day_type</th>\n",
       "      <th>bus</th>\n",
       "      <th>rail_boardings</th>\n",
       "      <th>total_rides</th>\n",
       "    </tr>\n",
       "  </thead>\n",
       "  <tbody>\n",
       "    <tr>\n",
       "      <th>7696</th>\n",
       "      <td>11/26/2021</td>\n",
       "      <td>W</td>\n",
       "      <td>257700</td>\n",
       "      <td>189694</td>\n",
       "      <td>447394</td>\n",
       "    </tr>\n",
       "    <tr>\n",
       "      <th>7697</th>\n",
       "      <td>11/27/2021</td>\n",
       "      <td>A</td>\n",
       "      <td>237839</td>\n",
       "      <td>187065</td>\n",
       "      <td>424904</td>\n",
       "    </tr>\n",
       "    <tr>\n",
       "      <th>7698</th>\n",
       "      <td>11/28/2021</td>\n",
       "      <td>U</td>\n",
       "      <td>184817</td>\n",
       "      <td>147830</td>\n",
       "      <td>332647</td>\n",
       "    </tr>\n",
       "    <tr>\n",
       "      <th>7699</th>\n",
       "      <td>11/29/2021</td>\n",
       "      <td>W</td>\n",
       "      <td>421322</td>\n",
       "      <td>276090</td>\n",
       "      <td>697412</td>\n",
       "    </tr>\n",
       "    <tr>\n",
       "      <th>7700</th>\n",
       "      <td>11/30/2021</td>\n",
       "      <td>W</td>\n",
       "      <td>450230</td>\n",
       "      <td>302349</td>\n",
       "      <td>752579</td>\n",
       "    </tr>\n",
       "  </tbody>\n",
       "</table>\n",
       "</div>"
      ],
      "text/plain": [
       "     service_date day_type     bus  rail_boardings  total_rides\n",
       "7696   11/26/2021        W  257700          189694       447394\n",
       "7697   11/27/2021        A  237839          187065       424904\n",
       "7698   11/28/2021        U  184817          147830       332647\n",
       "7699   11/29/2021        W  421322          276090       697412\n",
       "7700   11/30/2021        W  450230          302349       752579"
      ]
     },
     "execution_count": 3,
     "metadata": {},
     "output_type": "execute_result"
    }
   ],
   "source": [
    "cta.tail()"
   ]
  },
  {
   "cell_type": "code",
   "execution_count": 4,
   "id": "59e6d8f2-ce7b-45c4-b582-61dc6e49091c",
   "metadata": {},
   "outputs": [],
   "source": [
    "cta.drop(columns={'day_type'},inplace=True)"
   ]
  },
  {
   "cell_type": "code",
   "execution_count": 5,
   "id": "bf65a282-b46b-45e5-a575-9771b96ac040",
   "metadata": {},
   "outputs": [
    {
     "data": {
      "text/plain": [
       "(7701, 4)"
      ]
     },
     "execution_count": 5,
     "metadata": {},
     "output_type": "execute_result"
    }
   ],
   "source": [
    "cta.shape"
   ]
  },
  {
   "cell_type": "code",
   "execution_count": 6,
   "id": "2ac1ec85-9783-44d0-973e-18e4fc56826c",
   "metadata": {},
   "outputs": [],
   "source": [
    "cta.rename(columns={'service_date':'date'},inplace=True)"
   ]
  },
  {
   "cell_type": "code",
   "execution_count": 7,
   "id": "fafd9bf3-86d4-4c53-bf04-81d035ee9fa7",
   "metadata": {},
   "outputs": [],
   "source": [
    "cta['date'] = pd.to_datetime(cta['date'])"
   ]
  },
  {
   "cell_type": "code",
   "execution_count": 8,
   "id": "1e7015fc-ab29-4c78-a82a-7b6a553a01d3",
   "metadata": {},
   "outputs": [],
   "source": [
    "cta.set_index('date',inplace=True)\n",
    "\n",
    "cta.sort_index(inplace=True)"
   ]
  },
  {
   "cell_type": "code",
   "execution_count": 9,
   "id": "c5d070eb-c168-4fec-b61a-2bd0f46e9c15",
   "metadata": {},
   "outputs": [
    {
     "data": {
      "text/plain": [
       "bus               int64\n",
       "rail_boardings    int64\n",
       "total_rides       int64\n",
       "dtype: object"
      ]
     },
     "execution_count": 9,
     "metadata": {},
     "output_type": "execute_result"
    }
   ],
   "source": [
    "cta.dtypes"
   ]
  },
  {
   "cell_type": "code",
   "execution_count": 10,
   "id": "29f5c31e-0cd5-447c-be14-b778c57d3d0a",
   "metadata": {},
   "outputs": [
    {
     "data": {
      "text/plain": [
       "bus               0\n",
       "rail_boardings    0\n",
       "total_rides       0\n",
       "dtype: int64"
      ]
     },
     "execution_count": 10,
     "metadata": {},
     "output_type": "execute_result"
    }
   ],
   "source": [
    "cta.isna().sum()"
   ]
  },
  {
   "cell_type": "code",
   "execution_count": 11,
   "id": "0a0a5d1d-8749-402e-83e5-6eb7a2ae8d2b",
   "metadata": {},
   "outputs": [
    {
     "data": {
      "text/plain": [
       "Index(['STATION', 'DATE', 'PRCP', 'SNOW', 'SNWD', 'TMAX', 'TMIN'], dtype='object')"
      ]
     },
     "execution_count": 11,
     "metadata": {},
     "output_type": "execute_result"
    }
   ],
   "source": [
    "weather.columns"
   ]
  },
  {
   "cell_type": "code",
   "execution_count": 12,
   "id": "85ac137b-a418-48a3-bbe9-c110d28bcffd",
   "metadata": {},
   "outputs": [
    {
     "data": {
      "text/html": [
       "<div>\n",
       "<style scoped>\n",
       "    .dataframe tbody tr th:only-of-type {\n",
       "        vertical-align: middle;\n",
       "    }\n",
       "\n",
       "    .dataframe tbody tr th {\n",
       "        vertical-align: top;\n",
       "    }\n",
       "\n",
       "    .dataframe thead th {\n",
       "        text-align: right;\n",
       "    }\n",
       "</style>\n",
       "<table border=\"1\" class=\"dataframe\">\n",
       "  <thead>\n",
       "    <tr style=\"text-align: right;\">\n",
       "      <th></th>\n",
       "      <th>station</th>\n",
       "      <th>date</th>\n",
       "      <th>prcp</th>\n",
       "      <th>snow</th>\n",
       "      <th>snwd</th>\n",
       "      <th>tmax</th>\n",
       "      <th>tmin</th>\n",
       "    </tr>\n",
       "  </thead>\n",
       "  <tbody>\n",
       "    <tr>\n",
       "      <th>0</th>\n",
       "      <td>USC00111577</td>\n",
       "      <td>1/1/01</td>\n",
       "      <td>0.0</td>\n",
       "      <td>0.0</td>\n",
       "      <td>16.0</td>\n",
       "      <td>26</td>\n",
       "      <td>13</td>\n",
       "    </tr>\n",
       "    <tr>\n",
       "      <th>1</th>\n",
       "      <td>USC00111577</td>\n",
       "      <td>1/2/01</td>\n",
       "      <td>0.0</td>\n",
       "      <td>0.0</td>\n",
       "      <td>15.0</td>\n",
       "      <td>21</td>\n",
       "      <td>7</td>\n",
       "    </tr>\n",
       "    <tr>\n",
       "      <th>2</th>\n",
       "      <td>USC00111577</td>\n",
       "      <td>1/3/01</td>\n",
       "      <td>0.0</td>\n",
       "      <td>0.0</td>\n",
       "      <td>15.0</td>\n",
       "      <td>28</td>\n",
       "      <td>7</td>\n",
       "    </tr>\n",
       "    <tr>\n",
       "      <th>3</th>\n",
       "      <td>USC00111577</td>\n",
       "      <td>1/4/01</td>\n",
       "      <td>0.0</td>\n",
       "      <td>0.0</td>\n",
       "      <td>14.0</td>\n",
       "      <td>32</td>\n",
       "      <td>23</td>\n",
       "    </tr>\n",
       "    <tr>\n",
       "      <th>4</th>\n",
       "      <td>USC00111577</td>\n",
       "      <td>1/5/01</td>\n",
       "      <td>0.0</td>\n",
       "      <td>0.0</td>\n",
       "      <td>12.0</td>\n",
       "      <td>37</td>\n",
       "      <td>24</td>\n",
       "    </tr>\n",
       "  </tbody>\n",
       "</table>\n",
       "</div>"
      ],
      "text/plain": [
       "       station    date  prcp  snow  snwd  tmax  tmin\n",
       "0  USC00111577  1/1/01   0.0   0.0  16.0    26    13\n",
       "1  USC00111577  1/2/01   0.0   0.0  15.0    21     7\n",
       "2  USC00111577  1/3/01   0.0   0.0  15.0    28     7\n",
       "3  USC00111577  1/4/01   0.0   0.0  14.0    32    23\n",
       "4  USC00111577  1/5/01   0.0   0.0  12.0    37    24"
      ]
     },
     "execution_count": 12,
     "metadata": {},
     "output_type": "execute_result"
    }
   ],
   "source": [
    "weather.columns = weather.columns.str.lower()\n",
    "weather.head()"
   ]
  },
  {
   "cell_type": "code",
   "execution_count": 13,
   "id": "79c5f281-7ad5-4994-9e4c-3d266928e57b",
   "metadata": {},
   "outputs": [
    {
     "data": {
      "text/plain": [
       "station     object\n",
       "date        object\n",
       "prcp       float64\n",
       "snow       float64\n",
       "snwd       float64\n",
       "tmax         int64\n",
       "tmin         int64\n",
       "dtype: object"
      ]
     },
     "execution_count": 13,
     "metadata": {},
     "output_type": "execute_result"
    }
   ],
   "source": [
    "weather.dtypes"
   ]
  },
  {
   "cell_type": "code",
   "execution_count": 14,
   "id": "4cc026cf-52d4-490d-a3e4-06e4f9c2c40a",
   "metadata": {},
   "outputs": [],
   "source": [
    "weather.drop(columns='station',inplace=True)"
   ]
  },
  {
   "cell_type": "code",
   "execution_count": 15,
   "id": "547ae970-5201-41bf-a489-4119440d718d",
   "metadata": {},
   "outputs": [],
   "source": [
    "weather['date'] = pd.to_datetime(weather['date'])"
   ]
  },
  {
   "cell_type": "code",
   "execution_count": 16,
   "id": "86ae795f-1a0c-4748-8387-a4fdda5b9201",
   "metadata": {},
   "outputs": [],
   "source": [
    "weather.set_index('date',inplace=True)\n",
    "\n",
    "weather.sort_index(inplace=True)"
   ]
  },
  {
   "cell_type": "code",
   "execution_count": 17,
   "id": "4b7753dc-e9ca-4c23-93e5-abd19fd1f526",
   "metadata": {},
   "outputs": [
    {
     "data": {
      "text/plain": [
       "prcp     21\n",
       "snow    123\n",
       "snwd    135\n",
       "tmax      0\n",
       "tmin      0\n",
       "dtype: int64"
      ]
     },
     "execution_count": 17,
     "metadata": {},
     "output_type": "execute_result"
    }
   ],
   "source": [
    "weather.isna().sum()"
   ]
  },
  {
   "cell_type": "code",
   "execution_count": 18,
   "id": "0036a847-6a2b-478b-a7e9-4f88ee8a05cc",
   "metadata": {},
   "outputs": [
    {
     "data": {
      "text/html": [
       "<div>\n",
       "<style scoped>\n",
       "    .dataframe tbody tr th:only-of-type {\n",
       "        vertical-align: middle;\n",
       "    }\n",
       "\n",
       "    .dataframe tbody tr th {\n",
       "        vertical-align: top;\n",
       "    }\n",
       "\n",
       "    .dataframe thead th {\n",
       "        text-align: right;\n",
       "    }\n",
       "</style>\n",
       "<table border=\"1\" class=\"dataframe\">\n",
       "  <thead>\n",
       "    <tr style=\"text-align: right;\">\n",
       "      <th></th>\n",
       "      <th>prcp</th>\n",
       "      <th>snow</th>\n",
       "      <th>snwd</th>\n",
       "      <th>tmax</th>\n",
       "      <th>tmin</th>\n",
       "    </tr>\n",
       "    <tr>\n",
       "      <th>date</th>\n",
       "      <th></th>\n",
       "      <th></th>\n",
       "      <th></th>\n",
       "      <th></th>\n",
       "      <th></th>\n",
       "    </tr>\n",
       "  </thead>\n",
       "  <tbody>\n",
       "    <tr>\n",
       "      <th>2021-11-11</th>\n",
       "      <td>NaN</td>\n",
       "      <td>0.0</td>\n",
       "      <td>0.0</td>\n",
       "      <td>58</td>\n",
       "      <td>38</td>\n",
       "    </tr>\n",
       "    <tr>\n",
       "      <th>2021-11-12</th>\n",
       "      <td>NaN</td>\n",
       "      <td>0.0</td>\n",
       "      <td>0.0</td>\n",
       "      <td>43</td>\n",
       "      <td>34</td>\n",
       "    </tr>\n",
       "    <tr>\n",
       "      <th>2021-11-14</th>\n",
       "      <td>NaN</td>\n",
       "      <td>0.0</td>\n",
       "      <td>0.0</td>\n",
       "      <td>38</td>\n",
       "      <td>34</td>\n",
       "    </tr>\n",
       "    <tr>\n",
       "      <th>2021-11-17</th>\n",
       "      <td>NaN</td>\n",
       "      <td>0.0</td>\n",
       "      <td>0.0</td>\n",
       "      <td>62</td>\n",
       "      <td>41</td>\n",
       "    </tr>\n",
       "    <tr>\n",
       "      <th>2021-11-21</th>\n",
       "      <td>NaN</td>\n",
       "      <td>0.0</td>\n",
       "      <td>0.0</td>\n",
       "      <td>55</td>\n",
       "      <td>30</td>\n",
       "    </tr>\n",
       "    <tr>\n",
       "      <th>2021-11-24</th>\n",
       "      <td>NaN</td>\n",
       "      <td>0.0</td>\n",
       "      <td>0.0</td>\n",
       "      <td>53</td>\n",
       "      <td>37</td>\n",
       "    </tr>\n",
       "    <tr>\n",
       "      <th>2021-12-05</th>\n",
       "      <td>NaN</td>\n",
       "      <td>0.0</td>\n",
       "      <td>0.0</td>\n",
       "      <td>43</td>\n",
       "      <td>35</td>\n",
       "    </tr>\n",
       "    <tr>\n",
       "      <th>2021-12-10</th>\n",
       "      <td>NaN</td>\n",
       "      <td>0.0</td>\n",
       "      <td>0.0</td>\n",
       "      <td>61</td>\n",
       "      <td>33</td>\n",
       "    </tr>\n",
       "    <tr>\n",
       "      <th>2021-12-18</th>\n",
       "      <td>NaN</td>\n",
       "      <td>0.0</td>\n",
       "      <td>0.0</td>\n",
       "      <td>42</td>\n",
       "      <td>33</td>\n",
       "    </tr>\n",
       "    <tr>\n",
       "      <th>2021-12-25</th>\n",
       "      <td>NaN</td>\n",
       "      <td>0.0</td>\n",
       "      <td>0.0</td>\n",
       "      <td>59</td>\n",
       "      <td>35</td>\n",
       "    </tr>\n",
       "    <tr>\n",
       "      <th>2021-12-26</th>\n",
       "      <td>NaN</td>\n",
       "      <td>0.0</td>\n",
       "      <td>0.0</td>\n",
       "      <td>44</td>\n",
       "      <td>30</td>\n",
       "    </tr>\n",
       "    <tr>\n",
       "      <th>2021-12-27</th>\n",
       "      <td>NaN</td>\n",
       "      <td>0.0</td>\n",
       "      <td>0.0</td>\n",
       "      <td>48</td>\n",
       "      <td>34</td>\n",
       "    </tr>\n",
       "    <tr>\n",
       "      <th>2021-12-29</th>\n",
       "      <td>NaN</td>\n",
       "      <td>0.2</td>\n",
       "      <td>0.0</td>\n",
       "      <td>39</td>\n",
       "      <td>32</td>\n",
       "    </tr>\n",
       "    <tr>\n",
       "      <th>2022-01-01</th>\n",
       "      <td>NaN</td>\n",
       "      <td>3.2</td>\n",
       "      <td>3.0</td>\n",
       "      <td>33</td>\n",
       "      <td>31</td>\n",
       "    </tr>\n",
       "    <tr>\n",
       "      <th>2022-01-02</th>\n",
       "      <td>NaN</td>\n",
       "      <td>1.0</td>\n",
       "      <td>3.0</td>\n",
       "      <td>32</td>\n",
       "      <td>16</td>\n",
       "    </tr>\n",
       "    <tr>\n",
       "      <th>2022-01-14</th>\n",
       "      <td>NaN</td>\n",
       "      <td>0.4</td>\n",
       "      <td>1.0</td>\n",
       "      <td>38</td>\n",
       "      <td>28</td>\n",
       "    </tr>\n",
       "    <tr>\n",
       "      <th>2022-01-15</th>\n",
       "      <td>NaN</td>\n",
       "      <td>0.4</td>\n",
       "      <td>1.0</td>\n",
       "      <td>28</td>\n",
       "      <td>21</td>\n",
       "    </tr>\n",
       "    <tr>\n",
       "      <th>2022-01-16</th>\n",
       "      <td>NaN</td>\n",
       "      <td>0.2</td>\n",
       "      <td>1.0</td>\n",
       "      <td>30</td>\n",
       "      <td>14</td>\n",
       "    </tr>\n",
       "    <tr>\n",
       "      <th>2022-01-22</th>\n",
       "      <td>NaN</td>\n",
       "      <td>0.2</td>\n",
       "      <td>0.0</td>\n",
       "      <td>36</td>\n",
       "      <td>20</td>\n",
       "    </tr>\n",
       "    <tr>\n",
       "      <th>2022-01-23</th>\n",
       "      <td>NaN</td>\n",
       "      <td>3.6</td>\n",
       "      <td>NaN</td>\n",
       "      <td>25</td>\n",
       "      <td>10</td>\n",
       "    </tr>\n",
       "    <tr>\n",
       "      <th>2022-01-24</th>\n",
       "      <td>NaN</td>\n",
       "      <td>2.0</td>\n",
       "      <td>NaN</td>\n",
       "      <td>29</td>\n",
       "      <td>13</td>\n",
       "    </tr>\n",
       "  </tbody>\n",
       "</table>\n",
       "</div>"
      ],
      "text/plain": [
       "            prcp  snow  snwd  tmax  tmin\n",
       "date                                    \n",
       "2021-11-11   NaN   0.0   0.0    58    38\n",
       "2021-11-12   NaN   0.0   0.0    43    34\n",
       "2021-11-14   NaN   0.0   0.0    38    34\n",
       "2021-11-17   NaN   0.0   0.0    62    41\n",
       "2021-11-21   NaN   0.0   0.0    55    30\n",
       "2021-11-24   NaN   0.0   0.0    53    37\n",
       "2021-12-05   NaN   0.0   0.0    43    35\n",
       "2021-12-10   NaN   0.0   0.0    61    33\n",
       "2021-12-18   NaN   0.0   0.0    42    33\n",
       "2021-12-25   NaN   0.0   0.0    59    35\n",
       "2021-12-26   NaN   0.0   0.0    44    30\n",
       "2021-12-27   NaN   0.0   0.0    48    34\n",
       "2021-12-29   NaN   0.2   0.0    39    32\n",
       "2022-01-01   NaN   3.2   3.0    33    31\n",
       "2022-01-02   NaN   1.0   3.0    32    16\n",
       "2022-01-14   NaN   0.4   1.0    38    28\n",
       "2022-01-15   NaN   0.4   1.0    28    21\n",
       "2022-01-16   NaN   0.2   1.0    30    14\n",
       "2022-01-22   NaN   0.2   0.0    36    20\n",
       "2022-01-23   NaN   3.6   NaN    25    10\n",
       "2022-01-24   NaN   2.0   NaN    29    13"
      ]
     },
     "execution_count": 18,
     "metadata": {},
     "output_type": "execute_result"
    }
   ],
   "source": [
    "weather.loc[weather['prcp'].isna()==True]"
   ]
  },
  {
   "cell_type": "code",
   "execution_count": 19,
   "id": "6feda2fb-4bb9-464f-9c97-d9e53caea1a8",
   "metadata": {},
   "outputs": [],
   "source": [
    "weather = weather.fillna(0)"
   ]
  },
  {
   "cell_type": "code",
   "execution_count": 20,
   "id": "6ff93c20-495c-4b90-8776-90d58e6f6be6",
   "metadata": {},
   "outputs": [
    {
     "data": {
      "text/plain": [
       "prcp    0\n",
       "snow    0\n",
       "snwd    0\n",
       "tmax    0\n",
       "tmin    0\n",
       "dtype: int64"
      ]
     },
     "execution_count": 20,
     "metadata": {},
     "output_type": "execute_result"
    }
   ],
   "source": [
    "weather.isna().sum()"
   ]
  },
  {
   "cell_type": "code",
   "execution_count": 21,
   "id": "67d930b8-1182-4cfd-bd89-991a6e3b8e7a",
   "metadata": {},
   "outputs": [
    {
     "data": {
      "text/plain": [
       "bus               0\n",
       "rail_boardings    0\n",
       "total_rides       0\n",
       "dtype: int64"
      ]
     },
     "execution_count": 21,
     "metadata": {},
     "output_type": "execute_result"
    }
   ],
   "source": [
    "cta.isna().sum()"
   ]
  },
  {
   "cell_type": "code",
   "execution_count": 22,
   "id": "663d2969-4b93-41b1-92b6-d7cc55f64523",
   "metadata": {},
   "outputs": [
    {
     "data": {
      "text/plain": [
       "((7701, 3), (7694, 5))"
      ]
     },
     "execution_count": 22,
     "metadata": {},
     "output_type": "execute_result"
    }
   ],
   "source": [
    "cta.shape, weather.shape"
   ]
  },
  {
   "cell_type": "code",
   "execution_count": 23,
   "id": "d1390a30-5140-45fc-8226-e54f06c5d80e",
   "metadata": {},
   "outputs": [
    {
     "data": {
      "text/html": [
       "<div>\n",
       "<style scoped>\n",
       "    .dataframe tbody tr th:only-of-type {\n",
       "        vertical-align: middle;\n",
       "    }\n",
       "\n",
       "    .dataframe tbody tr th {\n",
       "        vertical-align: top;\n",
       "    }\n",
       "\n",
       "    .dataframe thead th {\n",
       "        text-align: right;\n",
       "    }\n",
       "</style>\n",
       "<table border=\"1\" class=\"dataframe\">\n",
       "  <thead>\n",
       "    <tr style=\"text-align: right;\">\n",
       "      <th></th>\n",
       "      <th>bus</th>\n",
       "      <th>rail_boardings</th>\n",
       "      <th>total_rides</th>\n",
       "      <th>prcp</th>\n",
       "      <th>snow</th>\n",
       "      <th>snwd</th>\n",
       "      <th>tmax</th>\n",
       "      <th>tmin</th>\n",
       "    </tr>\n",
       "    <tr>\n",
       "      <th>date</th>\n",
       "      <th></th>\n",
       "      <th></th>\n",
       "      <th></th>\n",
       "      <th></th>\n",
       "      <th></th>\n",
       "      <th></th>\n",
       "      <th></th>\n",
       "      <th></th>\n",
       "    </tr>\n",
       "  </thead>\n",
       "  <tbody>\n",
       "    <tr>\n",
       "      <th>2001-01-01</th>\n",
       "      <td>297192.0</td>\n",
       "      <td>126455.0</td>\n",
       "      <td>423647.0</td>\n",
       "      <td>0.0</td>\n",
       "      <td>0.0</td>\n",
       "      <td>16.0</td>\n",
       "      <td>26</td>\n",
       "      <td>13</td>\n",
       "    </tr>\n",
       "    <tr>\n",
       "      <th>2001-01-02</th>\n",
       "      <td>780827.0</td>\n",
       "      <td>501952.0</td>\n",
       "      <td>1282779.0</td>\n",
       "      <td>0.0</td>\n",
       "      <td>0.0</td>\n",
       "      <td>15.0</td>\n",
       "      <td>21</td>\n",
       "      <td>7</td>\n",
       "    </tr>\n",
       "    <tr>\n",
       "      <th>2001-01-03</th>\n",
       "      <td>824923.0</td>\n",
       "      <td>536432.0</td>\n",
       "      <td>1361355.0</td>\n",
       "      <td>0.0</td>\n",
       "      <td>0.0</td>\n",
       "      <td>15.0</td>\n",
       "      <td>28</td>\n",
       "      <td>7</td>\n",
       "    </tr>\n",
       "    <tr>\n",
       "      <th>2001-01-04</th>\n",
       "      <td>870021.0</td>\n",
       "      <td>550011.0</td>\n",
       "      <td>1420032.0</td>\n",
       "      <td>0.0</td>\n",
       "      <td>0.0</td>\n",
       "      <td>14.0</td>\n",
       "      <td>32</td>\n",
       "      <td>23</td>\n",
       "    </tr>\n",
       "    <tr>\n",
       "      <th>2001-01-05</th>\n",
       "      <td>890426.0</td>\n",
       "      <td>557917.0</td>\n",
       "      <td>1448343.0</td>\n",
       "      <td>0.0</td>\n",
       "      <td>0.0</td>\n",
       "      <td>12.0</td>\n",
       "      <td>37</td>\n",
       "      <td>24</td>\n",
       "    </tr>\n",
       "    <tr>\n",
       "      <th>...</th>\n",
       "      <td>...</td>\n",
       "      <td>...</td>\n",
       "      <td>...</td>\n",
       "      <td>...</td>\n",
       "      <td>...</td>\n",
       "      <td>...</td>\n",
       "      <td>...</td>\n",
       "      <td>...</td>\n",
       "    </tr>\n",
       "    <tr>\n",
       "      <th>2022-01-20</th>\n",
       "      <td>NaN</td>\n",
       "      <td>NaN</td>\n",
       "      <td>NaN</td>\n",
       "      <td>0.0</td>\n",
       "      <td>0.0</td>\n",
       "      <td>0.0</td>\n",
       "      <td>22</td>\n",
       "      <td>9</td>\n",
       "    </tr>\n",
       "    <tr>\n",
       "      <th>2022-01-21</th>\n",
       "      <td>NaN</td>\n",
       "      <td>NaN</td>\n",
       "      <td>NaN</td>\n",
       "      <td>0.0</td>\n",
       "      <td>0.0</td>\n",
       "      <td>0.0</td>\n",
       "      <td>27</td>\n",
       "      <td>10</td>\n",
       "    </tr>\n",
       "    <tr>\n",
       "      <th>2022-01-22</th>\n",
       "      <td>NaN</td>\n",
       "      <td>NaN</td>\n",
       "      <td>NaN</td>\n",
       "      <td>0.0</td>\n",
       "      <td>0.2</td>\n",
       "      <td>0.0</td>\n",
       "      <td>36</td>\n",
       "      <td>20</td>\n",
       "    </tr>\n",
       "    <tr>\n",
       "      <th>2022-01-23</th>\n",
       "      <td>NaN</td>\n",
       "      <td>NaN</td>\n",
       "      <td>NaN</td>\n",
       "      <td>0.0</td>\n",
       "      <td>3.6</td>\n",
       "      <td>0.0</td>\n",
       "      <td>25</td>\n",
       "      <td>10</td>\n",
       "    </tr>\n",
       "    <tr>\n",
       "      <th>2022-01-24</th>\n",
       "      <td>NaN</td>\n",
       "      <td>NaN</td>\n",
       "      <td>NaN</td>\n",
       "      <td>0.0</td>\n",
       "      <td>2.0</td>\n",
       "      <td>0.0</td>\n",
       "      <td>29</td>\n",
       "      <td>13</td>\n",
       "    </tr>\n",
       "  </tbody>\n",
       "</table>\n",
       "<p>7756 rows × 8 columns</p>\n",
       "</div>"
      ],
      "text/plain": [
       "                 bus  rail_boardings  total_rides  prcp  snow  snwd  tmax  \\\n",
       "date                                                                        \n",
       "2001-01-01  297192.0        126455.0     423647.0   0.0   0.0  16.0    26   \n",
       "2001-01-02  780827.0        501952.0    1282779.0   0.0   0.0  15.0    21   \n",
       "2001-01-03  824923.0        536432.0    1361355.0   0.0   0.0  15.0    28   \n",
       "2001-01-04  870021.0        550011.0    1420032.0   0.0   0.0  14.0    32   \n",
       "2001-01-05  890426.0        557917.0    1448343.0   0.0   0.0  12.0    37   \n",
       "...              ...             ...          ...   ...   ...   ...   ...   \n",
       "2022-01-20       NaN             NaN          NaN   0.0   0.0   0.0    22   \n",
       "2022-01-21       NaN             NaN          NaN   0.0   0.0   0.0    27   \n",
       "2022-01-22       NaN             NaN          NaN   0.0   0.2   0.0    36   \n",
       "2022-01-23       NaN             NaN          NaN   0.0   3.6   0.0    25   \n",
       "2022-01-24       NaN             NaN          NaN   0.0   2.0   0.0    29   \n",
       "\n",
       "            tmin  \n",
       "date              \n",
       "2001-01-01    13  \n",
       "2001-01-02     7  \n",
       "2001-01-03     7  \n",
       "2001-01-04    23  \n",
       "2001-01-05    24  \n",
       "...          ...  \n",
       "2022-01-20     9  \n",
       "2022-01-21    10  \n",
       "2022-01-22    20  \n",
       "2022-01-23    10  \n",
       "2022-01-24    13  \n",
       "\n",
       "[7756 rows x 8 columns]"
      ]
     },
     "execution_count": 23,
     "metadata": {},
     "output_type": "execute_result"
    }
   ],
   "source": [
    "daily = cta.merge(weather, how='outer', left_index=True, right_index=True)\n",
    "daily"
   ]
  },
  {
   "cell_type": "code",
   "execution_count": 24,
   "id": "1cde187a-d8cd-4b7a-97c4-a5ffca57644e",
   "metadata": {},
   "outputs": [],
   "source": [
    "gas = pd.read_excel('../capstone-data/gasoline_stocks.xlsx')"
   ]
  },
  {
   "cell_type": "code",
   "execution_count": 25,
   "id": "1585f535-e91e-4b31-9a1e-f50e092c6543",
   "metadata": {},
   "outputs": [
    {
     "data": {
      "text/html": [
       "<div>\n",
       "<style scoped>\n",
       "    .dataframe tbody tr th:only-of-type {\n",
       "        vertical-align: middle;\n",
       "    }\n",
       "\n",
       "    .dataframe tbody tr th {\n",
       "        vertical-align: top;\n",
       "    }\n",
       "\n",
       "    .dataframe thead th {\n",
       "        text-align: right;\n",
       "    }\n",
       "</style>\n",
       "<table border=\"1\" class=\"dataframe\">\n",
       "  <thead>\n",
       "    <tr style=\"text-align: right;\">\n",
       "      <th></th>\n",
       "      <th>Date</th>\n",
       "      <th>Open</th>\n",
       "      <th>High</th>\n",
       "      <th>Low</th>\n",
       "      <th>Close*</th>\n",
       "      <th>Adj Close**</th>\n",
       "      <th>Volume</th>\n",
       "    </tr>\n",
       "  </thead>\n",
       "  <tbody>\n",
       "    <tr>\n",
       "      <th>0</th>\n",
       "      <td>2022-01-31</td>\n",
       "      <td>2.5599</td>\n",
       "      <td>2.5741</td>\n",
       "      <td>2.5388</td>\n",
       "      <td>2.5543</td>\n",
       "      <td>2.5543</td>\n",
       "      <td>22434</td>\n",
       "    </tr>\n",
       "    <tr>\n",
       "      <th>1</th>\n",
       "      <td>2022-01-28</td>\n",
       "      <td>2.5608</td>\n",
       "      <td>2.5798</td>\n",
       "      <td>2.5244</td>\n",
       "      <td>2.5423</td>\n",
       "      <td>2.5423</td>\n",
       "      <td>23546</td>\n",
       "    </tr>\n",
       "    <tr>\n",
       "      <th>2</th>\n",
       "      <td>2022-01-27</td>\n",
       "      <td>2.5223</td>\n",
       "      <td>2.57</td>\n",
       "      <td>2.51</td>\n",
       "      <td>2.521</td>\n",
       "      <td>2.521</td>\n",
       "      <td>23546</td>\n",
       "    </tr>\n",
       "    <tr>\n",
       "      <th>3</th>\n",
       "      <td>2022-01-26</td>\n",
       "      <td>2.4552</td>\n",
       "      <td>2.5347</td>\n",
       "      <td>2.4533</td>\n",
       "      <td>2.5229</td>\n",
       "      <td>2.5229</td>\n",
       "      <td>35505</td>\n",
       "    </tr>\n",
       "    <tr>\n",
       "      <th>4</th>\n",
       "      <td>2022-01-25</td>\n",
       "      <td>2.4215</td>\n",
       "      <td>2.465</td>\n",
       "      <td>2.4023</td>\n",
       "      <td>2.4595</td>\n",
       "      <td>2.4595</td>\n",
       "      <td>30337</td>\n",
       "    </tr>\n",
       "    <tr>\n",
       "      <th>...</th>\n",
       "      <td>...</td>\n",
       "      <td>...</td>\n",
       "      <td>...</td>\n",
       "      <td>...</td>\n",
       "      <td>...</td>\n",
       "      <td>...</td>\n",
       "      <td>...</td>\n",
       "    </tr>\n",
       "    <tr>\n",
       "      <th>5361</th>\n",
       "      <td>2001-01-08</td>\n",
       "      <td>0.827</td>\n",
       "      <td>0.853</td>\n",
       "      <td>0.825</td>\n",
       "      <td>0.835</td>\n",
       "      <td>0.835</td>\n",
       "      <td>24057</td>\n",
       "    </tr>\n",
       "    <tr>\n",
       "      <th>5362</th>\n",
       "      <td>2001-01-05</td>\n",
       "      <td>0.815</td>\n",
       "      <td>0.838</td>\n",
       "      <td>0.814</td>\n",
       "      <td>0.8205</td>\n",
       "      <td>0.8205</td>\n",
       "      <td>18617</td>\n",
       "    </tr>\n",
       "    <tr>\n",
       "      <th>5363</th>\n",
       "      <td>2001-01-04</td>\n",
       "      <td>0.815</td>\n",
       "      <td>0.83</td>\n",
       "      <td>0.813</td>\n",
       "      <td>0.8186</td>\n",
       "      <td>0.8186</td>\n",
       "      <td>17869</td>\n",
       "    </tr>\n",
       "    <tr>\n",
       "      <th>5364</th>\n",
       "      <td>2001-01-03</td>\n",
       "      <td>0.799</td>\n",
       "      <td>0.812</td>\n",
       "      <td>0.792</td>\n",
       "      <td>0.81</td>\n",
       "      <td>0.81</td>\n",
       "      <td>10219</td>\n",
       "    </tr>\n",
       "    <tr>\n",
       "      <th>5365</th>\n",
       "      <td>2001-01-02</td>\n",
       "      <td>0.794</td>\n",
       "      <td>0.804</td>\n",
       "      <td>0.78</td>\n",
       "      <td>0.795</td>\n",
       "      <td>0.795</td>\n",
       "      <td>14697</td>\n",
       "    </tr>\n",
       "  </tbody>\n",
       "</table>\n",
       "<p>5366 rows × 7 columns</p>\n",
       "</div>"
      ],
      "text/plain": [
       "           Date    Open    High     Low  Close* Adj Close** Volume\n",
       "0    2022-01-31  2.5599  2.5741  2.5388  2.5543      2.5543  22434\n",
       "1    2022-01-28  2.5608  2.5798  2.5244  2.5423      2.5423  23546\n",
       "2    2022-01-27  2.5223    2.57    2.51   2.521       2.521  23546\n",
       "3    2022-01-26  2.4552  2.5347  2.4533  2.5229      2.5229  35505\n",
       "4    2022-01-25  2.4215   2.465  2.4023  2.4595      2.4595  30337\n",
       "...         ...     ...     ...     ...     ...         ...    ...\n",
       "5361 2001-01-08   0.827   0.853   0.825   0.835       0.835  24057\n",
       "5362 2001-01-05   0.815   0.838   0.814  0.8205      0.8205  18617\n",
       "5363 2001-01-04   0.815    0.83   0.813  0.8186      0.8186  17869\n",
       "5364 2001-01-03   0.799   0.812   0.792    0.81        0.81  10219\n",
       "5365 2001-01-02   0.794   0.804    0.78   0.795       0.795  14697\n",
       "\n",
       "[5366 rows x 7 columns]"
      ]
     },
     "execution_count": 25,
     "metadata": {},
     "output_type": "execute_result"
    }
   ],
   "source": [
    "gas"
   ]
  },
  {
   "cell_type": "code",
   "execution_count": 26,
   "id": "38faa222-cc5b-469e-856b-da09c9b1777f",
   "metadata": {},
   "outputs": [
    {
     "data": {
      "text/plain": [
       "Date           datetime64[ns]\n",
       "Open                   object\n",
       "High                   object\n",
       "Low                    object\n",
       "Close*                 object\n",
       "Adj Close**            object\n",
       "Volume                 object\n",
       "dtype: object"
      ]
     },
     "execution_count": 26,
     "metadata": {},
     "output_type": "execute_result"
    }
   ],
   "source": [
    "gas.dtypes"
   ]
  },
  {
   "cell_type": "code",
   "execution_count": 27,
   "id": "cee836c4-41a0-4da7-8e26-c53acb61a9f4",
   "metadata": {},
   "outputs": [
    {
     "data": {
      "text/plain": [
       "Date           0\n",
       "Open           0\n",
       "High           0\n",
       "Low            0\n",
       "Close*         0\n",
       "Adj Close**    0\n",
       "Volume         0\n",
       "dtype: int64"
      ]
     },
     "execution_count": 27,
     "metadata": {},
     "output_type": "execute_result"
    }
   ],
   "source": [
    "gas.isna().sum()"
   ]
  },
  {
   "cell_type": "code",
   "execution_count": 28,
   "id": "a0691ce3-3a10-4b9e-87e7-7b5b351a5c60",
   "metadata": {},
   "outputs": [],
   "source": [
    "gas.columns = gas.columns.str.lower()"
   ]
  },
  {
   "cell_type": "code",
   "execution_count": 29,
   "id": "6b378905-d47c-4653-94c0-727b53f873f1",
   "metadata": {},
   "outputs": [],
   "source": [
    "gas.set_index('date',inplace=True)\n",
    "\n",
    "gas.sort_index(inplace=True)"
   ]
  },
  {
   "cell_type": "code",
   "execution_count": 30,
   "id": "c007bc25-8b99-458f-83a5-bdab791060cb",
   "metadata": {},
   "outputs": [],
   "source": [
    "gas.replace('-',np.nan,inplace=True)"
   ]
  },
  {
   "cell_type": "code",
   "execution_count": 31,
   "id": "e6d04902-513d-4f18-a130-b5090dd85c46",
   "metadata": {},
   "outputs": [
    {
     "data": {
      "text/plain": [
       "open            69\n",
       "high            69\n",
       "low             69\n",
       "close*          69\n",
       "adj close**     69\n",
       "volume         142\n",
       "dtype: int64"
      ]
     },
     "execution_count": 31,
     "metadata": {},
     "output_type": "execute_result"
    }
   ],
   "source": [
    "gas.isna().sum()"
   ]
  },
  {
   "cell_type": "code",
   "execution_count": 32,
   "id": "86a5af92-3134-43ff-be58-c8b123d26518",
   "metadata": {},
   "outputs": [
    {
     "data": {
      "text/html": [
       "<div>\n",
       "<style scoped>\n",
       "    .dataframe tbody tr th:only-of-type {\n",
       "        vertical-align: middle;\n",
       "    }\n",
       "\n",
       "    .dataframe tbody tr th {\n",
       "        vertical-align: top;\n",
       "    }\n",
       "\n",
       "    .dataframe thead th {\n",
       "        text-align: right;\n",
       "    }\n",
       "</style>\n",
       "<table border=\"1\" class=\"dataframe\">\n",
       "  <thead>\n",
       "    <tr style=\"text-align: right;\">\n",
       "      <th></th>\n",
       "      <th>open</th>\n",
       "      <th>high</th>\n",
       "      <th>low</th>\n",
       "      <th>close*</th>\n",
       "      <th>adj close**</th>\n",
       "      <th>volume</th>\n",
       "    </tr>\n",
       "    <tr>\n",
       "      <th>date</th>\n",
       "      <th></th>\n",
       "      <th></th>\n",
       "      <th></th>\n",
       "      <th></th>\n",
       "      <th></th>\n",
       "      <th></th>\n",
       "    </tr>\n",
       "  </thead>\n",
       "  <tbody>\n",
       "    <tr>\n",
       "      <th>2001-01-15</th>\n",
       "      <td>NaN</td>\n",
       "      <td>NaN</td>\n",
       "      <td>NaN</td>\n",
       "      <td>NaN</td>\n",
       "      <td>NaN</td>\n",
       "      <td>NaN</td>\n",
       "    </tr>\n",
       "    <tr>\n",
       "      <th>2001-01-29</th>\n",
       "      <td>0.891</td>\n",
       "      <td>0.895</td>\n",
       "      <td>0.870</td>\n",
       "      <td>0.877</td>\n",
       "      <td>0.877</td>\n",
       "      <td>NaN</td>\n",
       "    </tr>\n",
       "    <tr>\n",
       "      <th>2001-02-19</th>\n",
       "      <td>NaN</td>\n",
       "      <td>NaN</td>\n",
       "      <td>NaN</td>\n",
       "      <td>NaN</td>\n",
       "      <td>NaN</td>\n",
       "      <td>NaN</td>\n",
       "    </tr>\n",
       "    <tr>\n",
       "      <th>2001-03-13</th>\n",
       "      <td>0.875</td>\n",
       "      <td>0.892</td>\n",
       "      <td>0.873</td>\n",
       "      <td>0.885</td>\n",
       "      <td>0.885</td>\n",
       "      <td>NaN</td>\n",
       "    </tr>\n",
       "    <tr>\n",
       "      <th>2001-04-12</th>\n",
       "      <td>NaN</td>\n",
       "      <td>NaN</td>\n",
       "      <td>NaN</td>\n",
       "      <td>NaN</td>\n",
       "      <td>NaN</td>\n",
       "      <td>NaN</td>\n",
       "    </tr>\n",
       "  </tbody>\n",
       "</table>\n",
       "</div>"
      ],
      "text/plain": [
       "             open   high    low  close*  adj close**  volume\n",
       "date                                                        \n",
       "2001-01-15    NaN    NaN    NaN     NaN          NaN     NaN\n",
       "2001-01-29  0.891  0.895  0.870   0.877        0.877     NaN\n",
       "2001-02-19    NaN    NaN    NaN     NaN          NaN     NaN\n",
       "2001-03-13  0.875  0.892  0.873   0.885        0.885     NaN\n",
       "2001-04-12    NaN    NaN    NaN     NaN          NaN     NaN"
      ]
     },
     "execution_count": 32,
     "metadata": {},
     "output_type": "execute_result"
    }
   ],
   "source": [
    "gas.loc[gas['volume'].isna()==True].head()"
   ]
  },
  {
   "cell_type": "code",
   "execution_count": 33,
   "id": "d964cf87-8e58-41b2-8968-e2fac744b228",
   "metadata": {},
   "outputs": [],
   "source": [
    "# Code written by Hank Butler\n",
    "def compare_histograms(imputed_column, original_column, x_label, y_label = 'Frequency'):\n",
    "    fig, (ax0, ax1) = plt.subplots(nrows = 2, ncols = 1, figsize = (16,9))\n",
    "\n",
    "    # Set axes of histograms.\n",
    "    mode = statistics.mode(imputed_column)\n",
    "    rnge = max(original_column) - min(original_column)\n",
    "    xmin = min(original_column) - 0.02 * rnge\n",
    "    xmax = max(original_column) + 0.02 * rnge\n",
    "    ymax = 40\n",
    "\n",
    "    ax0.set_xlim(xmin, xmax)\n",
    "    ax0.set_ylim(0, ymax)\n",
    "    ax1.set_xlim(xmin, xmax)\n",
    "    ax1.set_ylim(0, ymax)\n",
    "\n",
    "    # Set top labels.\n",
    "    ax0.set_title('Real Histogram', position = (0,1), ha = 'left', fontsize = 25)\n",
    "    ax0.set_xlabel(x_label, position = (0,0), ha = 'left', fontsize = 25, color = 'grey', alpha = 0.85)\n",
    "    ax0.set_ylabel(y_label, position = (0,1), ha = 'right', va = 'top', fontsize = 25, rotation = 0, color = 'grey', alpha = 0.85)\n",
    "    ax0.set_xticks([])\n",
    "    ax0.set_yticks([])\n",
    "\n",
    "    # Generate top histogram.\n",
    "    ax0.hist(original_column, bins = 15, color = '#185fad', alpha = 0.75, label = '')\n",
    "    ax0.axvline(np.mean(original_column), color = '#185fad', lw = 5, label = 'True Mean')\n",
    "    ax0.legend(prop={'size': 15}, loc = 1)\n",
    "\n",
    "    # Set bottom labels.\n",
    "    ax1.set_title('Imputed Histogram', position = (0,1), ha = 'left', fontsize = 25)\n",
    "    ax1.set_xlabel(x_label, position = (0,0), ha = 'left', fontsize = 25, color = 'grey', alpha = 0.85)\n",
    "    ax1.set_ylabel(y_label, position = (0,1), ha = 'right', va = 'top', fontsize = 25, rotation = 0, color = 'grey', alpha = 0.85)\n",
    "    ax1.set_xticks([])\n",
    "    ax1.set_yticks([])\n",
    "    \n",
    "    # Generate bottom histogram.\n",
    "    ax1.hist(imputed_column, bins = 15, color = 'orange', alpha = 0.75, label = '', stacked = True)\n",
    "    ax1.axvline(np.mean(original_column), color = '#185fad', lw = 5, label = 'True Mean')\n",
    "    ax1.axvline(np.mean(imputed_column), color = 'darkorange', lw = 2, label = 'Imputed Mean')\n",
    "    ax1.legend(prop={'size': 15}, loc = 1)\n",
    "\n",
    "    plt.tight_layout();"
   ]
  },
  {
   "cell_type": "code",
   "execution_count": 34,
   "id": "fdacdb14-2e6b-40b8-99da-a6e7426a0819",
   "metadata": {},
   "outputs": [
    {
     "data": {
      "text/html": [
       "<div>\n",
       "<style scoped>\n",
       "    .dataframe tbody tr th:only-of-type {\n",
       "        vertical-align: middle;\n",
       "    }\n",
       "\n",
       "    .dataframe tbody tr th {\n",
       "        vertical-align: top;\n",
       "    }\n",
       "\n",
       "    .dataframe thead th {\n",
       "        text-align: right;\n",
       "    }\n",
       "</style>\n",
       "<table border=\"1\" class=\"dataframe\">\n",
       "  <thead>\n",
       "    <tr style=\"text-align: right;\">\n",
       "      <th></th>\n",
       "      <th>open</th>\n",
       "      <th>high</th>\n",
       "      <th>low</th>\n",
       "      <th>close*</th>\n",
       "      <th>adj close**</th>\n",
       "      <th>volume</th>\n",
       "    </tr>\n",
       "    <tr>\n",
       "      <th>date</th>\n",
       "      <th></th>\n",
       "      <th></th>\n",
       "      <th></th>\n",
       "      <th></th>\n",
       "      <th></th>\n",
       "      <th></th>\n",
       "    </tr>\n",
       "  </thead>\n",
       "  <tbody>\n",
       "    <tr>\n",
       "      <th>2001-01-02</th>\n",
       "      <td>0.794</td>\n",
       "      <td>0.804</td>\n",
       "      <td>0.78</td>\n",
       "      <td>0.795</td>\n",
       "      <td>0.795</td>\n",
       "      <td>14697.0</td>\n",
       "    </tr>\n",
       "  </tbody>\n",
       "</table>\n",
       "</div>"
      ],
      "text/plain": [
       "             open   high   low  close*  adj close**   volume\n",
       "date                                                        \n",
       "2001-01-02  0.794  0.804  0.78   0.795        0.795  14697.0"
      ]
     },
     "execution_count": 34,
     "metadata": {},
     "output_type": "execute_result"
    }
   ],
   "source": [
    "gas.head(1)"
   ]
  },
  {
   "cell_type": "code",
   "execution_count": 35,
   "id": "8f3a8dc4-2776-4d9a-8f6f-a26289958194",
   "metadata": {},
   "outputs": [],
   "source": [
    "gas_imp = gas.copy()"
   ]
  },
  {
   "cell_type": "code",
   "execution_count": 36,
   "id": "2046e9d3-32b4-430f-9fdc-32b058c87eae",
   "metadata": {},
   "outputs": [
    {
     "data": {
      "image/png": "[encoded data removed]",
      "text/plain": [
       "<Figure size 1152x648 with 2 Axes>"
      ]
     },
     "metadata": {},
     "output_type": "display_data"
    }
   ],
   "source": [
    "# imp = SimpleImputer(strategy = 'mean')\n",
    "\n",
    "# imp_income_missing = imp.fit_transform(gas_imp)\n",
    "\n",
    "# imp_income_missing = pd.DataFrame(imp_income_missing,\n",
    "#                                       columns = gas_imp.columns)\n",
    "\n",
    "# compare_histograms(imputed_column = imp_income_missing['volume'],\n",
    "#                    original_column = gas['volume'],\n",
    "#                    x_label = 'Age',\n",
    "#                    y_label = 'Frequency')"
   ]
  },
  {
   "cell_type": "code",
   "execution_count": 37,
   "id": "be98d45d-b6f3-42d8-b90a-8a478797fa71",
   "metadata": {},
   "outputs": [
    {
     "data": {
      "image/png": "[encoded data removed]",
      "text/plain": [
       "<Figure size 1152x648 with 2 Axes>"
      ]
     },
     "metadata": {},
     "output_type": "display_data"
    }
   ],
   "source": [
    "# imp = SimpleImputer(strategy = 'median')\n",
    "\n",
    "# imp_income_missing = imp.fit_transform(gas_imp)\n",
    "\n",
    "# imp_income_missing = pd.DataFrame(imp_income_missing,\n",
    "#                                       columns = gas_imp.columns)\n",
    "\n",
    "# compare_histograms(imputed_column = imp_income_missing['volume'],\n",
    "#                    original_column = gas['volume'],\n",
    "#                    x_label = 'Age',\n",
    "#                    y_label = 'Frequency')"
   ]
  },
  {
   "cell_type": "code",
   "execution_count": 40,
   "id": "371e77f1-d2bb-4590-8ab1-2ccbb3379995",
   "metadata": {},
   "outputs": [
    {
     "data": {
      "image/png": "[encoded data removed]",
      "text/plain": [
       "<Figure size 1152x648 with 2 Axes>"
      ]
     },
     "metadata": {},
     "output_type": "display_data"
    }
   ],
   "source": [
    "knn_imp = KNNImputer()\n",
    "\n",
    "knn_imp_income_missing = knn_imp.fit_transform(gas_imp)\n",
    "\n",
    "knn_imp_income_missing = pd.DataFrame(knn_imp_income_missing,\n",
    "                                      columns = gas_imp.columns)\n",
    "\n",
    "gas_imp = pd.DataFrame(knn_imp_income_missing, columns = gas_imp.columns)\n",
    "\n",
    "compare_histograms(imputed_column = knn_imp_income_missing['volume'],\n",
    "                   original_column = gas['volume'],\n",
    "                   x_label = 'Age',\n",
    "                   y_label = 'Frequency')\n",
    "\n"
   ]
  },
  {
   "cell_type": "code",
   "execution_count": 37,
   "id": "42af8b97-f1f0-4a69-8414-0ca6828430b1",
   "metadata": {},
   "outputs": [
    {
     "data": {
      "image/png": "[encoded data removed]",
      "text/plain": [
       "<Figure size 1152x648 with 2 Axes>"
      ]
     },
     "metadata": {},
     "output_type": "display_data"
    }
   ],
   "source": [
    "# it_imp = IterativeImputer(estimator = LinearRegression())\n",
    "\n",
    "# it_imp_income_missing = it_imp.fit_transform(gas_imp)\n",
    "\n",
    "# it_imp_income_missing = pd.DataFrame(it_imp_income_missing, columns = gas_imp.columns)\n",
    "\n",
    "# compare_histograms(imputed_column = it_imp_income_missing['volume'],\n",
    "#                   original_column = gas_imp['volume'],\n",
    "#                   x_label = 'Age',\n",
    "#                   y_label = 'Frequency')"
   ]
  },
  {
   "cell_type": "code",
   "execution_count": 41,
   "id": "107e8b75-f9f2-4167-b8bf-145de864b1a2",
   "metadata": {},
   "outputs": [
    {
     "data": {
      "text/plain": [
       "open           0\n",
       "high           0\n",
       "low            0\n",
       "close*         0\n",
       "adj close**    0\n",
       "volume         0\n",
       "dtype: int64"
      ]
     },
     "execution_count": 41,
     "metadata": {},
     "output_type": "execute_result"
    }
   ],
   "source": [
    "gas_imp.isna().sum()"
   ]
  },
  {
   "cell_type": "code",
   "execution_count": 54,
   "id": "baf5815e-ca96-42cd-90e0-79ae02fb464a",
   "metadata": {},
   "outputs": [
    {
     "data": {
      "image/png": "[encoded data removed]",
      "text/plain": [
       "<Figure size 432x288 with 1 Axes>"
      ]
     },
     "metadata": {
      "needs_background": "light"
     },
     "output_type": "display_data"
    }
   ],
   "source": [
    "plt.scatter(gas_imp['volume'],gas_imp['high']);"
   ]
  },
  {
   "cell_type": "code",
   "execution_count": 57,
   "id": "9daacf49-ff11-43d3-baae-2b14d6076fd7",
   "metadata": {},
   "outputs": [
    {
     "data": {
      "text/html": [
       "<div>\n",
       "<style scoped>\n",
       "    .dataframe tbody tr th:only-of-type {\n",
       "        vertical-align: middle;\n",
       "    }\n",
       "\n",
       "    .dataframe tbody tr th {\n",
       "        vertical-align: top;\n",
       "    }\n",
       "\n",
       "    .dataframe thead th {\n",
       "        text-align: right;\n",
       "    }\n",
       "</style>\n",
       "<table border=\"1\" class=\"dataframe\">\n",
       "  <thead>\n",
       "    <tr style=\"text-align: right;\">\n",
       "      <th></th>\n",
       "      <th>open</th>\n",
       "      <th>high</th>\n",
       "      <th>low</th>\n",
       "      <th>close*</th>\n",
       "      <th>adj close**</th>\n",
       "      <th>volume</th>\n",
       "    </tr>\n",
       "    <tr>\n",
       "      <th>date</th>\n",
       "      <th></th>\n",
       "      <th></th>\n",
       "      <th></th>\n",
       "      <th></th>\n",
       "      <th></th>\n",
       "      <th></th>\n",
       "    </tr>\n",
       "  </thead>\n",
       "  <tbody>\n",
       "    <tr>\n",
       "      <th>2001-01-02</th>\n",
       "      <td>0.7940</td>\n",
       "      <td>0.8040</td>\n",
       "      <td>0.7800</td>\n",
       "      <td>0.7950</td>\n",
       "      <td>0.7950</td>\n",
       "      <td>14697.0</td>\n",
       "    </tr>\n",
       "    <tr>\n",
       "      <th>2001-01-03</th>\n",
       "      <td>0.7990</td>\n",
       "      <td>0.8120</td>\n",
       "      <td>0.7920</td>\n",
       "      <td>0.8100</td>\n",
       "      <td>0.8100</td>\n",
       "      <td>10219.0</td>\n",
       "    </tr>\n",
       "    <tr>\n",
       "      <th>2001-01-04</th>\n",
       "      <td>0.8150</td>\n",
       "      <td>0.8300</td>\n",
       "      <td>0.8130</td>\n",
       "      <td>0.8186</td>\n",
       "      <td>0.8186</td>\n",
       "      <td>17869.0</td>\n",
       "    </tr>\n",
       "    <tr>\n",
       "      <th>2001-01-05</th>\n",
       "      <td>0.8150</td>\n",
       "      <td>0.8380</td>\n",
       "      <td>0.8140</td>\n",
       "      <td>0.8205</td>\n",
       "      <td>0.8205</td>\n",
       "      <td>18617.0</td>\n",
       "    </tr>\n",
       "    <tr>\n",
       "      <th>2001-01-08</th>\n",
       "      <td>0.8270</td>\n",
       "      <td>0.8530</td>\n",
       "      <td>0.8250</td>\n",
       "      <td>0.8350</td>\n",
       "      <td>0.8350</td>\n",
       "      <td>24057.0</td>\n",
       "    </tr>\n",
       "    <tr>\n",
       "      <th>...</th>\n",
       "      <td>...</td>\n",
       "      <td>...</td>\n",
       "      <td>...</td>\n",
       "      <td>...</td>\n",
       "      <td>...</td>\n",
       "      <td>...</td>\n",
       "    </tr>\n",
       "    <tr>\n",
       "      <th>2022-01-25</th>\n",
       "      <td>2.4215</td>\n",
       "      <td>2.4650</td>\n",
       "      <td>2.4023</td>\n",
       "      <td>2.4595</td>\n",
       "      <td>2.4595</td>\n",
       "      <td>30337.0</td>\n",
       "    </tr>\n",
       "    <tr>\n",
       "      <th>2022-01-26</th>\n",
       "      <td>2.4552</td>\n",
       "      <td>2.5347</td>\n",
       "      <td>2.4533</td>\n",
       "      <td>2.5229</td>\n",
       "      <td>2.5229</td>\n",
       "      <td>35505.0</td>\n",
       "    </tr>\n",
       "    <tr>\n",
       "      <th>2022-01-27</th>\n",
       "      <td>2.5223</td>\n",
       "      <td>2.5700</td>\n",
       "      <td>2.5100</td>\n",
       "      <td>2.5210</td>\n",
       "      <td>2.5210</td>\n",
       "      <td>23546.0</td>\n",
       "    </tr>\n",
       "    <tr>\n",
       "      <th>2022-01-28</th>\n",
       "      <td>2.5608</td>\n",
       "      <td>2.5798</td>\n",
       "      <td>2.5244</td>\n",
       "      <td>2.5423</td>\n",
       "      <td>2.5423</td>\n",
       "      <td>23546.0</td>\n",
       "    </tr>\n",
       "    <tr>\n",
       "      <th>2022-01-31</th>\n",
       "      <td>2.5599</td>\n",
       "      <td>2.5741</td>\n",
       "      <td>2.5388</td>\n",
       "      <td>2.5543</td>\n",
       "      <td>2.5543</td>\n",
       "      <td>22434.0</td>\n",
       "    </tr>\n",
       "  </tbody>\n",
       "</table>\n",
       "<p>5366 rows × 6 columns</p>\n",
       "</div>"
      ],
      "text/plain": [
       "              open    high     low  close*  adj close**   volume\n",
       "date                                                            \n",
       "2001-01-02  0.7940  0.8040  0.7800  0.7950       0.7950  14697.0\n",
       "2001-01-03  0.7990  0.8120  0.7920  0.8100       0.8100  10219.0\n",
       "2001-01-04  0.8150  0.8300  0.8130  0.8186       0.8186  17869.0\n",
       "2001-01-05  0.8150  0.8380  0.8140  0.8205       0.8205  18617.0\n",
       "2001-01-08  0.8270  0.8530  0.8250  0.8350       0.8350  24057.0\n",
       "...            ...     ...     ...     ...          ...      ...\n",
       "2022-01-25  2.4215  2.4650  2.4023  2.4595       2.4595  30337.0\n",
       "2022-01-26  2.4552  2.5347  2.4533  2.5229       2.5229  35505.0\n",
       "2022-01-27  2.5223  2.5700  2.5100  2.5210       2.5210  23546.0\n",
       "2022-01-28  2.5608  2.5798  2.5244  2.5423       2.5423  23546.0\n",
       "2022-01-31  2.5599  2.5741  2.5388  2.5543       2.5543  22434.0\n",
       "\n",
       "[5366 rows x 6 columns]"
      ]
     },
     "execution_count": 57,
     "metadata": {},
     "output_type": "execute_result"
    }
   ],
   "source": [
    "gas"
   ]
  },
  {
   "cell_type": "code",
   "execution_count": 59,
   "id": "30f105b4-b0fa-4709-a706-9db0f89d5951",
   "metadata": {},
   "outputs": [
    {
     "data": {
      "text/html": [
       "<div>\n",
       "<style scoped>\n",
       "    .dataframe tbody tr th:only-of-type {\n",
       "        vertical-align: middle;\n",
       "    }\n",
       "\n",
       "    .dataframe tbody tr th {\n",
       "        vertical-align: top;\n",
       "    }\n",
       "\n",
       "    .dataframe thead th {\n",
       "        text-align: right;\n",
       "    }\n",
       "</style>\n",
       "<table border=\"1\" class=\"dataframe\">\n",
       "  <thead>\n",
       "    <tr style=\"text-align: right;\">\n",
       "      <th></th>\n",
       "      <th>open</th>\n",
       "      <th>high</th>\n",
       "      <th>low</th>\n",
       "      <th>close*</th>\n",
       "      <th>adj close**</th>\n",
       "      <th>volume</th>\n",
       "    </tr>\n",
       "    <tr>\n",
       "      <th>date</th>\n",
       "      <th></th>\n",
       "      <th></th>\n",
       "      <th></th>\n",
       "      <th></th>\n",
       "      <th></th>\n",
       "      <th></th>\n",
       "    </tr>\n",
       "  </thead>\n",
       "  <tbody>\n",
       "    <tr>\n",
       "      <th>2016-10-31</th>\n",
       "      <td>1.4400</td>\n",
       "      <td>1.6351</td>\n",
       "      <td>1.4400</td>\n",
       "      <td>1.4841</td>\n",
       "      <td>1.4841</td>\n",
       "      <td>185790.0</td>\n",
       "    </tr>\n",
       "    <tr>\n",
       "      <th>2017-08-30</th>\n",
       "      <td>1.9148</td>\n",
       "      <td>2.1705</td>\n",
       "      <td>1.9121</td>\n",
       "      <td>2.1399</td>\n",
       "      <td>2.1399</td>\n",
       "      <td>190777.0</td>\n",
       "    </tr>\n",
       "    <tr>\n",
       "      <th>2017-08-31</th>\n",
       "      <td>1.7744</td>\n",
       "      <td>1.7832</td>\n",
       "      <td>1.6960</td>\n",
       "      <td>1.7479</td>\n",
       "      <td>1.7479</td>\n",
       "      <td>184124.0</td>\n",
       "    </tr>\n",
       "  </tbody>\n",
       "</table>\n",
       "</div>"
      ],
      "text/plain": [
       "              open    high     low  close*  adj close**    volume\n",
       "date                                                             \n",
       "2016-10-31  1.4400  1.6351  1.4400  1.4841       1.4841  185790.0\n",
       "2017-08-30  1.9148  2.1705  1.9121  2.1399       2.1399  190777.0\n",
       "2017-08-31  1.7744  1.7832  1.6960  1.7479       1.7479  184124.0"
      ]
     },
     "execution_count": 59,
     "metadata": {},
     "output_type": "execute_result"
    }
   ],
   "source": [
    "gas.loc[gas['volume']>175_000]"
   ]
  },
  {
   "cell_type": "code",
   "execution_count": null,
   "id": "aec4d239-f3ae-40e5-be8c-52f7fb4ac152",
   "metadata": {},
   "outputs": [],
   "source": []
  }
 ],
 "metadata": {
  "kernelspec": {
   "display_name": "Python [conda env:dsi] *",
   "language": "python",
   "name": "conda-env-dsi-py"
  },
  "language_info": {
   "codemirror_mode": {
    "name": "ipython",
    "version": 3
   },
   "file_extension": ".py",
   "mimetype": "text/x-python",
   "name": "python",
   "nbconvert_exporter": "python",
   "pygments_lexer": "ipython3",
   "version": "3.8.8"
  }
 },
 "nbformat": 4,
 "nbformat_minor": 5
}
