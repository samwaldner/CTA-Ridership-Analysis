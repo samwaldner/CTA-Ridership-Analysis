{
 "cells": [
  {
   "cell_type": "markdown",
   "id": "19b3e441-f802-4952-8abf-229c9bda5f9b",
   "metadata": {},
   "source": [
    "# Daily Data"
   ]
  },
  {
   "cell_type": "code",
   "execution_count": 1,
   "id": "d124a531-e01d-46b6-8b54-c64cf384dd51",
   "metadata": {},
   "outputs": [],
   "source": [
    "import pandas as pd\n",
    "import numpy as np\n",
    "import matplotlib.pyplot as plt\n",
    "\n",
    "pd.set_option('display.max_columns', 200)\n",
    "pd.set_option('display.max_rows', 200)"
   ]
  },
  {
   "cell_type": "code",
   "execution_count": 2,
   "id": "e468b6ff-93fb-4498-aec7-6833f9d88bd0",
   "metadata": {},
   "outputs": [],
   "source": [
    "cta = pd.read_csv('../capstone-data/daily/CTA_-_Ridership_-_Daily_Boarding_Totals.csv')\n",
    "weather = pd.read_csv('../capstone-data/daily/weather.csv')\n",
    "gas = pd.read_excel('../capstone-data/daily/gasoline_stocks.xlsx')\n",
    "covid = pd.read_csv('../capstone-data/monthly/covid-restrictions.csv')\n",
    "curve = pd.read_excel('../capstone-data/daily/treasury_yield_curve.xlsx')"
   ]
  },
  {
   "cell_type": "markdown",
   "id": "e6d81746-9bd7-4a3c-827c-27c832edbe5b",
   "metadata": {},
   "source": [
    "## CTA Data"
   ]
  },
  {
   "cell_type": "code",
   "execution_count": 3,
   "id": "098e5e91-2a1c-40f6-bc00-e956b6791524",
   "metadata": {},
   "outputs": [
    {
     "data": {
      "text/html": [
       "<div>\n",
       "<style scoped>\n",
       "    .dataframe tbody tr th:only-of-type {\n",
       "        vertical-align: middle;\n",
       "    }\n",
       "\n",
       "    .dataframe tbody tr th {\n",
       "        vertical-align: top;\n",
       "    }\n",
       "\n",
       "    .dataframe thead th {\n",
       "        text-align: right;\n",
       "    }\n",
       "</style>\n",
       "<table border=\"1\" class=\"dataframe\">\n",
       "  <thead>\n",
       "    <tr style=\"text-align: right;\">\n",
       "      <th></th>\n",
       "      <th>service_date</th>\n",
       "      <th>day_type</th>\n",
       "      <th>bus</th>\n",
       "      <th>rail_boardings</th>\n",
       "      <th>total_rides</th>\n",
       "    </tr>\n",
       "  </thead>\n",
       "  <tbody>\n",
       "    <tr>\n",
       "      <th>7696</th>\n",
       "      <td>11/26/2021</td>\n",
       "      <td>W</td>\n",
       "      <td>257700</td>\n",
       "      <td>189694</td>\n",
       "      <td>447394</td>\n",
       "    </tr>\n",
       "    <tr>\n",
       "      <th>7697</th>\n",
       "      <td>11/27/2021</td>\n",
       "      <td>A</td>\n",
       "      <td>237839</td>\n",
       "      <td>187065</td>\n",
       "      <td>424904</td>\n",
       "    </tr>\n",
       "    <tr>\n",
       "      <th>7698</th>\n",
       "      <td>11/28/2021</td>\n",
       "      <td>U</td>\n",
       "      <td>184817</td>\n",
       "      <td>147830</td>\n",
       "      <td>332647</td>\n",
       "    </tr>\n",
       "    <tr>\n",
       "      <th>7699</th>\n",
       "      <td>11/29/2021</td>\n",
       "      <td>W</td>\n",
       "      <td>421322</td>\n",
       "      <td>276090</td>\n",
       "      <td>697412</td>\n",
       "    </tr>\n",
       "    <tr>\n",
       "      <th>7700</th>\n",
       "      <td>11/30/2021</td>\n",
       "      <td>W</td>\n",
       "      <td>450230</td>\n",
       "      <td>302349</td>\n",
       "      <td>752579</td>\n",
       "    </tr>\n",
       "  </tbody>\n",
       "</table>\n",
       "</div>"
      ],
      "text/plain": [
       "     service_date day_type     bus  rail_boardings  total_rides\n",
       "7696   11/26/2021        W  257700          189694       447394\n",
       "7697   11/27/2021        A  237839          187065       424904\n",
       "7698   11/28/2021        U  184817          147830       332647\n",
       "7699   11/29/2021        W  421322          276090       697412\n",
       "7700   11/30/2021        W  450230          302349       752579"
      ]
     },
     "execution_count": 3,
     "metadata": {},
     "output_type": "execute_result"
    }
   ],
   "source": [
    "cta.tail()"
   ]
  },
  {
   "cell_type": "code",
   "execution_count": 4,
   "id": "59e6d8f2-ce7b-45c4-b582-61dc6e49091c",
   "metadata": {},
   "outputs": [],
   "source": [
    "cta.drop(columns={'day_type'},inplace=True)"
   ]
  },
  {
   "cell_type": "code",
   "execution_count": 5,
   "id": "bf65a282-b46b-45e5-a575-9771b96ac040",
   "metadata": {},
   "outputs": [
    {
     "data": {
      "text/plain": [
       "(7701, 4)"
      ]
     },
     "execution_count": 5,
     "metadata": {},
     "output_type": "execute_result"
    }
   ],
   "source": [
    "cta.shape"
   ]
  },
  {
   "cell_type": "code",
   "execution_count": 6,
   "id": "2ac1ec85-9783-44d0-973e-18e4fc56826c",
   "metadata": {},
   "outputs": [],
   "source": [
    "cta.rename(columns={'service_date':'date'},inplace=True)"
   ]
  },
  {
   "cell_type": "code",
   "execution_count": 7,
   "id": "fafd9bf3-86d4-4c53-bf04-81d035ee9fa7",
   "metadata": {},
   "outputs": [],
   "source": [
    "cta['date'] = pd.to_datetime(cta['date'])"
   ]
  },
  {
   "cell_type": "code",
   "execution_count": 8,
   "id": "1e7015fc-ab29-4c78-a82a-7b6a553a01d3",
   "metadata": {},
   "outputs": [],
   "source": [
    "cta.set_index('date',inplace=True)\n",
    "\n",
    "cta.sort_index(inplace=True)"
   ]
  },
  {
   "cell_type": "code",
   "execution_count": 9,
   "id": "c5d070eb-c168-4fec-b61a-2bd0f46e9c15",
   "metadata": {},
   "outputs": [
    {
     "data": {
      "text/plain": [
       "bus               int64\n",
       "rail_boardings    int64\n",
       "total_rides       int64\n",
       "dtype: object"
      ]
     },
     "execution_count": 9,
     "metadata": {},
     "output_type": "execute_result"
    }
   ],
   "source": [
    "cta.dtypes"
   ]
  },
  {
   "cell_type": "code",
   "execution_count": 10,
   "id": "29f5c31e-0cd5-447c-be14-b778c57d3d0a",
   "metadata": {},
   "outputs": [
    {
     "data": {
      "text/plain": [
       "bus               0\n",
       "rail_boardings    0\n",
       "total_rides       0\n",
       "dtype: int64"
      ]
     },
     "execution_count": 10,
     "metadata": {},
     "output_type": "execute_result"
    }
   ],
   "source": [
    "cta.isna().sum()"
   ]
  },
  {
   "cell_type": "markdown",
   "id": "bc67a639-789a-4d8d-88e2-e7adf30871f2",
   "metadata": {},
   "source": [
    "## Weather Data"
   ]
  },
  {
   "cell_type": "code",
   "execution_count": 11,
   "id": "a200c1d9-f4a0-436b-acd7-51eefec463fd",
   "metadata": {},
   "outputs": [],
   "source": [
    "def daily_weather(weather):\n",
    "    \"\"\"\n",
    "    A function that cleans the weather dataset, which comes as daily. \n",
    "    Commented out is optional code that can be edited to suit the needed format,\n",
    "    ex. ...resample('MS').sum() for month starting on first day of that month.\n",
    "    \"\"\"\n",
    "    weather.columns\n",
    "    weather.columns = weather.columns.str.lower()\n",
    "    weather.head()\n",
    "    weather.dtypes\n",
    "    weather.drop(columns='station',inplace=True)\n",
    "    weather['date'] = pd.to_datetime(weather['date'])\n",
    "    weather.set_index('date',inplace=True)\n",
    "    weather.sort_index(inplace=True)\n",
    "    weather = weather.fillna(0)\n",
    "    \n",
    "    \n",
    "    # weather = df.resample('W',closed='left').sum()\n",
    "    # weather.index = weather.index - pd.DateOffset(days=6)\n",
    "    \n",
    "    \n",
    "    return weather\n"
   ]
  },
  {
   "cell_type": "code",
   "execution_count": 12,
   "id": "b449a518-9d99-49a3-bfb2-7c0d4f80c4b9",
   "metadata": {},
   "outputs": [],
   "source": [
    "weather = daily_weather(weather)"
   ]
  },
  {
   "cell_type": "code",
   "execution_count": 13,
   "id": "6ff93c20-495c-4b90-8776-90d58e6f6be6",
   "metadata": {},
   "outputs": [
    {
     "data": {
      "text/plain": [
       "prcp    0\n",
       "snow    0\n",
       "snwd    0\n",
       "tmax    0\n",
       "tmin    0\n",
       "dtype: int64"
      ]
     },
     "execution_count": 13,
     "metadata": {},
     "output_type": "execute_result"
    }
   ],
   "source": [
    "weather.isna().sum()"
   ]
  },
  {
   "cell_type": "code",
   "execution_count": 14,
   "id": "67d930b8-1182-4cfd-bd89-991a6e3b8e7a",
   "metadata": {},
   "outputs": [
    {
     "data": {
      "text/plain": [
       "bus               0\n",
       "rail_boardings    0\n",
       "total_rides       0\n",
       "dtype: int64"
      ]
     },
     "execution_count": 14,
     "metadata": {},
     "output_type": "execute_result"
    }
   ],
   "source": [
    "cta.isna().sum()"
   ]
  },
  {
   "cell_type": "code",
   "execution_count": 15,
   "id": "663d2969-4b93-41b1-92b6-d7cc55f64523",
   "metadata": {},
   "outputs": [
    {
     "data": {
      "text/plain": [
       "((7701, 3), (7694, 5))"
      ]
     },
     "execution_count": 15,
     "metadata": {},
     "output_type": "execute_result"
    }
   ],
   "source": [
    "cta.shape, weather.shape"
   ]
  },
  {
   "cell_type": "markdown",
   "id": "4948613f-31f7-43c7-a083-648c9774c0cf",
   "metadata": {},
   "source": [
    "## Merge CTA/Weather"
   ]
  },
  {
   "cell_type": "code",
   "execution_count": 16,
   "id": "d1390a30-5140-45fc-8226-e54f06c5d80e",
   "metadata": {},
   "outputs": [
    {
     "data": {
      "text/html": [
       "<div>\n",
       "<style scoped>\n",
       "    .dataframe tbody tr th:only-of-type {\n",
       "        vertical-align: middle;\n",
       "    }\n",
       "\n",
       "    .dataframe tbody tr th {\n",
       "        vertical-align: top;\n",
       "    }\n",
       "\n",
       "    .dataframe thead th {\n",
       "        text-align: right;\n",
       "    }\n",
       "</style>\n",
       "<table border=\"1\" class=\"dataframe\">\n",
       "  <thead>\n",
       "    <tr style=\"text-align: right;\">\n",
       "      <th></th>\n",
       "      <th>bus</th>\n",
       "      <th>rail_boardings</th>\n",
       "      <th>total_rides</th>\n",
       "      <th>prcp</th>\n",
       "      <th>snow</th>\n",
       "      <th>snwd</th>\n",
       "      <th>tmax</th>\n",
       "      <th>tmin</th>\n",
       "    </tr>\n",
       "    <tr>\n",
       "      <th>date</th>\n",
       "      <th></th>\n",
       "      <th></th>\n",
       "      <th></th>\n",
       "      <th></th>\n",
       "      <th></th>\n",
       "      <th></th>\n",
       "      <th></th>\n",
       "      <th></th>\n",
       "    </tr>\n",
       "  </thead>\n",
       "  <tbody>\n",
       "    <tr>\n",
       "      <th>2001-01-01</th>\n",
       "      <td>297192.0</td>\n",
       "      <td>126455.0</td>\n",
       "      <td>423647.0</td>\n",
       "      <td>0.0</td>\n",
       "      <td>0.0</td>\n",
       "      <td>16.0</td>\n",
       "      <td>26</td>\n",
       "      <td>13</td>\n",
       "    </tr>\n",
       "    <tr>\n",
       "      <th>2001-01-02</th>\n",
       "      <td>780827.0</td>\n",
       "      <td>501952.0</td>\n",
       "      <td>1282779.0</td>\n",
       "      <td>0.0</td>\n",
       "      <td>0.0</td>\n",
       "      <td>15.0</td>\n",
       "      <td>21</td>\n",
       "      <td>7</td>\n",
       "    </tr>\n",
       "    <tr>\n",
       "      <th>2001-01-03</th>\n",
       "      <td>824923.0</td>\n",
       "      <td>536432.0</td>\n",
       "      <td>1361355.0</td>\n",
       "      <td>0.0</td>\n",
       "      <td>0.0</td>\n",
       "      <td>15.0</td>\n",
       "      <td>28</td>\n",
       "      <td>7</td>\n",
       "    </tr>\n",
       "    <tr>\n",
       "      <th>2001-01-04</th>\n",
       "      <td>870021.0</td>\n",
       "      <td>550011.0</td>\n",
       "      <td>1420032.0</td>\n",
       "      <td>0.0</td>\n",
       "      <td>0.0</td>\n",
       "      <td>14.0</td>\n",
       "      <td>32</td>\n",
       "      <td>23</td>\n",
       "    </tr>\n",
       "    <tr>\n",
       "      <th>2001-01-05</th>\n",
       "      <td>890426.0</td>\n",
       "      <td>557917.0</td>\n",
       "      <td>1448343.0</td>\n",
       "      <td>0.0</td>\n",
       "      <td>0.0</td>\n",
       "      <td>12.0</td>\n",
       "      <td>37</td>\n",
       "      <td>24</td>\n",
       "    </tr>\n",
       "    <tr>\n",
       "      <th>...</th>\n",
       "      <td>...</td>\n",
       "      <td>...</td>\n",
       "      <td>...</td>\n",
       "      <td>...</td>\n",
       "      <td>...</td>\n",
       "      <td>...</td>\n",
       "      <td>...</td>\n",
       "      <td>...</td>\n",
       "    </tr>\n",
       "    <tr>\n",
       "      <th>2022-01-20</th>\n",
       "      <td>NaN</td>\n",
       "      <td>NaN</td>\n",
       "      <td>NaN</td>\n",
       "      <td>0.0</td>\n",
       "      <td>0.0</td>\n",
       "      <td>0.0</td>\n",
       "      <td>22</td>\n",
       "      <td>9</td>\n",
       "    </tr>\n",
       "    <tr>\n",
       "      <th>2022-01-21</th>\n",
       "      <td>NaN</td>\n",
       "      <td>NaN</td>\n",
       "      <td>NaN</td>\n",
       "      <td>0.0</td>\n",
       "      <td>0.0</td>\n",
       "      <td>0.0</td>\n",
       "      <td>27</td>\n",
       "      <td>10</td>\n",
       "    </tr>\n",
       "    <tr>\n",
       "      <th>2022-01-22</th>\n",
       "      <td>NaN</td>\n",
       "      <td>NaN</td>\n",
       "      <td>NaN</td>\n",
       "      <td>0.0</td>\n",
       "      <td>0.2</td>\n",
       "      <td>0.0</td>\n",
       "      <td>36</td>\n",
       "      <td>20</td>\n",
       "    </tr>\n",
       "    <tr>\n",
       "      <th>2022-01-23</th>\n",
       "      <td>NaN</td>\n",
       "      <td>NaN</td>\n",
       "      <td>NaN</td>\n",
       "      <td>0.0</td>\n",
       "      <td>3.6</td>\n",
       "      <td>0.0</td>\n",
       "      <td>25</td>\n",
       "      <td>10</td>\n",
       "    </tr>\n",
       "    <tr>\n",
       "      <th>2022-01-24</th>\n",
       "      <td>NaN</td>\n",
       "      <td>NaN</td>\n",
       "      <td>NaN</td>\n",
       "      <td>0.0</td>\n",
       "      <td>2.0</td>\n",
       "      <td>0.0</td>\n",
       "      <td>29</td>\n",
       "      <td>13</td>\n",
       "    </tr>\n",
       "  </tbody>\n",
       "</table>\n",
       "<p>7756 rows × 8 columns</p>\n",
       "</div>"
      ],
      "text/plain": [
       "                 bus  rail_boardings  total_rides  prcp  snow  snwd  tmax  \\\n",
       "date                                                                        \n",
       "2001-01-01  297192.0        126455.0     423647.0   0.0   0.0  16.0    26   \n",
       "2001-01-02  780827.0        501952.0    1282779.0   0.0   0.0  15.0    21   \n",
       "2001-01-03  824923.0        536432.0    1361355.0   0.0   0.0  15.0    28   \n",
       "2001-01-04  870021.0        550011.0    1420032.0   0.0   0.0  14.0    32   \n",
       "2001-01-05  890426.0        557917.0    1448343.0   0.0   0.0  12.0    37   \n",
       "...              ...             ...          ...   ...   ...   ...   ...   \n",
       "2022-01-20       NaN             NaN          NaN   0.0   0.0   0.0    22   \n",
       "2022-01-21       NaN             NaN          NaN   0.0   0.0   0.0    27   \n",
       "2022-01-22       NaN             NaN          NaN   0.0   0.2   0.0    36   \n",
       "2022-01-23       NaN             NaN          NaN   0.0   3.6   0.0    25   \n",
       "2022-01-24       NaN             NaN          NaN   0.0   2.0   0.0    29   \n",
       "\n",
       "            tmin  \n",
       "date              \n",
       "2001-01-01    13  \n",
       "2001-01-02     7  \n",
       "2001-01-03     7  \n",
       "2001-01-04    23  \n",
       "2001-01-05    24  \n",
       "...          ...  \n",
       "2022-01-20     9  \n",
       "2022-01-21    10  \n",
       "2022-01-22    20  \n",
       "2022-01-23    10  \n",
       "2022-01-24    13  \n",
       "\n",
       "[7756 rows x 8 columns]"
      ]
     },
     "execution_count": 16,
     "metadata": {},
     "output_type": "execute_result"
    }
   ],
   "source": [
    "daily = cta.merge(weather, how='outer', left_index=True, right_index=True)\n",
    "daily"
   ]
  },
  {
   "cell_type": "code",
   "execution_count": 17,
   "id": "e0c950d3-c80c-4630-a9e7-872edf69188c",
   "metadata": {},
   "outputs": [
    {
     "data": {
      "text/html": [
       "<div>\n",
       "<style scoped>\n",
       "    .dataframe tbody tr th:only-of-type {\n",
       "        vertical-align: middle;\n",
       "    }\n",
       "\n",
       "    .dataframe tbody tr th {\n",
       "        vertical-align: top;\n",
       "    }\n",
       "\n",
       "    .dataframe thead th {\n",
       "        text-align: right;\n",
       "    }\n",
       "</style>\n",
       "<table border=\"1\" class=\"dataframe\">\n",
       "  <thead>\n",
       "    <tr style=\"text-align: right;\">\n",
       "      <th></th>\n",
       "      <th>bus</th>\n",
       "      <th>rail_boardings</th>\n",
       "      <th>total_rides</th>\n",
       "      <th>prcp</th>\n",
       "      <th>snow</th>\n",
       "      <th>snwd</th>\n",
       "      <th>tmax</th>\n",
       "      <th>tmin</th>\n",
       "    </tr>\n",
       "    <tr>\n",
       "      <th>date</th>\n",
       "      <th></th>\n",
       "      <th></th>\n",
       "      <th></th>\n",
       "      <th></th>\n",
       "      <th></th>\n",
       "      <th></th>\n",
       "      <th></th>\n",
       "      <th></th>\n",
       "    </tr>\n",
       "  </thead>\n",
       "  <tbody>\n",
       "    <tr>\n",
       "      <th>2021-12-01</th>\n",
       "      <td>NaN</td>\n",
       "      <td>NaN</td>\n",
       "      <td>NaN</td>\n",
       "      <td>0.0</td>\n",
       "      <td>0.0</td>\n",
       "      <td>0.0</td>\n",
       "      <td>48</td>\n",
       "      <td>35</td>\n",
       "    </tr>\n",
       "    <tr>\n",
       "      <th>2021-12-02</th>\n",
       "      <td>NaN</td>\n",
       "      <td>NaN</td>\n",
       "      <td>NaN</td>\n",
       "      <td>0.0</td>\n",
       "      <td>0.0</td>\n",
       "      <td>0.0</td>\n",
       "      <td>59</td>\n",
       "      <td>44</td>\n",
       "    </tr>\n",
       "    <tr>\n",
       "      <th>2021-12-03</th>\n",
       "      <td>NaN</td>\n",
       "      <td>NaN</td>\n",
       "      <td>NaN</td>\n",
       "      <td>0.0</td>\n",
       "      <td>0.0</td>\n",
       "      <td>0.0</td>\n",
       "      <td>51</td>\n",
       "      <td>39</td>\n",
       "    </tr>\n",
       "    <tr>\n",
       "      <th>2021-12-04</th>\n",
       "      <td>NaN</td>\n",
       "      <td>NaN</td>\n",
       "      <td>NaN</td>\n",
       "      <td>0.0</td>\n",
       "      <td>0.0</td>\n",
       "      <td>0.0</td>\n",
       "      <td>46</td>\n",
       "      <td>31</td>\n",
       "    </tr>\n",
       "    <tr>\n",
       "      <th>2021-12-05</th>\n",
       "      <td>NaN</td>\n",
       "      <td>NaN</td>\n",
       "      <td>NaN</td>\n",
       "      <td>0.0</td>\n",
       "      <td>0.0</td>\n",
       "      <td>0.0</td>\n",
       "      <td>43</td>\n",
       "      <td>35</td>\n",
       "    </tr>\n",
       "  </tbody>\n",
       "</table>\n",
       "</div>"
      ],
      "text/plain": [
       "            bus  rail_boardings  total_rides  prcp  snow  snwd  tmax  tmin\n",
       "date                                                                      \n",
       "2021-12-01  NaN             NaN          NaN   0.0   0.0   0.0    48    35\n",
       "2021-12-02  NaN             NaN          NaN   0.0   0.0   0.0    59    44\n",
       "2021-12-03  NaN             NaN          NaN   0.0   0.0   0.0    51    39\n",
       "2021-12-04  NaN             NaN          NaN   0.0   0.0   0.0    46    31\n",
       "2021-12-05  NaN             NaN          NaN   0.0   0.0   0.0    43    35"
      ]
     },
     "execution_count": 17,
     "metadata": {},
     "output_type": "execute_result"
    }
   ],
   "source": [
    "daily.loc[daily['bus'].isna()==True].head()"
   ]
  },
  {
   "cell_type": "code",
   "execution_count": 18,
   "id": "5ba6a8c7-441d-4d53-8364-04075100d3f0",
   "metadata": {},
   "outputs": [],
   "source": [
    "dailydrop=daily.dropna()"
   ]
  },
  {
   "cell_type": "code",
   "execution_count": null,
   "id": "68adb84e-8ee3-45a5-8868-df63bf90445f",
   "metadata": {},
   "outputs": [],
   "source": []
  },
  {
   "cell_type": "markdown",
   "id": "2e598221-c551-4d2d-9aad-7b9d200e4c1b",
   "metadata": {},
   "source": [
    "## Gas Data"
   ]
  },
  {
   "cell_type": "code",
   "execution_count": 19,
   "id": "1585f535-e91e-4b31-9a1e-f50e092c6543",
   "metadata": {},
   "outputs": [
    {
     "data": {
      "text/html": [
       "<div>\n",
       "<style scoped>\n",
       "    .dataframe tbody tr th:only-of-type {\n",
       "        vertical-align: middle;\n",
       "    }\n",
       "\n",
       "    .dataframe tbody tr th {\n",
       "        vertical-align: top;\n",
       "    }\n",
       "\n",
       "    .dataframe thead th {\n",
       "        text-align: right;\n",
       "    }\n",
       "</style>\n",
       "<table border=\"1\" class=\"dataframe\">\n",
       "  <thead>\n",
       "    <tr style=\"text-align: right;\">\n",
       "      <th></th>\n",
       "      <th>Date</th>\n",
       "      <th>Open</th>\n",
       "      <th>High</th>\n",
       "      <th>Low</th>\n",
       "      <th>Close*</th>\n",
       "      <th>Adj Close**</th>\n",
       "      <th>Volume</th>\n",
       "    </tr>\n",
       "  </thead>\n",
       "  <tbody>\n",
       "    <tr>\n",
       "      <th>0</th>\n",
       "      <td>2022-01-31</td>\n",
       "      <td>2.5599</td>\n",
       "      <td>2.5741</td>\n",
       "      <td>2.5388</td>\n",
       "      <td>2.5543</td>\n",
       "      <td>2.5543</td>\n",
       "      <td>22434</td>\n",
       "    </tr>\n",
       "    <tr>\n",
       "      <th>1</th>\n",
       "      <td>2022-01-28</td>\n",
       "      <td>2.5608</td>\n",
       "      <td>2.5798</td>\n",
       "      <td>2.5244</td>\n",
       "      <td>2.5423</td>\n",
       "      <td>2.5423</td>\n",
       "      <td>23546</td>\n",
       "    </tr>\n",
       "    <tr>\n",
       "      <th>2</th>\n",
       "      <td>2022-01-27</td>\n",
       "      <td>2.5223</td>\n",
       "      <td>2.57</td>\n",
       "      <td>2.51</td>\n",
       "      <td>2.521</td>\n",
       "      <td>2.521</td>\n",
       "      <td>23546</td>\n",
       "    </tr>\n",
       "    <tr>\n",
       "      <th>3</th>\n",
       "      <td>2022-01-26</td>\n",
       "      <td>2.4552</td>\n",
       "      <td>2.5347</td>\n",
       "      <td>2.4533</td>\n",
       "      <td>2.5229</td>\n",
       "      <td>2.5229</td>\n",
       "      <td>35505</td>\n",
       "    </tr>\n",
       "    <tr>\n",
       "      <th>4</th>\n",
       "      <td>2022-01-25</td>\n",
       "      <td>2.4215</td>\n",
       "      <td>2.465</td>\n",
       "      <td>2.4023</td>\n",
       "      <td>2.4595</td>\n",
       "      <td>2.4595</td>\n",
       "      <td>30337</td>\n",
       "    </tr>\n",
       "    <tr>\n",
       "      <th>...</th>\n",
       "      <td>...</td>\n",
       "      <td>...</td>\n",
       "      <td>...</td>\n",
       "      <td>...</td>\n",
       "      <td>...</td>\n",
       "      <td>...</td>\n",
       "      <td>...</td>\n",
       "    </tr>\n",
       "    <tr>\n",
       "      <th>5361</th>\n",
       "      <td>2001-01-08</td>\n",
       "      <td>0.827</td>\n",
       "      <td>0.853</td>\n",
       "      <td>0.825</td>\n",
       "      <td>0.835</td>\n",
       "      <td>0.835</td>\n",
       "      <td>24057</td>\n",
       "    </tr>\n",
       "    <tr>\n",
       "      <th>5362</th>\n",
       "      <td>2001-01-05</td>\n",
       "      <td>0.815</td>\n",
       "      <td>0.838</td>\n",
       "      <td>0.814</td>\n",
       "      <td>0.8205</td>\n",
       "      <td>0.8205</td>\n",
       "      <td>18617</td>\n",
       "    </tr>\n",
       "    <tr>\n",
       "      <th>5363</th>\n",
       "      <td>2001-01-04</td>\n",
       "      <td>0.815</td>\n",
       "      <td>0.83</td>\n",
       "      <td>0.813</td>\n",
       "      <td>0.8186</td>\n",
       "      <td>0.8186</td>\n",
       "      <td>17869</td>\n",
       "    </tr>\n",
       "    <tr>\n",
       "      <th>5364</th>\n",
       "      <td>2001-01-03</td>\n",
       "      <td>0.799</td>\n",
       "      <td>0.812</td>\n",
       "      <td>0.792</td>\n",
       "      <td>0.81</td>\n",
       "      <td>0.81</td>\n",
       "      <td>10219</td>\n",
       "    </tr>\n",
       "    <tr>\n",
       "      <th>5365</th>\n",
       "      <td>2001-01-02</td>\n",
       "      <td>0.794</td>\n",
       "      <td>0.804</td>\n",
       "      <td>0.78</td>\n",
       "      <td>0.795</td>\n",
       "      <td>0.795</td>\n",
       "      <td>14697</td>\n",
       "    </tr>\n",
       "  </tbody>\n",
       "</table>\n",
       "<p>5366 rows × 7 columns</p>\n",
       "</div>"
      ],
      "text/plain": [
       "           Date    Open    High     Low  Close* Adj Close** Volume\n",
       "0    2022-01-31  2.5599  2.5741  2.5388  2.5543      2.5543  22434\n",
       "1    2022-01-28  2.5608  2.5798  2.5244  2.5423      2.5423  23546\n",
       "2    2022-01-27  2.5223    2.57    2.51   2.521       2.521  23546\n",
       "3    2022-01-26  2.4552  2.5347  2.4533  2.5229      2.5229  35505\n",
       "4    2022-01-25  2.4215   2.465  2.4023  2.4595      2.4595  30337\n",
       "...         ...     ...     ...     ...     ...         ...    ...\n",
       "5361 2001-01-08   0.827   0.853   0.825   0.835       0.835  24057\n",
       "5362 2001-01-05   0.815   0.838   0.814  0.8205      0.8205  18617\n",
       "5363 2001-01-04   0.815    0.83   0.813  0.8186      0.8186  17869\n",
       "5364 2001-01-03   0.799   0.812   0.792    0.81        0.81  10219\n",
       "5365 2001-01-02   0.794   0.804    0.78   0.795       0.795  14697\n",
       "\n",
       "[5366 rows x 7 columns]"
      ]
     },
     "execution_count": 19,
     "metadata": {},
     "output_type": "execute_result"
    }
   ],
   "source": [
    "gas"
   ]
  },
  {
   "cell_type": "code",
   "execution_count": 20,
   "id": "38faa222-cc5b-469e-856b-da09c9b1777f",
   "metadata": {},
   "outputs": [
    {
     "data": {
      "text/plain": [
       "Date           datetime64[ns]\n",
       "Open                   object\n",
       "High                   object\n",
       "Low                    object\n",
       "Close*                 object\n",
       "Adj Close**            object\n",
       "Volume                 object\n",
       "dtype: object"
      ]
     },
     "execution_count": 20,
     "metadata": {},
     "output_type": "execute_result"
    }
   ],
   "source": [
    "gas.dtypes"
   ]
  },
  {
   "cell_type": "code",
   "execution_count": 21,
   "id": "cee836c4-41a0-4da7-8e26-c53acb61a9f4",
   "metadata": {},
   "outputs": [
    {
     "data": {
      "text/plain": [
       "Date           0\n",
       "Open           0\n",
       "High           0\n",
       "Low            0\n",
       "Close*         0\n",
       "Adj Close**    0\n",
       "Volume         0\n",
       "dtype: int64"
      ]
     },
     "execution_count": 21,
     "metadata": {},
     "output_type": "execute_result"
    }
   ],
   "source": [
    "gas.isna().sum()"
   ]
  },
  {
   "cell_type": "code",
   "execution_count": 22,
   "id": "ebc95695-cb99-4207-9fba-bcebc29a4911",
   "metadata": {},
   "outputs": [],
   "source": [
    "def clean_gas(gas):\n",
    "    gas.columns = gas.columns.str.lower()\n",
    "    gas['date'] = pd.to_datetime(gas['date'])\n",
    "    gas.set_index('date',inplace=True)\n",
    "    gas.sort_index(inplace=True)\n",
    "    gas.drop(columns={'high','low','adj close**'},inplace=True)\n",
    "    gas.replace('-',np.nan,inplace=True)\n",
    "    gas.rename(columns={'open':'gas_open','close*': 'gas_close',\n",
    "                        'volume':'gas_volume'},inplace=True)\n",
    "    return gas\n",
    "    "
   ]
  },
  {
   "cell_type": "code",
   "execution_count": 23,
   "id": "854398c6-aaaf-45fa-8ac5-0332e058e93e",
   "metadata": {},
   "outputs": [],
   "source": [
    "gas = clean_gas(gas)"
   ]
  },
  {
   "cell_type": "code",
   "execution_count": 24,
   "id": "7f3ffe14-b974-4783-be65-2732f01482e5",
   "metadata": {},
   "outputs": [
    {
     "data": {
      "text/plain": [
       "gas_open       69\n",
       "gas_close      69\n",
       "gas_volume    142\n",
       "dtype: int64"
      ]
     },
     "execution_count": 24,
     "metadata": {},
     "output_type": "execute_result"
    }
   ],
   "source": [
    "gas.isna().sum()"
   ]
  },
  {
   "cell_type": "code",
   "execution_count": 25,
   "id": "e6d04902-513d-4f18-a130-b5090dd85c46",
   "metadata": {},
   "outputs": [
    {
     "data": {
      "text/plain": [
       "False    0.973537\n",
       "True     0.026463\n",
       "Name: gas_volume, dtype: float64"
      ]
     },
     "execution_count": 25,
     "metadata": {},
     "output_type": "execute_result"
    }
   ],
   "source": [
    "gas['gas_volume'].isna().value_counts(normalize=True)"
   ]
  },
  {
   "cell_type": "code",
   "execution_count": 26,
   "id": "aec4d239-f3ae-40e5-be8c-52f7fb4ac152",
   "metadata": {},
   "outputs": [
    {
     "data": {
      "text/html": [
       "<div>\n",
       "<style scoped>\n",
       "    .dataframe tbody tr th:only-of-type {\n",
       "        vertical-align: middle;\n",
       "    }\n",
       "\n",
       "    .dataframe tbody tr th {\n",
       "        vertical-align: top;\n",
       "    }\n",
       "\n",
       "    .dataframe thead th {\n",
       "        text-align: right;\n",
       "    }\n",
       "</style>\n",
       "<table border=\"1\" class=\"dataframe\">\n",
       "  <thead>\n",
       "    <tr style=\"text-align: right;\">\n",
       "      <th></th>\n",
       "      <th>gas_open</th>\n",
       "      <th>gas_close</th>\n",
       "      <th>gas_volume</th>\n",
       "    </tr>\n",
       "    <tr>\n",
       "      <th>date</th>\n",
       "      <th></th>\n",
       "      <th></th>\n",
       "      <th></th>\n",
       "    </tr>\n",
       "  </thead>\n",
       "  <tbody>\n",
       "    <tr>\n",
       "      <th>2001-01-15</th>\n",
       "      <td>NaN</td>\n",
       "      <td>NaN</td>\n",
       "      <td>NaN</td>\n",
       "    </tr>\n",
       "    <tr>\n",
       "      <th>2001-01-29</th>\n",
       "      <td>0.891</td>\n",
       "      <td>0.877</td>\n",
       "      <td>NaN</td>\n",
       "    </tr>\n",
       "    <tr>\n",
       "      <th>2001-02-19</th>\n",
       "      <td>NaN</td>\n",
       "      <td>NaN</td>\n",
       "      <td>NaN</td>\n",
       "    </tr>\n",
       "    <tr>\n",
       "      <th>2001-03-13</th>\n",
       "      <td>0.875</td>\n",
       "      <td>0.885</td>\n",
       "      <td>NaN</td>\n",
       "    </tr>\n",
       "    <tr>\n",
       "      <th>2001-04-12</th>\n",
       "      <td>NaN</td>\n",
       "      <td>NaN</td>\n",
       "      <td>NaN</td>\n",
       "    </tr>\n",
       "  </tbody>\n",
       "</table>\n",
       "</div>"
      ],
      "text/plain": [
       "            gas_open  gas_close  gas_volume\n",
       "date                                       \n",
       "2001-01-15       NaN        NaN         NaN\n",
       "2001-01-29     0.891      0.877         NaN\n",
       "2001-02-19       NaN        NaN         NaN\n",
       "2001-03-13     0.875      0.885         NaN\n",
       "2001-04-12       NaN        NaN         NaN"
      ]
     },
     "execution_count": 26,
     "metadata": {},
     "output_type": "execute_result"
    }
   ],
   "source": [
    "gas.loc[gas['gas_volume'].isna()==True].head()"
   ]
  },
  {
   "cell_type": "code",
   "execution_count": 27,
   "id": "7319afbe-6b4b-4d28-bf92-bb240b861006",
   "metadata": {},
   "outputs": [
    {
     "data": {
      "text/html": [
       "<div>\n",
       "<style scoped>\n",
       "    .dataframe tbody tr th:only-of-type {\n",
       "        vertical-align: middle;\n",
       "    }\n",
       "\n",
       "    .dataframe tbody tr th {\n",
       "        vertical-align: top;\n",
       "    }\n",
       "\n",
       "    .dataframe thead th {\n",
       "        text-align: right;\n",
       "    }\n",
       "</style>\n",
       "<table border=\"1\" class=\"dataframe\">\n",
       "  <thead>\n",
       "    <tr style=\"text-align: right;\">\n",
       "      <th></th>\n",
       "      <th>gas_open</th>\n",
       "      <th>gas_close</th>\n",
       "      <th>gas_volume</th>\n",
       "    </tr>\n",
       "  </thead>\n",
       "  <tbody>\n",
       "    <tr>\n",
       "      <th>count</th>\n",
       "      <td>5297.000000</td>\n",
       "      <td>5297.000000</td>\n",
       "      <td>5224.000000</td>\n",
       "    </tr>\n",
       "    <tr>\n",
       "      <th>mean</th>\n",
       "      <td>1.829898</td>\n",
       "      <td>1.830688</td>\n",
       "      <td>40378.104326</td>\n",
       "    </tr>\n",
       "    <tr>\n",
       "      <th>std</th>\n",
       "      <td>0.703186</td>\n",
       "      <td>0.703521</td>\n",
       "      <td>21033.533512</td>\n",
       "    </tr>\n",
       "    <tr>\n",
       "      <th>min</th>\n",
       "      <td>0.427300</td>\n",
       "      <td>0.411800</td>\n",
       "      <td>5.000000</td>\n",
       "    </tr>\n",
       "    <tr>\n",
       "      <th>25%</th>\n",
       "      <td>1.306600</td>\n",
       "      <td>1.305800</td>\n",
       "      <td>24325.000000</td>\n",
       "    </tr>\n",
       "    <tr>\n",
       "      <th>50%</th>\n",
       "      <td>1.763900</td>\n",
       "      <td>1.767600</td>\n",
       "      <td>36029.500000</td>\n",
       "    </tr>\n",
       "    <tr>\n",
       "      <th>75%</th>\n",
       "      <td>2.297500</td>\n",
       "      <td>2.300900</td>\n",
       "      <td>54194.750000</td>\n",
       "    </tr>\n",
       "    <tr>\n",
       "      <th>max</th>\n",
       "      <td>3.563000</td>\n",
       "      <td>3.571000</td>\n",
       "      <td>190777.000000</td>\n",
       "    </tr>\n",
       "  </tbody>\n",
       "</table>\n",
       "</div>"
      ],
      "text/plain": [
       "          gas_open    gas_close     gas_volume\n",
       "count  5297.000000  5297.000000    5224.000000\n",
       "mean      1.829898     1.830688   40378.104326\n",
       "std       0.703186     0.703521   21033.533512\n",
       "min       0.427300     0.411800       5.000000\n",
       "25%       1.306600     1.305800   24325.000000\n",
       "50%       1.763900     1.767600   36029.500000\n",
       "75%       2.297500     2.300900   54194.750000\n",
       "max       3.563000     3.571000  190777.000000"
      ]
     },
     "execution_count": 27,
     "metadata": {},
     "output_type": "execute_result"
    }
   ],
   "source": [
    "gas.describe()"
   ]
  },
  {
   "cell_type": "code",
   "execution_count": 28,
   "id": "f6addd1d-05c6-447d-8cfc-11a70e6f3ab9",
   "metadata": {},
   "outputs": [
    {
     "data": {
      "text/html": [
       "<div>\n",
       "<style scoped>\n",
       "    .dataframe tbody tr th:only-of-type {\n",
       "        vertical-align: middle;\n",
       "    }\n",
       "\n",
       "    .dataframe tbody tr th {\n",
       "        vertical-align: top;\n",
       "    }\n",
       "\n",
       "    .dataframe thead th {\n",
       "        text-align: right;\n",
       "    }\n",
       "</style>\n",
       "<table border=\"1\" class=\"dataframe\">\n",
       "  <thead>\n",
       "    <tr style=\"text-align: right;\">\n",
       "      <th></th>\n",
       "      <th>gas_open</th>\n",
       "      <th>gas_close</th>\n",
       "      <th>gas_volume</th>\n",
       "    </tr>\n",
       "    <tr>\n",
       "      <th>date</th>\n",
       "      <th></th>\n",
       "      <th></th>\n",
       "      <th></th>\n",
       "    </tr>\n",
       "  </thead>\n",
       "  <tbody>\n",
       "    <tr>\n",
       "      <th>2022-01-25</th>\n",
       "      <td>2.4215</td>\n",
       "      <td>2.4595</td>\n",
       "      <td>30337.0</td>\n",
       "    </tr>\n",
       "    <tr>\n",
       "      <th>2022-01-26</th>\n",
       "      <td>2.4552</td>\n",
       "      <td>2.5229</td>\n",
       "      <td>35505.0</td>\n",
       "    </tr>\n",
       "    <tr>\n",
       "      <th>2022-01-27</th>\n",
       "      <td>2.5223</td>\n",
       "      <td>2.5210</td>\n",
       "      <td>23546.0</td>\n",
       "    </tr>\n",
       "    <tr>\n",
       "      <th>2022-01-28</th>\n",
       "      <td>2.5608</td>\n",
       "      <td>2.5423</td>\n",
       "      <td>23546.0</td>\n",
       "    </tr>\n",
       "    <tr>\n",
       "      <th>2022-01-31</th>\n",
       "      <td>2.5599</td>\n",
       "      <td>2.5543</td>\n",
       "      <td>22434.0</td>\n",
       "    </tr>\n",
       "  </tbody>\n",
       "</table>\n",
       "</div>"
      ],
      "text/plain": [
       "            gas_open  gas_close  gas_volume\n",
       "date                                       \n",
       "2022-01-25    2.4215     2.4595     30337.0\n",
       "2022-01-26    2.4552     2.5229     35505.0\n",
       "2022-01-27    2.5223     2.5210     23546.0\n",
       "2022-01-28    2.5608     2.5423     23546.0\n",
       "2022-01-31    2.5599     2.5543     22434.0"
      ]
     },
     "execution_count": 28,
     "metadata": {},
     "output_type": "execute_result"
    }
   ],
   "source": [
    "gas.tail()"
   ]
  },
  {
   "cell_type": "markdown",
   "id": "8f68913f-d7cf-4371-b803-d599bc547e13",
   "metadata": {},
   "source": [
    "## Merge Gasoline"
   ]
  },
  {
   "cell_type": "code",
   "execution_count": 29,
   "id": "bd1ab8c7-180f-4434-adab-79683bc719f2",
   "metadata": {},
   "outputs": [
    {
     "data": {
      "text/plain": [
       "(7756, 8)"
      ]
     },
     "execution_count": 29,
     "metadata": {},
     "output_type": "execute_result"
    }
   ],
   "source": [
    "daily.shape"
   ]
  },
  {
   "cell_type": "code",
   "execution_count": 30,
   "id": "316a5ba9-7109-4d98-ad8f-5218e3e66562",
   "metadata": {},
   "outputs": [
    {
     "data": {
      "text/plain": [
       "(7701, 8)"
      ]
     },
     "execution_count": 30,
     "metadata": {},
     "output_type": "execute_result"
    }
   ],
   "source": [
    "dailydrop.shape"
   ]
  },
  {
   "cell_type": "code",
   "execution_count": 31,
   "id": "84570e9b-d60e-4d13-b0d5-d0bf6d42bf56",
   "metadata": {},
   "outputs": [
    {
     "data": {
      "text/plain": [
       "(5366, 3)"
      ]
     },
     "execution_count": 31,
     "metadata": {},
     "output_type": "execute_result"
    }
   ],
   "source": [
    "gas.shape"
   ]
  },
  {
   "cell_type": "code",
   "execution_count": 32,
   "id": "4e25d3ba-8087-4f63-8f38-4bcbf35c1810",
   "metadata": {},
   "outputs": [
    {
     "data": {
      "text/plain": [
       "gas_open       69\n",
       "gas_close      69\n",
       "gas_volume    142\n",
       "dtype: int64"
      ]
     },
     "execution_count": 32,
     "metadata": {},
     "output_type": "execute_result"
    }
   ],
   "source": [
    "gas.isna().sum()"
   ]
  },
  {
   "cell_type": "code",
   "execution_count": 33,
   "id": "90cccdb0-9c93-4883-aa89-a9cffe1a58c3",
   "metadata": {},
   "outputs": [],
   "source": [
    "dailydrop = dailydrop.merge(gas, how='outer', left_index=True, right_index=True)\n"
   ]
  },
  {
   "cell_type": "code",
   "execution_count": 34,
   "id": "ff9d4fb2-72fa-4822-857d-0b15a8f2b1db",
   "metadata": {},
   "outputs": [
    {
     "data": {
      "text/plain": [
       "bus                 42\n",
       "rail_boardings      42\n",
       "total_rides         42\n",
       "prcp                42\n",
       "snow                42\n",
       "snwd                42\n",
       "tmax                42\n",
       "tmin                42\n",
       "gas_open          2403\n",
       "gas_close         2403\n",
       "gas_volume        2476\n",
       "dtype: int64"
      ]
     },
     "execution_count": 34,
     "metadata": {},
     "output_type": "execute_result"
    }
   ],
   "source": [
    "dailydrop.isna().sum()"
   ]
  },
  {
   "cell_type": "code",
   "execution_count": 35,
   "id": "e74e4d22-ecbf-4a1a-b5c3-81b0991f5a20",
   "metadata": {},
   "outputs": [
    {
     "data": {
      "text/html": [
       "<div>\n",
       "<style scoped>\n",
       "    .dataframe tbody tr th:only-of-type {\n",
       "        vertical-align: middle;\n",
       "    }\n",
       "\n",
       "    .dataframe tbody tr th {\n",
       "        vertical-align: top;\n",
       "    }\n",
       "\n",
       "    .dataframe thead th {\n",
       "        text-align: right;\n",
       "    }\n",
       "</style>\n",
       "<table border=\"1\" class=\"dataframe\">\n",
       "  <thead>\n",
       "    <tr style=\"text-align: right;\">\n",
       "      <th></th>\n",
       "      <th>bus</th>\n",
       "      <th>rail_boardings</th>\n",
       "      <th>total_rides</th>\n",
       "      <th>prcp</th>\n",
       "      <th>snow</th>\n",
       "      <th>snwd</th>\n",
       "      <th>tmax</th>\n",
       "      <th>tmin</th>\n",
       "      <th>gas_open</th>\n",
       "      <th>gas_close</th>\n",
       "      <th>gas_volume</th>\n",
       "    </tr>\n",
       "    <tr>\n",
       "      <th>date</th>\n",
       "      <th></th>\n",
       "      <th></th>\n",
       "      <th></th>\n",
       "      <th></th>\n",
       "      <th></th>\n",
       "      <th></th>\n",
       "      <th></th>\n",
       "      <th></th>\n",
       "      <th></th>\n",
       "      <th></th>\n",
       "      <th></th>\n",
       "    </tr>\n",
       "  </thead>\n",
       "  <tbody>\n",
       "    <tr>\n",
       "      <th>2021-11-26</th>\n",
       "      <td>257700.0</td>\n",
       "      <td>189694.0</td>\n",
       "      <td>447394.0</td>\n",
       "      <td>0.0</td>\n",
       "      <td>0.0</td>\n",
       "      <td>0.0</td>\n",
       "      <td>31.0</td>\n",
       "      <td>19.0</td>\n",
       "      <td>2.3140</td>\n",
       "      <td>2.0294</td>\n",
       "      <td>17599.0</td>\n",
       "    </tr>\n",
       "    <tr>\n",
       "      <th>2021-11-27</th>\n",
       "      <td>237839.0</td>\n",
       "      <td>187065.0</td>\n",
       "      <td>424904.0</td>\n",
       "      <td>0.0</td>\n",
       "      <td>0.0</td>\n",
       "      <td>0.0</td>\n",
       "      <td>41.0</td>\n",
       "      <td>30.0</td>\n",
       "      <td>NaN</td>\n",
       "      <td>NaN</td>\n",
       "      <td>NaN</td>\n",
       "    </tr>\n",
       "    <tr>\n",
       "      <th>2021-11-28</th>\n",
       "      <td>184817.0</td>\n",
       "      <td>147830.0</td>\n",
       "      <td>332647.0</td>\n",
       "      <td>0.0</td>\n",
       "      <td>0.0</td>\n",
       "      <td>0.0</td>\n",
       "      <td>41.0</td>\n",
       "      <td>26.0</td>\n",
       "      <td>NaN</td>\n",
       "      <td>NaN</td>\n",
       "      <td>NaN</td>\n",
       "    </tr>\n",
       "    <tr>\n",
       "      <th>2021-11-29</th>\n",
       "      <td>421322.0</td>\n",
       "      <td>276090.0</td>\n",
       "      <td>697412.0</td>\n",
       "      <td>0.0</td>\n",
       "      <td>0.0</td>\n",
       "      <td>0.0</td>\n",
       "      <td>41.0</td>\n",
       "      <td>26.0</td>\n",
       "      <td>2.0785</td>\n",
       "      <td>2.0771</td>\n",
       "      <td>29118.0</td>\n",
       "    </tr>\n",
       "    <tr>\n",
       "      <th>2021-11-30</th>\n",
       "      <td>450230.0</td>\n",
       "      <td>302349.0</td>\n",
       "      <td>752579.0</td>\n",
       "      <td>0.0</td>\n",
       "      <td>0.0</td>\n",
       "      <td>0.0</td>\n",
       "      <td>53.0</td>\n",
       "      <td>33.0</td>\n",
       "      <td>2.1036</td>\n",
       "      <td>1.9801</td>\n",
       "      <td>83219.0</td>\n",
       "    </tr>\n",
       "  </tbody>\n",
       "</table>\n",
       "</div>"
      ],
      "text/plain": [
       "                 bus  rail_boardings  total_rides  prcp  snow  snwd  tmax  \\\n",
       "date                                                                        \n",
       "2021-11-26  257700.0        189694.0     447394.0   0.0   0.0   0.0  31.0   \n",
       "2021-11-27  237839.0        187065.0     424904.0   0.0   0.0   0.0  41.0   \n",
       "2021-11-28  184817.0        147830.0     332647.0   0.0   0.0   0.0  41.0   \n",
       "2021-11-29  421322.0        276090.0     697412.0   0.0   0.0   0.0  41.0   \n",
       "2021-11-30  450230.0        302349.0     752579.0   0.0   0.0   0.0  53.0   \n",
       "\n",
       "            tmin  gas_open  gas_close  gas_volume  \n",
       "date                                               \n",
       "2021-11-26  19.0    2.3140     2.0294     17599.0  \n",
       "2021-11-27  30.0       NaN        NaN         NaN  \n",
       "2021-11-28  26.0       NaN        NaN         NaN  \n",
       "2021-11-29  26.0    2.0785     2.0771     29118.0  \n",
       "2021-11-30  33.0    2.1036     1.9801     83219.0  "
      ]
     },
     "execution_count": 35,
     "metadata": {},
     "output_type": "execute_result"
    }
   ],
   "source": [
    "dailydrop.drop(dailydrop.tail(42).index,inplace=True)\n",
    "dailydrop.tail()"
   ]
  },
  {
   "cell_type": "markdown",
   "id": "439bdc5a-eaed-4804-8ebd-e4ae48fddd34",
   "metadata": {},
   "source": [
    "## Treasury Curve"
   ]
  },
  {
   "cell_type": "code",
   "execution_count": 36,
   "id": "0f8dd273-2991-40aa-abf6-234727994a60",
   "metadata": {},
   "outputs": [
    {
     "data": {
      "text/plain": [
       "Date     datetime64[ns]\n",
       "1 Mo            float64\n",
       "2 Mo            float64\n",
       "3 Mo            float64\n",
       "6 Mo            float64\n",
       "1 Yr            float64\n",
       "2 Yr            float64\n",
       "3 Yr            float64\n",
       "5 Yr            float64\n",
       "7 Yr            float64\n",
       "10 Yr           float64\n",
       "20 Yr           float64\n",
       "30 Yr           float64\n",
       "dtype: object"
      ]
     },
     "execution_count": 36,
     "metadata": {},
     "output_type": "execute_result"
    }
   ],
   "source": [
    "curve.dtypes"
   ]
  },
  {
   "cell_type": "code",
   "execution_count": 37,
   "id": "5583e441-72cc-419b-86ed-63a4a0968eae",
   "metadata": {},
   "outputs": [
    {
     "data": {
      "text/plain": [
       "(5274, 13)"
      ]
     },
     "execution_count": 37,
     "metadata": {},
     "output_type": "execute_result"
    }
   ],
   "source": [
    "curve.shape"
   ]
  },
  {
   "cell_type": "code",
   "execution_count": 38,
   "id": "25d64d89-43f8-4d6f-b3ea-b57c7ef4dc5e",
   "metadata": {},
   "outputs": [
    {
     "data": {
      "text/plain": [
       "Date        0\n",
       "1 Mo      145\n",
       "2 Mo     4451\n",
       "3 Mo        3\n",
       "6 Mo        0\n",
       "1 Yr        0\n",
       "2 Yr        0\n",
       "3 Yr        0\n",
       "5 Yr        0\n",
       "7 Yr        0\n",
       "10 Yr       0\n",
       "20 Yr       0\n",
       "30 Yr     994\n",
       "dtype: int64"
      ]
     },
     "execution_count": 38,
     "metadata": {},
     "output_type": "execute_result"
    }
   ],
   "source": [
    "curve.isna().sum()"
   ]
  },
  {
   "cell_type": "code",
   "execution_count": 39,
   "id": "04bccff7-0d2b-43c4-8ab1-dd7f203261c5",
   "metadata": {},
   "outputs": [],
   "source": [
    "def clean_curve(curve):\n",
    "    curve.columns = curve.columns.str.lower()\n",
    "\n",
    "    curve.set_index('date',inplace=True)\n",
    "\n",
    "    curve.sort_index(inplace=True)\n",
    "    curve.columns = curve.columns.str.replace(' ','_')\n",
    "    curve.drop(columns={'1_mo','2_mo','30_yr'},inplace=True)\n",
    "    return curve"
   ]
  },
  {
   "cell_type": "code",
   "execution_count": 40,
   "id": "0e108395-614e-44b7-a0f7-8d8a0a0ffc47",
   "metadata": {},
   "outputs": [],
   "source": [
    "curve= clean_curve(curve)"
   ]
  },
  {
   "cell_type": "code",
   "execution_count": 42,
   "id": "c01bbf2a-8f73-4db5-85b3-387ccf139f06",
   "metadata": {},
   "outputs": [
    {
     "data": {
      "text/html": [
       "<div>\n",
       "<style scoped>\n",
       "    .dataframe tbody tr th:only-of-type {\n",
       "        vertical-align: middle;\n",
       "    }\n",
       "\n",
       "    .dataframe tbody tr th {\n",
       "        vertical-align: top;\n",
       "    }\n",
       "\n",
       "    .dataframe thead th {\n",
       "        text-align: right;\n",
       "    }\n",
       "</style>\n",
       "<table border=\"1\" class=\"dataframe\">\n",
       "  <thead>\n",
       "    <tr style=\"text-align: right;\">\n",
       "      <th></th>\n",
       "      <th>3_mo</th>\n",
       "      <th>6_mo</th>\n",
       "      <th>1_yr</th>\n",
       "      <th>2_yr</th>\n",
       "      <th>3_yr</th>\n",
       "      <th>5_yr</th>\n",
       "      <th>7_yr</th>\n",
       "      <th>10_yr</th>\n",
       "      <th>20_yr</th>\n",
       "    </tr>\n",
       "    <tr>\n",
       "      <th>date</th>\n",
       "      <th></th>\n",
       "      <th></th>\n",
       "      <th></th>\n",
       "      <th></th>\n",
       "      <th></th>\n",
       "      <th></th>\n",
       "      <th></th>\n",
       "      <th></th>\n",
       "      <th></th>\n",
       "    </tr>\n",
       "  </thead>\n",
       "  <tbody>\n",
       "    <tr>\n",
       "      <th>2001-01-02</th>\n",
       "      <td>5.87</td>\n",
       "      <td>5.58</td>\n",
       "      <td>5.11</td>\n",
       "      <td>4.87</td>\n",
       "      <td>4.82</td>\n",
       "      <td>4.76</td>\n",
       "      <td>4.97</td>\n",
       "      <td>4.92</td>\n",
       "      <td>5.46</td>\n",
       "    </tr>\n",
       "    <tr>\n",
       "      <th>2001-01-03</th>\n",
       "      <td>5.69</td>\n",
       "      <td>5.44</td>\n",
       "      <td>5.04</td>\n",
       "      <td>4.92</td>\n",
       "      <td>4.92</td>\n",
       "      <td>4.94</td>\n",
       "      <td>5.18</td>\n",
       "      <td>5.14</td>\n",
       "      <td>5.62</td>\n",
       "    </tr>\n",
       "    <tr>\n",
       "      <th>2001-01-04</th>\n",
       "      <td>5.37</td>\n",
       "      <td>5.20</td>\n",
       "      <td>4.82</td>\n",
       "      <td>4.77</td>\n",
       "      <td>4.78</td>\n",
       "      <td>4.82</td>\n",
       "      <td>5.07</td>\n",
       "      <td>5.03</td>\n",
       "      <td>5.56</td>\n",
       "    </tr>\n",
       "    <tr>\n",
       "      <th>2001-01-05</th>\n",
       "      <td>5.12</td>\n",
       "      <td>4.98</td>\n",
       "      <td>4.60</td>\n",
       "      <td>4.56</td>\n",
       "      <td>4.57</td>\n",
       "      <td>4.66</td>\n",
       "      <td>4.93</td>\n",
       "      <td>4.93</td>\n",
       "      <td>5.50</td>\n",
       "    </tr>\n",
       "    <tr>\n",
       "      <th>2001-01-08</th>\n",
       "      <td>5.19</td>\n",
       "      <td>5.03</td>\n",
       "      <td>4.61</td>\n",
       "      <td>4.54</td>\n",
       "      <td>4.55</td>\n",
       "      <td>4.65</td>\n",
       "      <td>4.94</td>\n",
       "      <td>4.94</td>\n",
       "      <td>5.52</td>\n",
       "    </tr>\n",
       "  </tbody>\n",
       "</table>\n",
       "</div>"
      ],
      "text/plain": [
       "            3_mo  6_mo  1_yr  2_yr  3_yr  5_yr  7_yr  10_yr  20_yr\n",
       "date                                                              \n",
       "2001-01-02  5.87  5.58  5.11  4.87  4.82  4.76  4.97   4.92   5.46\n",
       "2001-01-03  5.69  5.44  5.04  4.92  4.92  4.94  5.18   5.14   5.62\n",
       "2001-01-04  5.37  5.20  4.82  4.77  4.78  4.82  5.07   5.03   5.56\n",
       "2001-01-05  5.12  4.98  4.60  4.56  4.57  4.66  4.93   4.93   5.50\n",
       "2001-01-08  5.19  5.03  4.61  4.54  4.55  4.65  4.94   4.94   5.52"
      ]
     },
     "execution_count": 42,
     "metadata": {},
     "output_type": "execute_result"
    }
   ],
   "source": [
    "curve.head()"
   ]
  },
  {
   "cell_type": "markdown",
   "id": "dd01af0e-e70a-4a0a-b59e-02cb9f31e7e4",
   "metadata": {},
   "source": [
    "## Merge Yield Curve"
   ]
  },
  {
   "cell_type": "code",
   "execution_count": 43,
   "id": "a3884541-280b-48ba-9370-035927d711c3",
   "metadata": {},
   "outputs": [],
   "source": [
    "dailydrop = dailydrop.merge(curve, how='outer', left_index=True, right_index=True)\n"
   ]
  },
  {
   "cell_type": "code",
   "execution_count": 46,
   "id": "84e58a74-fee7-4e0f-b612-f5df7c5c2419",
   "metadata": {},
   "outputs": [
    {
     "data": {
      "text/plain": [
       "42"
      ]
     },
     "execution_count": 46,
     "metadata": {},
     "output_type": "execute_result"
    }
   ],
   "source": [
    "dailydrop.isna().sum()[0]"
   ]
  },
  {
   "cell_type": "code",
   "execution_count": 47,
   "id": "f9636a0c-6fe0-43dd-b1a4-b65cbd010236",
   "metadata": {},
   "outputs": [],
   "source": [
    "dailydrop = dailydrop.drop(dailydrop.tail(42).index)"
   ]
  },
  {
   "cell_type": "code",
   "execution_count": 48,
   "id": "d527b5a5-0c04-4fe8-9d79-6f3a2a0b551b",
   "metadata": {},
   "outputs": [
    {
     "data": {
      "text/html": [
       "<div>\n",
       "<style scoped>\n",
       "    .dataframe tbody tr th:only-of-type {\n",
       "        vertical-align: middle;\n",
       "    }\n",
       "\n",
       "    .dataframe tbody tr th {\n",
       "        vertical-align: top;\n",
       "    }\n",
       "\n",
       "    .dataframe thead th {\n",
       "        text-align: right;\n",
       "    }\n",
       "</style>\n",
       "<table border=\"1\" class=\"dataframe\">\n",
       "  <thead>\n",
       "    <tr style=\"text-align: right;\">\n",
       "      <th></th>\n",
       "      <th>bus</th>\n",
       "      <th>rail_boardings</th>\n",
       "      <th>total_rides</th>\n",
       "      <th>prcp</th>\n",
       "      <th>snow</th>\n",
       "      <th>snwd</th>\n",
       "      <th>tmax</th>\n",
       "      <th>tmin</th>\n",
       "      <th>gas_open</th>\n",
       "      <th>gas_close</th>\n",
       "      <th>gas_volume</th>\n",
       "      <th>3_mo</th>\n",
       "      <th>6_mo</th>\n",
       "      <th>1_yr</th>\n",
       "      <th>2_yr</th>\n",
       "      <th>3_yr</th>\n",
       "      <th>5_yr</th>\n",
       "      <th>7_yr</th>\n",
       "      <th>10_yr</th>\n",
       "      <th>20_yr</th>\n",
       "    </tr>\n",
       "    <tr>\n",
       "      <th>date</th>\n",
       "      <th></th>\n",
       "      <th></th>\n",
       "      <th></th>\n",
       "      <th></th>\n",
       "      <th></th>\n",
       "      <th></th>\n",
       "      <th></th>\n",
       "      <th></th>\n",
       "      <th></th>\n",
       "      <th></th>\n",
       "      <th></th>\n",
       "      <th></th>\n",
       "      <th></th>\n",
       "      <th></th>\n",
       "      <th></th>\n",
       "      <th></th>\n",
       "      <th></th>\n",
       "      <th></th>\n",
       "      <th></th>\n",
       "      <th></th>\n",
       "    </tr>\n",
       "  </thead>\n",
       "  <tbody>\n",
       "    <tr>\n",
       "      <th>2021-11-26</th>\n",
       "      <td>257700.0</td>\n",
       "      <td>189694.0</td>\n",
       "      <td>447394.0</td>\n",
       "      <td>0.0</td>\n",
       "      <td>0.0</td>\n",
       "      <td>0.0</td>\n",
       "      <td>31.0</td>\n",
       "      <td>19.0</td>\n",
       "      <td>2.3140</td>\n",
       "      <td>2.0294</td>\n",
       "      <td>17599.0</td>\n",
       "      <td>0.06</td>\n",
       "      <td>0.1</td>\n",
       "      <td>0.20</td>\n",
       "      <td>0.50</td>\n",
       "      <td>0.81</td>\n",
       "      <td>1.16</td>\n",
       "      <td>1.40</td>\n",
       "      <td>1.48</td>\n",
       "      <td>1.89</td>\n",
       "    </tr>\n",
       "    <tr>\n",
       "      <th>2021-11-27</th>\n",
       "      <td>237839.0</td>\n",
       "      <td>187065.0</td>\n",
       "      <td>424904.0</td>\n",
       "      <td>0.0</td>\n",
       "      <td>0.0</td>\n",
       "      <td>0.0</td>\n",
       "      <td>41.0</td>\n",
       "      <td>30.0</td>\n",
       "      <td>NaN</td>\n",
       "      <td>NaN</td>\n",
       "      <td>NaN</td>\n",
       "      <td>NaN</td>\n",
       "      <td>NaN</td>\n",
       "      <td>NaN</td>\n",
       "      <td>NaN</td>\n",
       "      <td>NaN</td>\n",
       "      <td>NaN</td>\n",
       "      <td>NaN</td>\n",
       "      <td>NaN</td>\n",
       "      <td>NaN</td>\n",
       "    </tr>\n",
       "    <tr>\n",
       "      <th>2021-11-28</th>\n",
       "      <td>184817.0</td>\n",
       "      <td>147830.0</td>\n",
       "      <td>332647.0</td>\n",
       "      <td>0.0</td>\n",
       "      <td>0.0</td>\n",
       "      <td>0.0</td>\n",
       "      <td>41.0</td>\n",
       "      <td>26.0</td>\n",
       "      <td>NaN</td>\n",
       "      <td>NaN</td>\n",
       "      <td>NaN</td>\n",
       "      <td>NaN</td>\n",
       "      <td>NaN</td>\n",
       "      <td>NaN</td>\n",
       "      <td>NaN</td>\n",
       "      <td>NaN</td>\n",
       "      <td>NaN</td>\n",
       "      <td>NaN</td>\n",
       "      <td>NaN</td>\n",
       "      <td>NaN</td>\n",
       "    </tr>\n",
       "    <tr>\n",
       "      <th>2021-11-29</th>\n",
       "      <td>421322.0</td>\n",
       "      <td>276090.0</td>\n",
       "      <td>697412.0</td>\n",
       "      <td>0.0</td>\n",
       "      <td>0.0</td>\n",
       "      <td>0.0</td>\n",
       "      <td>41.0</td>\n",
       "      <td>26.0</td>\n",
       "      <td>2.0785</td>\n",
       "      <td>2.0771</td>\n",
       "      <td>29118.0</td>\n",
       "      <td>0.06</td>\n",
       "      <td>0.1</td>\n",
       "      <td>0.21</td>\n",
       "      <td>0.51</td>\n",
       "      <td>0.83</td>\n",
       "      <td>1.18</td>\n",
       "      <td>1.42</td>\n",
       "      <td>1.52</td>\n",
       "      <td>1.93</td>\n",
       "    </tr>\n",
       "    <tr>\n",
       "      <th>2021-11-30</th>\n",
       "      <td>450230.0</td>\n",
       "      <td>302349.0</td>\n",
       "      <td>752579.0</td>\n",
       "      <td>0.0</td>\n",
       "      <td>0.0</td>\n",
       "      <td>0.0</td>\n",
       "      <td>53.0</td>\n",
       "      <td>33.0</td>\n",
       "      <td>2.1036</td>\n",
       "      <td>1.9801</td>\n",
       "      <td>83219.0</td>\n",
       "      <td>0.05</td>\n",
       "      <td>0.1</td>\n",
       "      <td>0.24</td>\n",
       "      <td>0.52</td>\n",
       "      <td>0.81</td>\n",
       "      <td>1.14</td>\n",
       "      <td>1.36</td>\n",
       "      <td>1.43</td>\n",
       "      <td>1.85</td>\n",
       "    </tr>\n",
       "  </tbody>\n",
       "</table>\n",
       "</div>"
      ],
      "text/plain": [
       "                 bus  rail_boardings  total_rides  prcp  snow  snwd  tmax  \\\n",
       "date                                                                        \n",
       "2021-11-26  257700.0        189694.0     447394.0   0.0   0.0   0.0  31.0   \n",
       "2021-11-27  237839.0        187065.0     424904.0   0.0   0.0   0.0  41.0   \n",
       "2021-11-28  184817.0        147830.0     332647.0   0.0   0.0   0.0  41.0   \n",
       "2021-11-29  421322.0        276090.0     697412.0   0.0   0.0   0.0  41.0   \n",
       "2021-11-30  450230.0        302349.0     752579.0   0.0   0.0   0.0  53.0   \n",
       "\n",
       "            tmin  gas_open  gas_close  gas_volume  3_mo  6_mo  1_yr  2_yr  \\\n",
       "date                                                                        \n",
       "2021-11-26  19.0    2.3140     2.0294     17599.0  0.06   0.1  0.20  0.50   \n",
       "2021-11-27  30.0       NaN        NaN         NaN   NaN   NaN   NaN   NaN   \n",
       "2021-11-28  26.0       NaN        NaN         NaN   NaN   NaN   NaN   NaN   \n",
       "2021-11-29  26.0    2.0785     2.0771     29118.0  0.06   0.1  0.21  0.51   \n",
       "2021-11-30  33.0    2.1036     1.9801     83219.0  0.05   0.1  0.24  0.52   \n",
       "\n",
       "            3_yr  5_yr  7_yr  10_yr  20_yr  \n",
       "date                                        \n",
       "2021-11-26  0.81  1.16  1.40   1.48   1.89  \n",
       "2021-11-27   NaN   NaN   NaN    NaN    NaN  \n",
       "2021-11-28   NaN   NaN   NaN    NaN    NaN  \n",
       "2021-11-29  0.83  1.18  1.42   1.52   1.93  \n",
       "2021-11-30  0.81  1.14  1.36   1.43   1.85  "
      ]
     },
     "execution_count": 48,
     "metadata": {},
     "output_type": "execute_result"
    }
   ],
   "source": [
    "dailydrop.tail()"
   ]
  },
  {
   "cell_type": "code",
   "execution_count": 49,
   "id": "569977c3-be50-401c-bb4f-4d13f6da24f5",
   "metadata": {},
   "outputs": [
    {
     "data": {
      "text/plain": [
       "bus                  0\n",
       "rail_boardings       0\n",
       "total_rides          0\n",
       "prcp                 0\n",
       "snow                 0\n",
       "snwd                 0\n",
       "tmax                 0\n",
       "tmin                 0\n",
       "gas_open          2403\n",
       "gas_close         2403\n",
       "gas_volume        2476\n",
       "3_mo              2430\n",
       "6_mo              2427\n",
       "1_yr              2427\n",
       "2_yr              2427\n",
       "3_yr              2427\n",
       "5_yr              2427\n",
       "7_yr              2427\n",
       "10_yr             2427\n",
       "20_yr             2427\n",
       "dtype: int64"
      ]
     },
     "execution_count": 49,
     "metadata": {},
     "output_type": "execute_result"
    }
   ],
   "source": [
    "dailydrop.isna().sum()"
   ]
  },
  {
   "cell_type": "markdown",
   "id": "b898d29c-985a-43fa-b787-da9d6909fea8",
   "metadata": {},
   "source": [
    "## Prep Covid"
   ]
  },
  {
   "cell_type": "markdown",
   "id": "a1707d7f-eb88-4eb4-83d7-ff8b2eebd2ac",
   "metadata": {},
   "source": [
    "## Prep Vax"
   ]
  },
  {
   "cell_type": "code",
   "execution_count": null,
   "id": "bb225fad-450e-47cf-a96c-9c337da6fea2",
   "metadata": {},
   "outputs": [],
   "source": []
  }
 ],
 "metadata": {
  "kernelspec": {
   "display_name": "Python [conda env:dsi] *",
   "language": "python",
   "name": "conda-env-dsi-py"
  },
  "language_info": {
   "codemirror_mode": {
    "name": "ipython",
    "version": 3
   },
   "file_extension": ".py",
   "mimetype": "text/x-python",
   "name": "python",
   "nbconvert_exporter": "python",
   "pygments_lexer": "ipython3",
   "version": "3.8.8"
  }
 },
 "nbformat": 4,
 "nbformat_minor": 5
}
