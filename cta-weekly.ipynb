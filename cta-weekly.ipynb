{
 "cells": [
  {
   "cell_type": "code",
   "execution_count": 1,
   "id": "9be80adb-f724-493a-9295-c1e9ecd119c8",
   "metadata": {},
   "outputs": [],
   "source": [
    "import pandas as pd\n",
    "import numpy as np\n",
    "\n",
    "pd.set_option('display.max_columns', 200)\n",
    "pd.set_option('display.max_rows', 200)"
   ]
  },
  {
   "cell_type": "code",
   "execution_count": 2,
   "id": "1afdb610-33ba-439b-8bb5-0a5cab269293",
   "metadata": {},
   "outputs": [],
   "source": [
    "df = pd.read_csv('../capstone-data/CTA_-_Ridership_-__L__Station_Entries_-_Daily_Totals.csv')"
   ]
  },
  {
   "cell_type": "code",
   "execution_count": 3,
   "id": "5dc4b46f-1d0c-4ff5-850b-c7ce0452efce",
   "metadata": {},
   "outputs": [
    {
     "data": {
      "text/html": [
       "<div>\n",
       "<style scoped>\n",
       "    .dataframe tbody tr th:only-of-type {\n",
       "        vertical-align: middle;\n",
       "    }\n",
       "\n",
       "    .dataframe tbody tr th {\n",
       "        vertical-align: top;\n",
       "    }\n",
       "\n",
       "    .dataframe thead th {\n",
       "        text-align: right;\n",
       "    }\n",
       "</style>\n",
       "<table border=\"1\" class=\"dataframe\">\n",
       "  <thead>\n",
       "    <tr style=\"text-align: right;\">\n",
       "      <th></th>\n",
       "      <th>station_id</th>\n",
       "      <th>stationname</th>\n",
       "      <th>date</th>\n",
       "      <th>daytype</th>\n",
       "      <th>rides</th>\n",
       "    </tr>\n",
       "  </thead>\n",
       "  <tbody>\n",
       "    <tr>\n",
       "      <th>0</th>\n",
       "      <td>41280</td>\n",
       "      <td>Jefferson Park</td>\n",
       "      <td>12/22/2017</td>\n",
       "      <td>W</td>\n",
       "      <td>6104</td>\n",
       "    </tr>\n",
       "    <tr>\n",
       "      <th>1</th>\n",
       "      <td>41000</td>\n",
       "      <td>Cermak-Chinatown</td>\n",
       "      <td>12/18/2017</td>\n",
       "      <td>W</td>\n",
       "      <td>3636</td>\n",
       "    </tr>\n",
       "    <tr>\n",
       "      <th>2</th>\n",
       "      <td>40280</td>\n",
       "      <td>Central-Lake</td>\n",
       "      <td>12/02/2017</td>\n",
       "      <td>A</td>\n",
       "      <td>1270</td>\n",
       "    </tr>\n",
       "    <tr>\n",
       "      <th>3</th>\n",
       "      <td>40140</td>\n",
       "      <td>Dempster-Skokie</td>\n",
       "      <td>12/19/2017</td>\n",
       "      <td>W</td>\n",
       "      <td>1759</td>\n",
       "    </tr>\n",
       "    <tr>\n",
       "      <th>4</th>\n",
       "      <td>40690</td>\n",
       "      <td>Dempster</td>\n",
       "      <td>12/03/2017</td>\n",
       "      <td>U</td>\n",
       "      <td>499</td>\n",
       "    </tr>\n",
       "  </tbody>\n",
       "</table>\n",
       "</div>"
      ],
      "text/plain": [
       "   station_id       stationname        date daytype  rides\n",
       "0       41280    Jefferson Park  12/22/2017       W   6104\n",
       "1       41000  Cermak-Chinatown  12/18/2017       W   3636\n",
       "2       40280      Central-Lake  12/02/2017       A   1270\n",
       "3       40140   Dempster-Skokie  12/19/2017       W   1759\n",
       "4       40690          Dempster  12/03/2017       U    499"
      ]
     },
     "execution_count": 3,
     "metadata": {},
     "output_type": "execute_result"
    }
   ],
   "source": [
    "df.head()"
   ]
  },
  {
   "cell_type": "code",
   "execution_count": 4,
   "id": "b9bbf578-bcc4-4e8d-a503-8aaddf607760",
   "metadata": {},
   "outputs": [
    {
     "data": {
      "text/plain": [
       "(1088958, 5)"
      ]
     },
     "execution_count": 4,
     "metadata": {},
     "output_type": "execute_result"
    }
   ],
   "source": [
    "df.shape"
   ]
  },
  {
   "cell_type": "code",
   "execution_count": 5,
   "id": "01d70980-4a5c-49eb-9c06-a36db9aaba4f",
   "metadata": {},
   "outputs": [
    {
     "data": {
      "text/plain": [
       "station_id      int64\n",
       "stationname    object\n",
       "date           object\n",
       "daytype        object\n",
       "rides           int64\n",
       "dtype: object"
      ]
     },
     "execution_count": 5,
     "metadata": {},
     "output_type": "execute_result"
    }
   ],
   "source": [
    "df.dtypes"
   ]
  },
  {
   "cell_type": "code",
   "execution_count": 6,
   "id": "f9f45665-5f4f-41cf-ac89-bfd9bbbe33ca",
   "metadata": {},
   "outputs": [],
   "source": [
    "df.drop(columns={'station_id','stationname','daytype'},inplace=True)"
   ]
  },
  {
   "cell_type": "code",
   "execution_count": 7,
   "id": "734c2d9d-ac4d-47c7-b9e9-ae97f6cd1353",
   "metadata": {},
   "outputs": [],
   "source": [
    "df['date']= pd.to_datetime(df['date'])"
   ]
  },
  {
   "cell_type": "code",
   "execution_count": 8,
   "id": "eae71c9a-2f74-438e-95ec-ca833c7c8f02",
   "metadata": {},
   "outputs": [],
   "source": [
    "df1= df.groupby(df['date']).agg('sum')\n",
    "weekly = df1.resample('W', label='left').sum()\n",
    "weekly.index = weekly.index - pd.DateOffset(days=-1)"
   ]
  },
  {
   "cell_type": "code",
   "execution_count": 10,
   "id": "84a3677d-4a5f-4ba3-af28-658792c99c2a",
   "metadata": {},
   "outputs": [
    {
     "data": {
      "text/plain": [
       "(1092, 1)"
      ]
     },
     "execution_count": 10,
     "metadata": {},
     "output_type": "execute_result"
    }
   ],
   "source": [
    "weekly.shape"
   ]
  },
  {
   "cell_type": "code",
   "execution_count": 13,
   "id": "dc1581f0-0e26-488f-a209-01ac88c6f824",
   "metadata": {},
   "outputs": [
    {
     "data": {
      "text/html": [
       "<div>\n",
       "<style scoped>\n",
       "    .dataframe tbody tr th:only-of-type {\n",
       "        vertical-align: middle;\n",
       "    }\n",
       "\n",
       "    .dataframe tbody tr th {\n",
       "        vertical-align: top;\n",
       "    }\n",
       "\n",
       "    .dataframe thead th {\n",
       "        text-align: right;\n",
       "    }\n",
       "</style>\n",
       "<table border=\"1\" class=\"dataframe\">\n",
       "  <thead>\n",
       "    <tr style=\"text-align: right;\">\n",
       "      <th></th>\n",
       "      <th>rides</th>\n",
       "    </tr>\n",
       "    <tr>\n",
       "      <th>date</th>\n",
       "      <th></th>\n",
       "    </tr>\n",
       "  </thead>\n",
       "  <tbody>\n",
       "    <tr>\n",
       "      <th>2001-01-01</th>\n",
       "      <td>2253172</td>\n",
       "    </tr>\n",
       "    <tr>\n",
       "      <th>2001-01-08</th>\n",
       "      <td>2881506</td>\n",
       "    </tr>\n",
       "    <tr>\n",
       "      <th>2001-01-15</th>\n",
       "      <td>2750342</td>\n",
       "    </tr>\n",
       "    <tr>\n",
       "      <th>2001-01-22</th>\n",
       "      <td>2894096</td>\n",
       "    </tr>\n",
       "    <tr>\n",
       "      <th>2001-01-29</th>\n",
       "      <td>2873278</td>\n",
       "    </tr>\n",
       "    <tr>\n",
       "      <th>...</th>\n",
       "      <td>...</td>\n",
       "    </tr>\n",
       "    <tr>\n",
       "      <th>2021-11-01</th>\n",
       "      <td>1696979</td>\n",
       "    </tr>\n",
       "    <tr>\n",
       "      <th>2021-11-08</th>\n",
       "      <td>1628859</td>\n",
       "    </tr>\n",
       "    <tr>\n",
       "      <th>2021-11-15</th>\n",
       "      <td>1718921</td>\n",
       "    </tr>\n",
       "    <tr>\n",
       "      <th>2021-11-22</th>\n",
       "      <td>1245452</td>\n",
       "    </tr>\n",
       "    <tr>\n",
       "      <th>2021-11-29</th>\n",
       "      <td>489373</td>\n",
       "    </tr>\n",
       "  </tbody>\n",
       "</table>\n",
       "<p>1092 rows × 1 columns</p>\n",
       "</div>"
      ],
      "text/plain": [
       "              rides\n",
       "date               \n",
       "2001-01-01  2253172\n",
       "2001-01-08  2881506\n",
       "2001-01-15  2750342\n",
       "2001-01-22  2894096\n",
       "2001-01-29  2873278\n",
       "...             ...\n",
       "2021-11-01  1696979\n",
       "2021-11-08  1628859\n",
       "2021-11-15  1718921\n",
       "2021-11-22  1245452\n",
       "2021-11-29   489373\n",
       "\n",
       "[1092 rows x 1 columns]"
      ]
     },
     "execution_count": 13,
     "metadata": {},
     "output_type": "execute_result"
    }
   ],
   "source": [
    "weekly"
   ]
  },
  {
   "cell_type": "code",
   "execution_count": 11,
   "id": "fa0fe68a-9bb5-4e67-8a80-80190d02ef7c",
   "metadata": {},
   "outputs": [],
   "source": [
    "gas = pd.read_csv('../capstone-data/Weekly_Chicago_Regular_All_Formulations_Retail_Gasoline_Prices.csv')"
   ]
  },
  {
   "cell_type": "code",
   "execution_count": 15,
   "id": "91735e58-9722-4fcf-bba7-cf3b1d920eb9",
   "metadata": {},
   "outputs": [],
   "source": [
    "gas = gas.rename(columns={'Week of':'date', 'Weekly Chicago Regular All Formulations Retail Gasoline Prices Dollars per Gallon':'price'})"
   ]
  },
  {
   "cell_type": "code",
   "execution_count": 18,
   "id": "aed27f39-06f1-4f84-9a2d-2a62aece7b53",
   "metadata": {},
   "outputs": [],
   "source": [
    "gas['date']=pd.to_datetime(gas['date'])"
   ]
  },
  {
   "cell_type": "code",
   "execution_count": 22,
   "id": "300cea5d-c3d3-439e-8693-f882be1e793a",
   "metadata": {},
   "outputs": [],
   "source": [
    "gas = gas.sort_values('date')"
   ]
  },
  {
   "cell_type": "code",
   "execution_count": 24,
   "id": "4cb2a542-e6cf-4ba2-83d0-c4034c61ffbd",
   "metadata": {},
   "outputs": [
    {
     "data": {
      "text/html": [
       "<div>\n",
       "<style scoped>\n",
       "    .dataframe tbody tr th:only-of-type {\n",
       "        vertical-align: middle;\n",
       "    }\n",
       "\n",
       "    .dataframe tbody tr th {\n",
       "        vertical-align: top;\n",
       "    }\n",
       "\n",
       "    .dataframe thead th {\n",
       "        text-align: right;\n",
       "    }\n",
       "</style>\n",
       "<table border=\"1\" class=\"dataframe\">\n",
       "  <thead>\n",
       "    <tr style=\"text-align: right;\">\n",
       "      <th></th>\n",
       "      <th>price</th>\n",
       "    </tr>\n",
       "    <tr>\n",
       "      <th>date</th>\n",
       "      <th></th>\n",
       "    </tr>\n",
       "  </thead>\n",
       "  <tbody>\n",
       "    <tr>\n",
       "      <th>2000-06-05</th>\n",
       "      <td>1.949</td>\n",
       "    </tr>\n",
       "    <tr>\n",
       "      <th>2000-06-12</th>\n",
       "      <td>2.091</td>\n",
       "    </tr>\n",
       "    <tr>\n",
       "      <th>2000-06-19</th>\n",
       "      <td>2.108</td>\n",
       "    </tr>\n",
       "    <tr>\n",
       "      <th>2000-06-26</th>\n",
       "      <td>1.989</td>\n",
       "    </tr>\n",
       "    <tr>\n",
       "      <th>2000-07-03</th>\n",
       "      <td>1.786</td>\n",
       "    </tr>\n",
       "    <tr>\n",
       "      <th>...</th>\n",
       "      <td>...</td>\n",
       "    </tr>\n",
       "    <tr>\n",
       "      <th>2021-12-27</th>\n",
       "      <td>3.340</td>\n",
       "    </tr>\n",
       "    <tr>\n",
       "      <th>2022-01-03</th>\n",
       "      <td>3.320</td>\n",
       "    </tr>\n",
       "    <tr>\n",
       "      <th>2022-01-10</th>\n",
       "      <td>3.457</td>\n",
       "    </tr>\n",
       "    <tr>\n",
       "      <th>2022-01-17</th>\n",
       "      <td>3.404</td>\n",
       "    </tr>\n",
       "    <tr>\n",
       "      <th>2022-01-24</th>\n",
       "      <td>3.444</td>\n",
       "    </tr>\n",
       "  </tbody>\n",
       "</table>\n",
       "<p>1130 rows × 1 columns</p>\n",
       "</div>"
      ],
      "text/plain": [
       "            price\n",
       "date             \n",
       "2000-06-05  1.949\n",
       "2000-06-12  2.091\n",
       "2000-06-19  2.108\n",
       "2000-06-26  1.989\n",
       "2000-07-03  1.786\n",
       "...           ...\n",
       "2021-12-27  3.340\n",
       "2022-01-03  3.320\n",
       "2022-01-10  3.457\n",
       "2022-01-17  3.404\n",
       "2022-01-24  3.444\n",
       "\n",
       "[1130 rows x 1 columns]"
      ]
     },
     "execution_count": 24,
     "metadata": {},
     "output_type": "execute_result"
    }
   ],
   "source": [
    "gas.set_index('date',inplace=True)\n",
    "gas.sort_index(inplace=True)\n",
    "gas"
   ]
  },
  {
   "cell_type": "code",
   "execution_count": 25,
   "id": "c71688d3-ea4f-4162-9db1-2cea0364fb50",
   "metadata": {},
   "outputs": [],
   "source": [
    "merged = weekly.merge(gas, how='outer', left_index=True, right_index=True)"
   ]
  },
  {
   "cell_type": "code",
   "execution_count": 31,
   "id": "76b48641-21de-4fd3-9ade-32725240bbba",
   "metadata": {},
   "outputs": [],
   "source": [
    "test= merged.dropna()"
   ]
  },
  {
   "cell_type": "code",
   "execution_count": 30,
   "id": "430c81fd-5c4e-4cec-b8bb-208fbb5cd30a",
   "metadata": {},
   "outputs": [],
   "source": [
    "from sklearn.linear_model import LinearRegression\n",
    "from sklearn.model_selection import train_test_split"
   ]
  },
  {
   "cell_type": "code",
   "execution_count": 32,
   "id": "22e14922-81df-4085-bc31-1edc44de72b2",
   "metadata": {},
   "outputs": [],
   "source": [
    "X= test[['price']]\n",
    "y = test['rides']\n",
    "\n",
    "X_train,X_test,y_train,y_test = train_test_split(X,y,test_size=.3,random_state=42)"
   ]
  },
  {
   "cell_type": "code",
   "execution_count": 33,
   "id": "fb34e804-75be-4fa7-8383-118633ccdcfc",
   "metadata": {},
   "outputs": [],
   "source": [
    "lr = LinearRegression()"
   ]
  },
  {
   "cell_type": "code",
   "execution_count": 34,
   "id": "85ea9ecb-f5ec-4f25-ad0d-00bed85b3aba",
   "metadata": {},
   "outputs": [
    {
     "data": {
      "text/plain": [
       "LinearRegression()"
      ]
     },
     "execution_count": 34,
     "metadata": {},
     "output_type": "execute_result"
    }
   ],
   "source": [
    "lr.fit(X_train,y_train)"
   ]
  },
  {
   "cell_type": "code",
   "execution_count": 35,
   "id": "1f2b50a5-70a8-4a69-acd5-bef80b2567fc",
   "metadata": {},
   "outputs": [
    {
     "data": {
      "text/plain": [
       "(0.06797813865392865, 0.09476135764142535)"
      ]
     },
     "execution_count": 35,
     "metadata": {},
     "output_type": "execute_result"
    }
   ],
   "source": [
    "lr.score(X_train,y_train),lr.score(X_test,y_test)"
   ]
  },
  {
   "cell_type": "code",
   "execution_count": 48,
   "id": "4eb84f59-a0d9-4be5-b9bc-8354bcb3f359",
   "metadata": {},
   "outputs": [
    {
     "data": {
      "image/png": "[encoded data removed]",
      "text/plain": [
       "<Figure size 432x288 with 1 Axes>"
      ]
     },
     "metadata": {
      "needs_background": "light"
     },
     "output_type": "display_data"
    }
   ],
   "source": [
    "test['rides'].plot();"
   ]
  },
  {
   "cell_type": "code",
   "execution_count": 47,
   "id": "d0f8315e-cf37-4ff4-bbde-4d19365a5474",
   "metadata": {},
   "outputs": [
    {
     "data": {
      "image/png": "[encoded data removed]",
      "text/plain": [
       "<Figure size 432x288 with 1 Axes>"
      ]
     },
     "metadata": {
      "needs_background": "light"
     },
     "output_type": "display_data"
    }
   ],
   "source": [
    "test['price'].plot(color='orange');"
   ]
  },
  {
   "cell_type": "code",
   "execution_count": null,
   "id": "f0d60fc8-7d1c-496c-a14e-337592b73e9b",
   "metadata": {},
   "outputs": [],
   "source": [
    "# df.to_csv('../capstone-data/cta-monthly-primary.csv')"
   ]
  }
 ],
 "metadata": {
  "kernelspec": {
   "display_name": "Python [conda env:dsi] *",
   "language": "python",
   "name": "conda-env-dsi-py"
  },
  "language_info": {
   "codemirror_mode": {
    "name": "ipython",
    "version": 3
   },
   "file_extension": ".py",
   "mimetype": "text/x-python",
   "name": "python",
   "nbconvert_exporter": "python",
   "pygments_lexer": "ipython3",
   "version": "3.8.8"
  }
 },
 "nbformat": 4,
 "nbformat_minor": 5
}
