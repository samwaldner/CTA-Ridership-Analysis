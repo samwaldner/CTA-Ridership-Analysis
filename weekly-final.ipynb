{
 "cells": [
  {
   "cell_type": "code",
   "execution_count": 1,
   "id": "9be80adb-f724-493a-9295-c1e9ecd119c8",
   "metadata": {},
   "outputs": [],
   "source": [
    "import pandas as pd\n",
    "import numpy as np\n",
    "\n",
    "pd.set_option('display.max_columns', 200)\n",
    "pd.set_option('display.max_rows', 200)"
   ]
  },
  {
   "cell_type": "code",
   "execution_count": 2,
   "id": "989ee346-697e-4e66-b27c-adab90069b1d",
   "metadata": {},
   "outputs": [],
   "source": [
    "df = pd.read_csv('../capstone-data/daily/CTA_-_Ridership_-_Daily_Boarding_Totals.csv')\n",
    "gas = pd.read_csv('../capstone-data/weekly/Weekly_Chicago_Regular_All_Formulations_Retail_Gasoline_Prices.csv')\n",
    "covid = pd.read_csv('../capstone-data/monthly/covid-restrictions.csv')\n",
    "vax= pd.read_csv('../capstone-data/covid/COVID-19_Daily_Vaccinations_-_Chicago_Residents.csv')\n",
    "weather = pd.read_csv('../capstone-data/daily/weather.csv')\n",
    "curve = pd.read_excel('../capstone-data/daily/treasury_yield_curve.xlsx')"
   ]
  },
  {
   "cell_type": "code",
   "execution_count": 3,
   "id": "5dc4b46f-1d0c-4ff5-850b-c7ce0452efce",
   "metadata": {},
   "outputs": [
    {
     "data": {
      "text/html": [
       "<div>\n",
       "<style scoped>\n",
       "    .dataframe tbody tr th:only-of-type {\n",
       "        vertical-align: middle;\n",
       "    }\n",
       "\n",
       "    .dataframe tbody tr th {\n",
       "        vertical-align: top;\n",
       "    }\n",
       "\n",
       "    .dataframe thead th {\n",
       "        text-align: right;\n",
       "    }\n",
       "</style>\n",
       "<table border=\"1\" class=\"dataframe\">\n",
       "  <thead>\n",
       "    <tr style=\"text-align: right;\">\n",
       "      <th></th>\n",
       "      <th>service_date</th>\n",
       "      <th>day_type</th>\n",
       "      <th>bus</th>\n",
       "      <th>rail_boardings</th>\n",
       "      <th>total_rides</th>\n",
       "    </tr>\n",
       "  </thead>\n",
       "  <tbody>\n",
       "    <tr>\n",
       "      <th>0</th>\n",
       "      <td>01/01/2001</td>\n",
       "      <td>U</td>\n",
       "      <td>297192</td>\n",
       "      <td>126455</td>\n",
       "      <td>423647</td>\n",
       "    </tr>\n",
       "    <tr>\n",
       "      <th>1</th>\n",
       "      <td>01/02/2001</td>\n",
       "      <td>W</td>\n",
       "      <td>780827</td>\n",
       "      <td>501952</td>\n",
       "      <td>1282779</td>\n",
       "    </tr>\n",
       "    <tr>\n",
       "      <th>2</th>\n",
       "      <td>01/03/2001</td>\n",
       "      <td>W</td>\n",
       "      <td>824923</td>\n",
       "      <td>536432</td>\n",
       "      <td>1361355</td>\n",
       "    </tr>\n",
       "    <tr>\n",
       "      <th>3</th>\n",
       "      <td>01/04/2001</td>\n",
       "      <td>W</td>\n",
       "      <td>870021</td>\n",
       "      <td>550011</td>\n",
       "      <td>1420032</td>\n",
       "    </tr>\n",
       "    <tr>\n",
       "      <th>4</th>\n",
       "      <td>01/05/2001</td>\n",
       "      <td>W</td>\n",
       "      <td>890426</td>\n",
       "      <td>557917</td>\n",
       "      <td>1448343</td>\n",
       "    </tr>\n",
       "  </tbody>\n",
       "</table>\n",
       "</div>"
      ],
      "text/plain": [
       "  service_date day_type     bus  rail_boardings  total_rides\n",
       "0   01/01/2001        U  297192          126455       423647\n",
       "1   01/02/2001        W  780827          501952      1282779\n",
       "2   01/03/2001        W  824923          536432      1361355\n",
       "3   01/04/2001        W  870021          550011      1420032\n",
       "4   01/05/2001        W  890426          557917      1448343"
      ]
     },
     "execution_count": 3,
     "metadata": {},
     "output_type": "execute_result"
    }
   ],
   "source": [
    "df.head()"
   ]
  },
  {
   "cell_type": "code",
   "execution_count": 4,
   "id": "b9bbf578-bcc4-4e8d-a503-8aaddf607760",
   "metadata": {},
   "outputs": [
    {
     "data": {
      "text/plain": [
       "(7701, 5)"
      ]
     },
     "execution_count": 4,
     "metadata": {},
     "output_type": "execute_result"
    }
   ],
   "source": [
    "df.shape"
   ]
  },
  {
   "cell_type": "code",
   "execution_count": 5,
   "id": "01d70980-4a5c-49eb-9c06-a36db9aaba4f",
   "metadata": {},
   "outputs": [
    {
     "data": {
      "text/plain": [
       "service_date      object\n",
       "day_type          object\n",
       "bus                int64\n",
       "rail_boardings     int64\n",
       "total_rides        int64\n",
       "dtype: object"
      ]
     },
     "execution_count": 5,
     "metadata": {},
     "output_type": "execute_result"
    }
   ],
   "source": [
    "df.dtypes"
   ]
  },
  {
   "cell_type": "code",
   "execution_count": 6,
   "id": "f9f45665-5f4f-41cf-ac89-bfd9bbbe33ca",
   "metadata": {},
   "outputs": [],
   "source": [
    "df.drop(columns={'day_type'},inplace=True)"
   ]
  },
  {
   "cell_type": "code",
   "execution_count": 7,
   "id": "734c2d9d-ac4d-47c7-b9e9-ae97f6cd1353",
   "metadata": {},
   "outputs": [],
   "source": [
    "df.rename(columns={'service_date':'date'},inplace=True)\n",
    "df['date']= pd.to_datetime(df['date'])"
   ]
  },
  {
   "cell_type": "code",
   "execution_count": 8,
   "id": "4be9d09e-a0f9-46a7-9316-2caa60fd9b11",
   "metadata": {},
   "outputs": [
    {
     "data": {
      "text/html": [
       "<div>\n",
       "<style scoped>\n",
       "    .dataframe tbody tr th:only-of-type {\n",
       "        vertical-align: middle;\n",
       "    }\n",
       "\n",
       "    .dataframe tbody tr th {\n",
       "        vertical-align: top;\n",
       "    }\n",
       "\n",
       "    .dataframe thead th {\n",
       "        text-align: right;\n",
       "    }\n",
       "</style>\n",
       "<table border=\"1\" class=\"dataframe\">\n",
       "  <thead>\n",
       "    <tr style=\"text-align: right;\">\n",
       "      <th></th>\n",
       "      <th>date</th>\n",
       "      <th>bus</th>\n",
       "      <th>rail_boardings</th>\n",
       "      <th>total_rides</th>\n",
       "    </tr>\n",
       "  </thead>\n",
       "  <tbody>\n",
       "    <tr>\n",
       "      <th>0</th>\n",
       "      <td>2001-01-01</td>\n",
       "      <td>297192</td>\n",
       "      <td>126455</td>\n",
       "      <td>423647</td>\n",
       "    </tr>\n",
       "    <tr>\n",
       "      <th>1</th>\n",
       "      <td>2001-01-02</td>\n",
       "      <td>780827</td>\n",
       "      <td>501952</td>\n",
       "      <td>1282779</td>\n",
       "    </tr>\n",
       "    <tr>\n",
       "      <th>2</th>\n",
       "      <td>2001-01-03</td>\n",
       "      <td>824923</td>\n",
       "      <td>536432</td>\n",
       "      <td>1361355</td>\n",
       "    </tr>\n",
       "    <tr>\n",
       "      <th>3</th>\n",
       "      <td>2001-01-04</td>\n",
       "      <td>870021</td>\n",
       "      <td>550011</td>\n",
       "      <td>1420032</td>\n",
       "    </tr>\n",
       "    <tr>\n",
       "      <th>4</th>\n",
       "      <td>2001-01-05</td>\n",
       "      <td>890426</td>\n",
       "      <td>557917</td>\n",
       "      <td>1448343</td>\n",
       "    </tr>\n",
       "  </tbody>\n",
       "</table>\n",
       "</div>"
      ],
      "text/plain": [
       "        date     bus  rail_boardings  total_rides\n",
       "0 2001-01-01  297192          126455       423647\n",
       "1 2001-01-02  780827          501952      1282779\n",
       "2 2001-01-03  824923          536432      1361355\n",
       "3 2001-01-04  870021          550011      1420032\n",
       "4 2001-01-05  890426          557917      1448343"
      ]
     },
     "execution_count": 8,
     "metadata": {},
     "output_type": "execute_result"
    }
   ],
   "source": [
    "df.head()"
   ]
  },
  {
   "cell_type": "code",
   "execution_count": 9,
   "id": "b369e4a0-8cd4-45aa-aa02-ab20356d7dd0",
   "metadata": {},
   "outputs": [],
   "source": [
    "df.set_index('date',inplace=True) \n",
    "df.sort_index(inplace=True)"
   ]
  },
  {
   "cell_type": "code",
   "execution_count": 10,
   "id": "eae71c9a-2f74-438e-95ec-ca833c7c8f02",
   "metadata": {},
   "outputs": [],
   "source": [
    "#df1= df.groupby(df['date']).agg('sum')\n",
    "weekly = df.resample('W',closed='left').sum()\n",
    "weekly.index = weekly.index - pd.DateOffset(days=6)"
   ]
  },
  {
   "cell_type": "code",
   "execution_count": 11,
   "id": "84a3677d-4a5f-4ba3-af28-658792c99c2a",
   "metadata": {},
   "outputs": [
    {
     "data": {
      "text/plain": [
       "(1092, 3)"
      ]
     },
     "execution_count": 11,
     "metadata": {},
     "output_type": "execute_result"
    }
   ],
   "source": [
    "weekly.shape"
   ]
  },
  {
   "cell_type": "code",
   "execution_count": 12,
   "id": "dc1581f0-0e26-488f-a209-01ac88c6f824",
   "metadata": {},
   "outputs": [
    {
     "data": {
      "text/html": [
       "<div>\n",
       "<style scoped>\n",
       "    .dataframe tbody tr th:only-of-type {\n",
       "        vertical-align: middle;\n",
       "    }\n",
       "\n",
       "    .dataframe tbody tr th {\n",
       "        vertical-align: top;\n",
       "    }\n",
       "\n",
       "    .dataframe thead th {\n",
       "        text-align: right;\n",
       "    }\n",
       "</style>\n",
       "<table border=\"1\" class=\"dataframe\">\n",
       "  <thead>\n",
       "    <tr style=\"text-align: right;\">\n",
       "      <th></th>\n",
       "      <th>bus</th>\n",
       "      <th>rail_boardings</th>\n",
       "      <th>total_rides</th>\n",
       "    </tr>\n",
       "    <tr>\n",
       "      <th>date</th>\n",
       "      <th></th>\n",
       "      <th></th>\n",
       "      <th></th>\n",
       "    </tr>\n",
       "  </thead>\n",
       "  <tbody>\n",
       "    <tr>\n",
       "      <th>2001-01-01</th>\n",
       "      <td>4240790</td>\n",
       "      <td>2528123</td>\n",
       "      <td>6768913</td>\n",
       "    </tr>\n",
       "    <tr>\n",
       "      <th>2001-01-08</th>\n",
       "      <td>5930650</td>\n",
       "      <td>3445299</td>\n",
       "      <td>9375949</td>\n",
       "    </tr>\n",
       "    <tr>\n",
       "      <th>2001-01-15</th>\n",
       "      <td>5591301</td>\n",
       "      <td>3295995</td>\n",
       "      <td>8887296</td>\n",
       "    </tr>\n",
       "    <tr>\n",
       "      <th>2001-01-22</th>\n",
       "      <td>5956378</td>\n",
       "      <td>3463065</td>\n",
       "      <td>9419443</td>\n",
       "    </tr>\n",
       "    <tr>\n",
       "      <th>2001-01-29</th>\n",
       "      <td>5936801</td>\n",
       "      <td>3436499</td>\n",
       "      <td>9373300</td>\n",
       "    </tr>\n",
       "    <tr>\n",
       "      <th>...</th>\n",
       "      <td>...</td>\n",
       "      <td>...</td>\n",
       "      <td>...</td>\n",
       "    </tr>\n",
       "    <tr>\n",
       "      <th>2021-11-01</th>\n",
       "      <td>2747792</td>\n",
       "      <td>2013070</td>\n",
       "      <td>4760862</td>\n",
       "    </tr>\n",
       "    <tr>\n",
       "      <th>2021-11-08</th>\n",
       "      <td>2604481</td>\n",
       "      <td>1951484</td>\n",
       "      <td>4555965</td>\n",
       "    </tr>\n",
       "    <tr>\n",
       "      <th>2021-11-15</th>\n",
       "      <td>2647447</td>\n",
       "      <td>2007509</td>\n",
       "      <td>4654956</td>\n",
       "    </tr>\n",
       "    <tr>\n",
       "      <th>2021-11-22</th>\n",
       "      <td>2071230</td>\n",
       "      <td>1505622</td>\n",
       "      <td>3576852</td>\n",
       "    </tr>\n",
       "    <tr>\n",
       "      <th>2021-11-29</th>\n",
       "      <td>1056369</td>\n",
       "      <td>726269</td>\n",
       "      <td>1782638</td>\n",
       "    </tr>\n",
       "  </tbody>\n",
       "</table>\n",
       "<p>1092 rows × 3 columns</p>\n",
       "</div>"
      ],
      "text/plain": [
       "                bus  rail_boardings  total_rides\n",
       "date                                            \n",
       "2001-01-01  4240790         2528123      6768913\n",
       "2001-01-08  5930650         3445299      9375949\n",
       "2001-01-15  5591301         3295995      8887296\n",
       "2001-01-22  5956378         3463065      9419443\n",
       "2001-01-29  5936801         3436499      9373300\n",
       "...             ...             ...          ...\n",
       "2021-11-01  2747792         2013070      4760862\n",
       "2021-11-08  2604481         1951484      4555965\n",
       "2021-11-15  2647447         2007509      4654956\n",
       "2021-11-22  2071230         1505622      3576852\n",
       "2021-11-29  1056369          726269      1782638\n",
       "\n",
       "[1092 rows x 3 columns]"
      ]
     },
     "execution_count": 12,
     "metadata": {},
     "output_type": "execute_result"
    }
   ],
   "source": [
    "weekly"
   ]
  },
  {
   "cell_type": "markdown",
   "id": "9c43b0e8-205a-4bbd-8b14-611eeb8cbe6e",
   "metadata": {},
   "source": [
    "## Prep Gas"
   ]
  },
  {
   "cell_type": "code",
   "execution_count": 16,
   "id": "91735e58-9722-4fcf-bba7-cf3b1d920eb9",
   "metadata": {},
   "outputs": [],
   "source": [
    "gas = gas.rename(columns={'Week of':'date', 'Weekly Chicago Regular All Formulations Retail Gasoline Prices Dollars per Gallon':'price'})"
   ]
  },
  {
   "cell_type": "code",
   "execution_count": 17,
   "id": "aed27f39-06f1-4f84-9a2d-2a62aece7b53",
   "metadata": {},
   "outputs": [],
   "source": [
    "gas['date']=pd.to_datetime(gas['date'])"
   ]
  },
  {
   "cell_type": "code",
   "execution_count": 18,
   "id": "4cb2a542-e6cf-4ba2-83d0-c4034c61ffbd",
   "metadata": {},
   "outputs": [
    {
     "data": {
      "text/html": [
       "<div>\n",
       "<style scoped>\n",
       "    .dataframe tbody tr th:only-of-type {\n",
       "        vertical-align: middle;\n",
       "    }\n",
       "\n",
       "    .dataframe tbody tr th {\n",
       "        vertical-align: top;\n",
       "    }\n",
       "\n",
       "    .dataframe thead th {\n",
       "        text-align: right;\n",
       "    }\n",
       "</style>\n",
       "<table border=\"1\" class=\"dataframe\">\n",
       "  <thead>\n",
       "    <tr style=\"text-align: right;\">\n",
       "      <th></th>\n",
       "      <th>price</th>\n",
       "    </tr>\n",
       "    <tr>\n",
       "      <th>date</th>\n",
       "      <th></th>\n",
       "    </tr>\n",
       "  </thead>\n",
       "  <tbody>\n",
       "    <tr>\n",
       "      <th>2000-06-05</th>\n",
       "      <td>1.949</td>\n",
       "    </tr>\n",
       "    <tr>\n",
       "      <th>2000-06-12</th>\n",
       "      <td>2.091</td>\n",
       "    </tr>\n",
       "    <tr>\n",
       "      <th>2000-06-19</th>\n",
       "      <td>2.108</td>\n",
       "    </tr>\n",
       "    <tr>\n",
       "      <th>2000-06-26</th>\n",
       "      <td>1.989</td>\n",
       "    </tr>\n",
       "    <tr>\n",
       "      <th>2000-07-03</th>\n",
       "      <td>1.786</td>\n",
       "    </tr>\n",
       "    <tr>\n",
       "      <th>...</th>\n",
       "      <td>...</td>\n",
       "    </tr>\n",
       "    <tr>\n",
       "      <th>2021-12-27</th>\n",
       "      <td>3.340</td>\n",
       "    </tr>\n",
       "    <tr>\n",
       "      <th>2022-01-03</th>\n",
       "      <td>3.320</td>\n",
       "    </tr>\n",
       "    <tr>\n",
       "      <th>2022-01-10</th>\n",
       "      <td>3.457</td>\n",
       "    </tr>\n",
       "    <tr>\n",
       "      <th>2022-01-17</th>\n",
       "      <td>3.404</td>\n",
       "    </tr>\n",
       "    <tr>\n",
       "      <th>2022-01-24</th>\n",
       "      <td>3.444</td>\n",
       "    </tr>\n",
       "  </tbody>\n",
       "</table>\n",
       "<p>1130 rows × 1 columns</p>\n",
       "</div>"
      ],
      "text/plain": [
       "            price\n",
       "date             \n",
       "2000-06-05  1.949\n",
       "2000-06-12  2.091\n",
       "2000-06-19  2.108\n",
       "2000-06-26  1.989\n",
       "2000-07-03  1.786\n",
       "...           ...\n",
       "2021-12-27  3.340\n",
       "2022-01-03  3.320\n",
       "2022-01-10  3.457\n",
       "2022-01-17  3.404\n",
       "2022-01-24  3.444\n",
       "\n",
       "[1130 rows x 1 columns]"
      ]
     },
     "execution_count": 18,
     "metadata": {},
     "output_type": "execute_result"
    }
   ],
   "source": [
    "gas.set_index('date',inplace=True)\n",
    "gas.sort_index(inplace=True)\n",
    "gas"
   ]
  },
  {
   "cell_type": "code",
   "execution_count": 19,
   "id": "c71688d3-ea4f-4162-9db1-2cea0364fb50",
   "metadata": {},
   "outputs": [],
   "source": [
    "merged = weekly.merge(gas, how='outer', left_index=True, right_index=True)"
   ]
  },
  {
   "cell_type": "code",
   "execution_count": 20,
   "id": "76b48641-21de-4fd3-9ade-32725240bbba",
   "metadata": {},
   "outputs": [
    {
     "data": {
      "text/plain": [
       "bus               38\n",
       "rail_boardings    38\n",
       "total_rides       38\n",
       "price              0\n",
       "dtype: int64"
      ]
     },
     "execution_count": 20,
     "metadata": {},
     "output_type": "execute_result"
    }
   ],
   "source": [
    "merged.isna().sum()"
   ]
  },
  {
   "cell_type": "code",
   "execution_count": 21,
   "id": "442cc7fd-877c-4278-bd94-9375e6b8d9c0",
   "metadata": {},
   "outputs": [],
   "source": [
    "merged.dropna(inplace=True)"
   ]
  },
  {
   "cell_type": "code",
   "execution_count": 23,
   "id": "129f2dbb-655a-44a7-8335-c874bc68c649",
   "metadata": {},
   "outputs": [
    {
     "data": {
      "text/plain": [
       "(1092, 4)"
      ]
     },
     "execution_count": 23,
     "metadata": {},
     "output_type": "execute_result"
    }
   ],
   "source": [
    "merged.shape"
   ]
  },
  {
   "cell_type": "code",
   "execution_count": 27,
   "id": "9be5a575-11f5-4da3-918a-ce184ed2a225",
   "metadata": {},
   "outputs": [
    {
     "data": {
      "text/html": [
       "<div>\n",
       "<style scoped>\n",
       "    .dataframe tbody tr th:only-of-type {\n",
       "        vertical-align: middle;\n",
       "    }\n",
       "\n",
       "    .dataframe tbody tr th {\n",
       "        vertical-align: top;\n",
       "    }\n",
       "\n",
       "    .dataframe thead th {\n",
       "        text-align: right;\n",
       "    }\n",
       "</style>\n",
       "<table border=\"1\" class=\"dataframe\">\n",
       "  <thead>\n",
       "    <tr style=\"text-align: right;\">\n",
       "      <th></th>\n",
       "      <th>bus</th>\n",
       "      <th>rail_boardings</th>\n",
       "      <th>total_rides</th>\n",
       "      <th>price</th>\n",
       "    </tr>\n",
       "    <tr>\n",
       "      <th>date</th>\n",
       "      <th></th>\n",
       "      <th></th>\n",
       "      <th></th>\n",
       "      <th></th>\n",
       "    </tr>\n",
       "  </thead>\n",
       "  <tbody>\n",
       "    <tr>\n",
       "      <th>2001-01-01</th>\n",
       "      <td>4240790.0</td>\n",
       "      <td>2528123.0</td>\n",
       "      <td>6768913.0</td>\n",
       "      <td>1.487</td>\n",
       "    </tr>\n",
       "    <tr>\n",
       "      <th>2001-01-08</th>\n",
       "      <td>5930650.0</td>\n",
       "      <td>3445299.0</td>\n",
       "      <td>9375949.0</td>\n",
       "      <td>1.477</td>\n",
       "    </tr>\n",
       "    <tr>\n",
       "      <th>2001-01-15</th>\n",
       "      <td>5591301.0</td>\n",
       "      <td>3295995.0</td>\n",
       "      <td>8887296.0</td>\n",
       "      <td>1.569</td>\n",
       "    </tr>\n",
       "    <tr>\n",
       "      <th>2001-01-22</th>\n",
       "      <td>5956378.0</td>\n",
       "      <td>3463065.0</td>\n",
       "      <td>9419443.0</td>\n",
       "      <td>1.546</td>\n",
       "    </tr>\n",
       "    <tr>\n",
       "      <th>2001-01-29</th>\n",
       "      <td>5936801.0</td>\n",
       "      <td>3436499.0</td>\n",
       "      <td>9373300.0</td>\n",
       "      <td>1.541</td>\n",
       "    </tr>\n",
       "    <tr>\n",
       "      <th>...</th>\n",
       "      <td>...</td>\n",
       "      <td>...</td>\n",
       "      <td>...</td>\n",
       "      <td>...</td>\n",
       "    </tr>\n",
       "    <tr>\n",
       "      <th>2021-11-01</th>\n",
       "      <td>2747792.0</td>\n",
       "      <td>2013070.0</td>\n",
       "      <td>4760862.0</td>\n",
       "      <td>3.539</td>\n",
       "    </tr>\n",
       "    <tr>\n",
       "      <th>2021-11-08</th>\n",
       "      <td>2604481.0</td>\n",
       "      <td>1951484.0</td>\n",
       "      <td>4555965.0</td>\n",
       "      <td>3.616</td>\n",
       "    </tr>\n",
       "    <tr>\n",
       "      <th>2021-11-15</th>\n",
       "      <td>2647447.0</td>\n",
       "      <td>2007509.0</td>\n",
       "      <td>4654956.0</td>\n",
       "      <td>3.557</td>\n",
       "    </tr>\n",
       "    <tr>\n",
       "      <th>2021-11-22</th>\n",
       "      <td>2071230.0</td>\n",
       "      <td>1505622.0</td>\n",
       "      <td>3576852.0</td>\n",
       "      <td>3.565</td>\n",
       "    </tr>\n",
       "    <tr>\n",
       "      <th>2021-11-29</th>\n",
       "      <td>1056369.0</td>\n",
       "      <td>726269.0</td>\n",
       "      <td>1782638.0</td>\n",
       "      <td>3.501</td>\n",
       "    </tr>\n",
       "  </tbody>\n",
       "</table>\n",
       "<p>1092 rows × 4 columns</p>\n",
       "</div>"
      ],
      "text/plain": [
       "                  bus  rail_boardings  total_rides  price\n",
       "date                                                     \n",
       "2001-01-01  4240790.0       2528123.0    6768913.0  1.487\n",
       "2001-01-08  5930650.0       3445299.0    9375949.0  1.477\n",
       "2001-01-15  5591301.0       3295995.0    8887296.0  1.569\n",
       "2001-01-22  5956378.0       3463065.0    9419443.0  1.546\n",
       "2001-01-29  5936801.0       3436499.0    9373300.0  1.541\n",
       "...               ...             ...          ...    ...\n",
       "2021-11-01  2747792.0       2013070.0    4760862.0  3.539\n",
       "2021-11-08  2604481.0       1951484.0    4555965.0  3.616\n",
       "2021-11-15  2647447.0       2007509.0    4654956.0  3.557\n",
       "2021-11-22  2071230.0       1505622.0    3576852.0  3.565\n",
       "2021-11-29  1056369.0        726269.0    1782638.0  3.501\n",
       "\n",
       "[1092 rows x 4 columns]"
      ]
     },
     "execution_count": 27,
     "metadata": {},
     "output_type": "execute_result"
    }
   ],
   "source": [
    "merged"
   ]
  },
  {
   "cell_type": "markdown",
   "id": "16ce4617-9516-46b2-a80b-5b0456cee8fd",
   "metadata": {},
   "source": [
    "## Weather"
   ]
  },
  {
   "cell_type": "code",
   "execution_count": null,
   "id": "c42719af-8352-4758-a41e-35e4b109f926",
   "metadata": {},
   "outputs": [],
   "source": []
  },
  {
   "cell_type": "code",
   "execution_count": null,
   "id": "00e9ceea-41f1-48a1-ad00-705b8730be34",
   "metadata": {},
   "outputs": [],
   "source": []
  },
  {
   "cell_type": "code",
   "execution_count": null,
   "id": "f0d60fc8-7d1c-496c-a14e-337592b73e9b",
   "metadata": {},
   "outputs": [],
   "source": [
    "# df.to_csv('../capstone-data/cta-monthly-primary.csv')"
   ]
  }
 ],
 "metadata": {
  "kernelspec": {
   "display_name": "Python [conda env:dsi] *",
   "language": "python",
   "name": "conda-env-dsi-py"
  },
  "language_info": {
   "codemirror_mode": {
    "name": "ipython",
    "version": 3
   },
   "file_extension": ".py",
   "mimetype": "text/x-python",
   "name": "python",
   "nbconvert_exporter": "python",
   "pygments_lexer": "ipython3",
   "version": "3.8.8"
  }
 },
 "nbformat": 4,
 "nbformat_minor": 5
}
