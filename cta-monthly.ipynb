{
 "cells": [
  {
   "cell_type": "code",
   "execution_count": 1,
   "id": "d5fe45ed-5704-4781-a762-ba47d859c419",
   "metadata": {},
   "outputs": [],
   "source": [
    "import pandas as pd\n",
    "import numpy as np\n",
    "\n",
    "pd.set_option('display.max_columns', 200)\n",
    "pd.set_option('display.max_rows', 200)"
   ]
  },
  {
   "cell_type": "markdown",
   "id": "4d11a296-789a-4e7b-ac4a-e4f80abd355b",
   "metadata": {
    "tags": []
   },
   "source": [
    "# Monthly Ridership Main DF Cleaning"
   ]
  },
  {
   "cell_type": "code",
   "execution_count": 2,
   "id": "152047c8-e4ba-4485-b0e0-18acba6c08e0",
   "metadata": {},
   "outputs": [],
   "source": [
    "monthly = pd.read_csv('../capstone-data/daily/CTA_-_Ridership_-_Daily_Boarding_Totals.csv')"
   ]
  },
  {
   "cell_type": "code",
   "execution_count": 3,
   "id": "ef85eaae-7204-42a4-9fdd-d5f3d55b2d5b",
   "metadata": {},
   "outputs": [
    {
     "data": {
      "text/plain": [
       "(7701, 5)"
      ]
     },
     "execution_count": 3,
     "metadata": {},
     "output_type": "execute_result"
    }
   ],
   "source": [
    "monthly.shape"
   ]
  },
  {
   "cell_type": "code",
   "execution_count": 4,
   "id": "cac97f6f-08f0-4441-b637-2a58569fc0b9",
   "metadata": {},
   "outputs": [
    {
     "data": {
      "text/plain": [
       "service_date      0\n",
       "day_type          0\n",
       "bus               0\n",
       "rail_boardings    0\n",
       "total_rides       0\n",
       "dtype: int64"
      ]
     },
     "execution_count": 4,
     "metadata": {},
     "output_type": "execute_result"
    }
   ],
   "source": [
    "monthly.isna().sum()"
   ]
  },
  {
   "cell_type": "code",
   "execution_count": 5,
   "id": "a013dc29-fb41-416a-af16-c7fdda0b0e43",
   "metadata": {},
   "outputs": [
    {
     "data": {
      "text/html": [
       "<div>\n",
       "<style scoped>\n",
       "    .dataframe tbody tr th:only-of-type {\n",
       "        vertical-align: middle;\n",
       "    }\n",
       "\n",
       "    .dataframe tbody tr th {\n",
       "        vertical-align: top;\n",
       "    }\n",
       "\n",
       "    .dataframe thead th {\n",
       "        text-align: right;\n",
       "    }\n",
       "</style>\n",
       "<table border=\"1\" class=\"dataframe\">\n",
       "  <thead>\n",
       "    <tr style=\"text-align: right;\">\n",
       "      <th></th>\n",
       "      <th>service_date</th>\n",
       "      <th>day_type</th>\n",
       "      <th>bus</th>\n",
       "      <th>rail_boardings</th>\n",
       "      <th>total_rides</th>\n",
       "    </tr>\n",
       "  </thead>\n",
       "  <tbody>\n",
       "    <tr>\n",
       "      <th>7696</th>\n",
       "      <td>11/26/2021</td>\n",
       "      <td>W</td>\n",
       "      <td>257700</td>\n",
       "      <td>189694</td>\n",
       "      <td>447394</td>\n",
       "    </tr>\n",
       "    <tr>\n",
       "      <th>7697</th>\n",
       "      <td>11/27/2021</td>\n",
       "      <td>A</td>\n",
       "      <td>237839</td>\n",
       "      <td>187065</td>\n",
       "      <td>424904</td>\n",
       "    </tr>\n",
       "    <tr>\n",
       "      <th>7698</th>\n",
       "      <td>11/28/2021</td>\n",
       "      <td>U</td>\n",
       "      <td>184817</td>\n",
       "      <td>147830</td>\n",
       "      <td>332647</td>\n",
       "    </tr>\n",
       "    <tr>\n",
       "      <th>7699</th>\n",
       "      <td>11/29/2021</td>\n",
       "      <td>W</td>\n",
       "      <td>421322</td>\n",
       "      <td>276090</td>\n",
       "      <td>697412</td>\n",
       "    </tr>\n",
       "    <tr>\n",
       "      <th>7700</th>\n",
       "      <td>11/30/2021</td>\n",
       "      <td>W</td>\n",
       "      <td>450230</td>\n",
       "      <td>302349</td>\n",
       "      <td>752579</td>\n",
       "    </tr>\n",
       "  </tbody>\n",
       "</table>\n",
       "</div>"
      ],
      "text/plain": [
       "     service_date day_type     bus  rail_boardings  total_rides\n",
       "7696   11/26/2021        W  257700          189694       447394\n",
       "7697   11/27/2021        A  237839          187065       424904\n",
       "7698   11/28/2021        U  184817          147830       332647\n",
       "7699   11/29/2021        W  421322          276090       697412\n",
       "7700   11/30/2021        W  450230          302349       752579"
      ]
     },
     "execution_count": 5,
     "metadata": {},
     "output_type": "execute_result"
    }
   ],
   "source": [
    "monthly.tail()"
   ]
  },
  {
   "cell_type": "code",
   "execution_count": 6,
   "id": "5cef2474-a0f5-4cc3-a3ae-11ee52efd534",
   "metadata": {},
   "outputs": [
    {
     "data": {
      "text/plain": [
       "service_date      object\n",
       "day_type          object\n",
       "bus                int64\n",
       "rail_boardings     int64\n",
       "total_rides        int64\n",
       "dtype: object"
      ]
     },
     "execution_count": 6,
     "metadata": {},
     "output_type": "execute_result"
    }
   ],
   "source": [
    "monthly.dtypes"
   ]
  },
  {
   "cell_type": "code",
   "execution_count": 7,
   "id": "a12a28c0-8a59-407b-b1b9-b7100b2d4cf6",
   "metadata": {},
   "outputs": [],
   "source": [
    "monthly.drop(columns={'day_type'},inplace=True)\n",
    "monthly.rename(columns={'service_date':'date','rail_boardings':'rail'},inplace=True)"
   ]
  },
  {
   "cell_type": "code",
   "execution_count": 8,
   "id": "252f7fb6-9c65-4be6-9f9d-c52faf81b1ef",
   "metadata": {},
   "outputs": [],
   "source": [
    "monthly['date']= pd.to_datetime(monthly['date'])\n",
    "monthly.set_index('date',inplace=True)\n",
    "monthly.sort_index(inplace=True)"
   ]
  },
  {
   "cell_type": "code",
   "execution_count": 9,
   "id": "46d2fe99-d418-4d21-8d66-4b1ae392d305",
   "metadata": {},
   "outputs": [
    {
     "data": {
      "text/plain": [
       "bus            int64\n",
       "rail           int64\n",
       "total_rides    int64\n",
       "dtype: object"
      ]
     },
     "execution_count": 9,
     "metadata": {},
     "output_type": "execute_result"
    }
   ],
   "source": [
    "monthly.dtypes"
   ]
  },
  {
   "cell_type": "code",
   "execution_count": 10,
   "id": "09050c2d-15f6-43b2-83c0-5094343700aa",
   "metadata": {},
   "outputs": [
    {
     "data": {
      "text/html": [
       "<div>\n",
       "<style scoped>\n",
       "    .dataframe tbody tr th:only-of-type {\n",
       "        vertical-align: middle;\n",
       "    }\n",
       "\n",
       "    .dataframe tbody tr th {\n",
       "        vertical-align: top;\n",
       "    }\n",
       "\n",
       "    .dataframe thead th {\n",
       "        text-align: right;\n",
       "    }\n",
       "</style>\n",
       "<table border=\"1\" class=\"dataframe\">\n",
       "  <thead>\n",
       "    <tr style=\"text-align: right;\">\n",
       "      <th></th>\n",
       "      <th>bus</th>\n",
       "      <th>rail</th>\n",
       "      <th>total_rides</th>\n",
       "    </tr>\n",
       "    <tr>\n",
       "      <th>date</th>\n",
       "      <th></th>\n",
       "      <th></th>\n",
       "      <th></th>\n",
       "    </tr>\n",
       "  </thead>\n",
       "  <tbody>\n",
       "    <tr>\n",
       "      <th>2001-01-01</th>\n",
       "      <td>297192</td>\n",
       "      <td>126455</td>\n",
       "      <td>423647</td>\n",
       "    </tr>\n",
       "    <tr>\n",
       "      <th>2001-01-02</th>\n",
       "      <td>780827</td>\n",
       "      <td>501952</td>\n",
       "      <td>1282779</td>\n",
       "    </tr>\n",
       "    <tr>\n",
       "      <th>2001-01-03</th>\n",
       "      <td>824923</td>\n",
       "      <td>536432</td>\n",
       "      <td>1361355</td>\n",
       "    </tr>\n",
       "    <tr>\n",
       "      <th>2001-01-04</th>\n",
       "      <td>870021</td>\n",
       "      <td>550011</td>\n",
       "      <td>1420032</td>\n",
       "    </tr>\n",
       "    <tr>\n",
       "      <th>2001-01-05</th>\n",
       "      <td>890426</td>\n",
       "      <td>557917</td>\n",
       "      <td>1448343</td>\n",
       "    </tr>\n",
       "  </tbody>\n",
       "</table>\n",
       "</div>"
      ],
      "text/plain": [
       "               bus    rail  total_rides\n",
       "date                                   \n",
       "2001-01-01  297192  126455       423647\n",
       "2001-01-02  780827  501952      1282779\n",
       "2001-01-03  824923  536432      1361355\n",
       "2001-01-04  870021  550011      1420032\n",
       "2001-01-05  890426  557917      1448343"
      ]
     },
     "execution_count": 10,
     "metadata": {},
     "output_type": "execute_result"
    }
   ],
   "source": [
    "monthly.head()"
   ]
  },
  {
   "cell_type": "code",
   "execution_count": 13,
   "id": "dec01cf2-108c-4dd0-9636-721739d4a531",
   "metadata": {},
   "outputs": [],
   "source": [
    "df=monthly.resample('MS').sum()"
   ]
  },
  {
   "cell_type": "code",
   "execution_count": 14,
   "id": "64cb6cb5-d57d-4862-91e2-0560404b5702",
   "metadata": {},
   "outputs": [
    {
     "data": {
      "text/html": [
       "<div>\n",
       "<style scoped>\n",
       "    .dataframe tbody tr th:only-of-type {\n",
       "        vertical-align: middle;\n",
       "    }\n",
       "\n",
       "    .dataframe tbody tr th {\n",
       "        vertical-align: top;\n",
       "    }\n",
       "\n",
       "    .dataframe thead th {\n",
       "        text-align: right;\n",
       "    }\n",
       "</style>\n",
       "<table border=\"1\" class=\"dataframe\">\n",
       "  <thead>\n",
       "    <tr style=\"text-align: right;\">\n",
       "      <th></th>\n",
       "      <th>bus</th>\n",
       "      <th>rail</th>\n",
       "      <th>total_rides</th>\n",
       "    </tr>\n",
       "    <tr>\n",
       "      <th>date</th>\n",
       "      <th></th>\n",
       "      <th></th>\n",
       "      <th></th>\n",
       "    </tr>\n",
       "  </thead>\n",
       "  <tbody>\n",
       "    <tr>\n",
       "      <th>2001-01-01</th>\n",
       "      <td>25022908</td>\n",
       "      <td>14712334</td>\n",
       "      <td>39735242</td>\n",
       "    </tr>\n",
       "    <tr>\n",
       "      <th>2001-02-01</th>\n",
       "      <td>23768892</td>\n",
       "      <td>13669269</td>\n",
       "      <td>37438161</td>\n",
       "    </tr>\n",
       "    <tr>\n",
       "      <th>2001-03-01</th>\n",
       "      <td>26827165</td>\n",
       "      <td>15463578</td>\n",
       "      <td>42290743</td>\n",
       "    </tr>\n",
       "    <tr>\n",
       "      <th>2001-04-01</th>\n",
       "      <td>25053791</td>\n",
       "      <td>14713336</td>\n",
       "      <td>39767127</td>\n",
       "    </tr>\n",
       "    <tr>\n",
       "      <th>2001-05-01</th>\n",
       "      <td>26743744</td>\n",
       "      <td>15743730</td>\n",
       "      <td>42487474</td>\n",
       "    </tr>\n",
       "  </tbody>\n",
       "</table>\n",
       "</div>"
      ],
      "text/plain": [
       "                 bus      rail  total_rides\n",
       "date                                       \n",
       "2001-01-01  25022908  14712334     39735242\n",
       "2001-02-01  23768892  13669269     37438161\n",
       "2001-03-01  26827165  15463578     42290743\n",
       "2001-04-01  25053791  14713336     39767127\n",
       "2001-05-01  26743744  15743730     42487474"
      ]
     },
     "execution_count": 14,
     "metadata": {},
     "output_type": "execute_result"
    }
   ],
   "source": [
    "df.head()"
   ]
  },
  {
   "cell_type": "code",
   "execution_count": 16,
   "id": "166457d8-85ef-4d68-bcdf-0889b9be5ce3",
   "metadata": {},
   "outputs": [
    {
     "data": {
      "text/html": [
       "<div>\n",
       "<style scoped>\n",
       "    .dataframe tbody tr th:only-of-type {\n",
       "        vertical-align: middle;\n",
       "    }\n",
       "\n",
       "    .dataframe tbody tr th {\n",
       "        vertical-align: top;\n",
       "    }\n",
       "\n",
       "    .dataframe thead th {\n",
       "        text-align: right;\n",
       "    }\n",
       "</style>\n",
       "<table border=\"1\" class=\"dataframe\">\n",
       "  <thead>\n",
       "    <tr style=\"text-align: right;\">\n",
       "      <th></th>\n",
       "      <th>bus</th>\n",
       "      <th>rail</th>\n",
       "      <th>total_rides</th>\n",
       "    </tr>\n",
       "    <tr>\n",
       "      <th>date</th>\n",
       "      <th></th>\n",
       "      <th></th>\n",
       "      <th></th>\n",
       "    </tr>\n",
       "  </thead>\n",
       "  <tbody>\n",
       "    <tr>\n",
       "      <th>2021-07-01</th>\n",
       "      <td>10605134</td>\n",
       "      <td>7987466</td>\n",
       "      <td>18592600</td>\n",
       "    </tr>\n",
       "    <tr>\n",
       "      <th>2021-08-01</th>\n",
       "      <td>10949681</td>\n",
       "      <td>8061195</td>\n",
       "      <td>19010876</td>\n",
       "    </tr>\n",
       "    <tr>\n",
       "      <th>2021-09-01</th>\n",
       "      <td>12058765</td>\n",
       "      <td>8988251</td>\n",
       "      <td>21047016</td>\n",
       "    </tr>\n",
       "    <tr>\n",
       "      <th>2021-10-01</th>\n",
       "      <td>11905629</td>\n",
       "      <td>9029274</td>\n",
       "      <td>20934903</td>\n",
       "    </tr>\n",
       "    <tr>\n",
       "      <th>2021-11-01</th>\n",
       "      <td>10923926</td>\n",
       "      <td>8020686</td>\n",
       "      <td>18944612</td>\n",
       "    </tr>\n",
       "  </tbody>\n",
       "</table>\n",
       "</div>"
      ],
      "text/plain": [
       "                 bus     rail  total_rides\n",
       "date                                      \n",
       "2021-07-01  10605134  7987466     18592600\n",
       "2021-08-01  10949681  8061195     19010876\n",
       "2021-09-01  12058765  8988251     21047016\n",
       "2021-10-01  11905629  9029274     20934903\n",
       "2021-11-01  10923926  8020686     18944612"
      ]
     },
     "execution_count": 16,
     "metadata": {},
     "output_type": "execute_result"
    }
   ],
   "source": [
    "df.tail()"
   ]
  },
  {
   "cell_type": "code",
   "execution_count": 17,
   "id": "706baa25-5289-47fa-aadf-f1fc89896e65",
   "metadata": {},
   "outputs": [],
   "source": [
    "df=df.astype(float)"
   ]
  },
  {
   "cell_type": "code",
   "execution_count": 18,
   "id": "ec3c6ed1-10f5-4064-858a-bd334f624215",
   "metadata": {},
   "outputs": [
    {
     "data": {
      "text/plain": [
       "bus            float64\n",
       "rail           float64\n",
       "total_rides    float64\n",
       "dtype: object"
      ]
     },
     "execution_count": 18,
     "metadata": {},
     "output_type": "execute_result"
    }
   ],
   "source": [
    "df.dtypes"
   ]
  },
  {
   "cell_type": "code",
   "execution_count": 19,
   "id": "5989a1a0-47e1-4424-9f85-b776d3f6b157",
   "metadata": {},
   "outputs": [],
   "source": [
    "df.sort_index(inplace=True)"
   ]
  },
  {
   "cell_type": "code",
   "execution_count": 20,
   "id": "9dfb7373-d322-44cb-8a57-8031c89e98db",
   "metadata": {},
   "outputs": [
    {
     "data": {
      "text/html": [
       "<div>\n",
       "<style scoped>\n",
       "    .dataframe tbody tr th:only-of-type {\n",
       "        vertical-align: middle;\n",
       "    }\n",
       "\n",
       "    .dataframe tbody tr th {\n",
       "        vertical-align: top;\n",
       "    }\n",
       "\n",
       "    .dataframe thead th {\n",
       "        text-align: right;\n",
       "    }\n",
       "</style>\n",
       "<table border=\"1\" class=\"dataframe\">\n",
       "  <thead>\n",
       "    <tr style=\"text-align: right;\">\n",
       "      <th></th>\n",
       "      <th>bus</th>\n",
       "      <th>rail</th>\n",
       "      <th>total_rides</th>\n",
       "    </tr>\n",
       "    <tr>\n",
       "      <th>date</th>\n",
       "      <th></th>\n",
       "      <th></th>\n",
       "      <th></th>\n",
       "    </tr>\n",
       "  </thead>\n",
       "  <tbody>\n",
       "    <tr>\n",
       "      <th>2001-01-01</th>\n",
       "      <td>25022908.0</td>\n",
       "      <td>14712334.0</td>\n",
       "      <td>39735242.0</td>\n",
       "    </tr>\n",
       "    <tr>\n",
       "      <th>2001-02-01</th>\n",
       "      <td>23768892.0</td>\n",
       "      <td>13669269.0</td>\n",
       "      <td>37438161.0</td>\n",
       "    </tr>\n",
       "    <tr>\n",
       "      <th>2001-03-01</th>\n",
       "      <td>26827165.0</td>\n",
       "      <td>15463578.0</td>\n",
       "      <td>42290743.0</td>\n",
       "    </tr>\n",
       "    <tr>\n",
       "      <th>2001-04-01</th>\n",
       "      <td>25053791.0</td>\n",
       "      <td>14713336.0</td>\n",
       "      <td>39767127.0</td>\n",
       "    </tr>\n",
       "    <tr>\n",
       "      <th>2001-05-01</th>\n",
       "      <td>26743744.0</td>\n",
       "      <td>15743730.0</td>\n",
       "      <td>42487474.0</td>\n",
       "    </tr>\n",
       "    <tr>\n",
       "      <th>...</th>\n",
       "      <td>...</td>\n",
       "      <td>...</td>\n",
       "      <td>...</td>\n",
       "    </tr>\n",
       "    <tr>\n",
       "      <th>2021-07-01</th>\n",
       "      <td>10605134.0</td>\n",
       "      <td>7987466.0</td>\n",
       "      <td>18592600.0</td>\n",
       "    </tr>\n",
       "    <tr>\n",
       "      <th>2021-08-01</th>\n",
       "      <td>10949681.0</td>\n",
       "      <td>8061195.0</td>\n",
       "      <td>19010876.0</td>\n",
       "    </tr>\n",
       "    <tr>\n",
       "      <th>2021-09-01</th>\n",
       "      <td>12058765.0</td>\n",
       "      <td>8988251.0</td>\n",
       "      <td>21047016.0</td>\n",
       "    </tr>\n",
       "    <tr>\n",
       "      <th>2021-10-01</th>\n",
       "      <td>11905629.0</td>\n",
       "      <td>9029274.0</td>\n",
       "      <td>20934903.0</td>\n",
       "    </tr>\n",
       "    <tr>\n",
       "      <th>2021-11-01</th>\n",
       "      <td>10923926.0</td>\n",
       "      <td>8020686.0</td>\n",
       "      <td>18944612.0</td>\n",
       "    </tr>\n",
       "  </tbody>\n",
       "</table>\n",
       "<p>251 rows × 3 columns</p>\n",
       "</div>"
      ],
      "text/plain": [
       "                   bus        rail  total_rides\n",
       "date                                           \n",
       "2001-01-01  25022908.0  14712334.0   39735242.0\n",
       "2001-02-01  23768892.0  13669269.0   37438161.0\n",
       "2001-03-01  26827165.0  15463578.0   42290743.0\n",
       "2001-04-01  25053791.0  14713336.0   39767127.0\n",
       "2001-05-01  26743744.0  15743730.0   42487474.0\n",
       "...                ...         ...          ...\n",
       "2021-07-01  10605134.0   7987466.0   18592600.0\n",
       "2021-08-01  10949681.0   8061195.0   19010876.0\n",
       "2021-09-01  12058765.0   8988251.0   21047016.0\n",
       "2021-10-01  11905629.0   9029274.0   20934903.0\n",
       "2021-11-01  10923926.0   8020686.0   18944612.0\n",
       "\n",
       "[251 rows x 3 columns]"
      ]
     },
     "execution_count": 20,
     "metadata": {},
     "output_type": "execute_result"
    }
   ],
   "source": [
    "df"
   ]
  },
  {
   "cell_type": "code",
   "execution_count": 22,
   "id": "21d0b857-1588-4cfa-b93d-a8cca1ee7e53",
   "metadata": {},
   "outputs": [],
   "source": [
    "#df.to_csv('../capstone-data/cta-monthly-primary.csv')"
   ]
  },
  {
   "cell_type": "code",
   "execution_count": 23,
   "id": "018d5a91-0338-4de8-9f24-8dad6795ecd4",
   "metadata": {},
   "outputs": [],
   "source": [
    "#df= pd.read_csv('../capstone-data/cta-monthly-primary')"
   ]
  },
  {
   "cell_type": "code",
   "execution_count": null,
   "id": "1d69fda0-082c-459f-a848-3f9be1c7d008",
   "metadata": {},
   "outputs": [],
   "source": []
  }
 ],
 "metadata": {
  "kernelspec": {
   "display_name": "Python [conda env:dsi] *",
   "language": "python",
   "name": "conda-env-dsi-py"
  },
  "language_info": {
   "codemirror_mode": {
    "name": "ipython",
    "version": 3
   },
   "file_extension": ".py",
   "mimetype": "text/x-python",
   "name": "python",
   "nbconvert_exporter": "python",
   "pygments_lexer": "ipython3",
   "version": "3.8.8"
  }
 },
 "nbformat": 4,
 "nbformat_minor": 5
}
