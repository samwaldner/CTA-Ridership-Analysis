{
 "cells": [
  {
   "cell_type": "code",
   "execution_count": null,
   "id": "d5fe45ed-5704-4781-a762-ba47d859c419",
   "metadata": {},
   "outputs": [],
   "source": [
    "import pandas as pd\n",
    "import numpy as np\n",
    "\n",
    "pd.set_option('display.max_columns', 200)\n",
    "pd.set_option('display.max_rows', 200)"
   ]
  },
  {
   "cell_type": "markdown",
   "id": "4d11a296-789a-4e7b-ac4a-e4f80abd355b",
   "metadata": {
    "tags": []
   },
   "source": [
    "# Monthly Ridership Main DF Cleaning"
   ]
  },
  {
   "cell_type": "code",
   "execution_count": null,
   "id": "152047c8-e4ba-4485-b0e0-18acba6c08e0",
   "metadata": {},
   "outputs": [],
   "source": [
    "monthly = pd.read_csv('../capstone-data/cta-covid-cars/cta/CTA_-_Ridership_-__L__Station_Entries_-_Monthly_Day-Type_Averages___Totals.csv')"
   ]
  },
  {
   "cell_type": "code",
   "execution_count": null,
   "id": "ef85eaae-7204-42a4-9fdd-d5f3d55b2d5b",
   "metadata": {},
   "outputs": [
    {
     "data": {
      "text/plain": [
       "(35190, 7)"
      ]
     },
     "execution_count": 6,
     "metadata": {},
     "output_type": "execute_result"
    }
   ],
   "source": [
    "monthly.shape"
   ]
  },
  {
   "cell_type": "code",
   "execution_count": null,
   "id": "cac97f6f-08f0-4441-b637-2a58569fc0b9",
   "metadata": {},
   "outputs": [
    {
     "data": {
      "text/plain": [
       "station_id                  0\n",
       "stationame                  0\n",
       "month_beginning             0\n",
       "avg_weekday_rides           0\n",
       "avg_saturday_rides          0\n",
       "avg_sunday-holiday_rides    0\n",
       "monthtotal                  0\n",
       "dtype: int64"
      ]
     },
     "execution_count": 7,
     "metadata": {},
     "output_type": "execute_result"
    }
   ],
   "source": [
    "monthly.isna().sum()"
   ]
  },
  {
   "cell_type": "code",
   "execution_count": null,
   "id": "a013dc29-fb41-416a-af16-c7fdda0b0e43",
   "metadata": {},
   "outputs": [
    {
     "data": {
      "text/html": [
       "<div>\n",
       "<style scoped>\n",
       "    .dataframe tbody tr th:only-of-type {\n",
       "        vertical-align: middle;\n",
       "    }\n",
       "\n",
       "    .dataframe tbody tr th {\n",
       "        vertical-align: top;\n",
       "    }\n",
       "\n",
       "    .dataframe thead th {\n",
       "        text-align: right;\n",
       "    }\n",
       "</style>\n",
       "<table border=\"1\" class=\"dataframe\">\n",
       "  <thead>\n",
       "    <tr style=\"text-align: right;\">\n",
       "      <th></th>\n",
       "      <th>station_id</th>\n",
       "      <th>stationame</th>\n",
       "      <th>month_beginning</th>\n",
       "      <th>avg_weekday_rides</th>\n",
       "      <th>avg_saturday_rides</th>\n",
       "      <th>avg_sunday-holiday_rides</th>\n",
       "      <th>monthtotal</th>\n",
       "    </tr>\n",
       "  </thead>\n",
       "  <tbody>\n",
       "    <tr>\n",
       "      <th>35185</th>\n",
       "      <td>40850</td>\n",
       "      <td>Library</td>\n",
       "      <td>07/01/2021</td>\n",
       "      <td>1630.6</td>\n",
       "      <td>1543.2</td>\n",
       "      <td>760.8</td>\n",
       "      <td>45762</td>\n",
       "    </tr>\n",
       "    <tr>\n",
       "      <th>35186</th>\n",
       "      <td>40680</td>\n",
       "      <td>Adams/Wabash</td>\n",
       "      <td>07/01/2021</td>\n",
       "      <td>2690.8</td>\n",
       "      <td>2556.2</td>\n",
       "      <td>1288.2</td>\n",
       "      <td>75728</td>\n",
       "    </tr>\n",
       "    <tr>\n",
       "      <th>35187</th>\n",
       "      <td>41700</td>\n",
       "      <td>Washington/Wabash</td>\n",
       "      <td>07/01/2021</td>\n",
       "      <td>4864.4</td>\n",
       "      <td>4197.4</td>\n",
       "      <td>3004.0</td>\n",
       "      <td>138159</td>\n",
       "    </tr>\n",
       "    <tr>\n",
       "      <th>35188</th>\n",
       "      <td>40260</td>\n",
       "      <td>State/Lake</td>\n",
       "      <td>07/01/2021</td>\n",
       "      <td>4980.2</td>\n",
       "      <td>4851.0</td>\n",
       "      <td>3762.8</td>\n",
       "      <td>147653</td>\n",
       "    </tr>\n",
       "    <tr>\n",
       "      <th>35189</th>\n",
       "      <td>40380</td>\n",
       "      <td>Clark/Lake</td>\n",
       "      <td>07/01/2021</td>\n",
       "      <td>6332.0</td>\n",
       "      <td>4186.2</td>\n",
       "      <td>3455.0</td>\n",
       "      <td>171177</td>\n",
       "    </tr>\n",
       "  </tbody>\n",
       "</table>\n",
       "</div>"
      ],
      "text/plain": [
       "       station_id         stationame month_beginning  avg_weekday_rides  \\\n",
       "35185       40850            Library      07/01/2021             1630.6   \n",
       "35186       40680       Adams/Wabash      07/01/2021             2690.8   \n",
       "35187       41700  Washington/Wabash      07/01/2021             4864.4   \n",
       "35188       40260         State/Lake      07/01/2021             4980.2   \n",
       "35189       40380         Clark/Lake      07/01/2021             6332.0   \n",
       "\n",
       "       avg_saturday_rides  avg_sunday-holiday_rides  monthtotal  \n",
       "35185              1543.2                     760.8       45762  \n",
       "35186              2556.2                    1288.2       75728  \n",
       "35187              4197.4                    3004.0      138159  \n",
       "35188              4851.0                    3762.8      147653  \n",
       "35189              4186.2                    3455.0      171177  "
      ]
     },
     "execution_count": 8,
     "metadata": {},
     "output_type": "execute_result"
    }
   ],
   "source": [
    "monthly.tail()"
   ]
  },
  {
   "cell_type": "code",
   "execution_count": null,
   "id": "926a38e5-e5f8-4490-a01d-1e5fc4123389",
   "metadata": {},
   "outputs": [
    {
     "data": {
      "text/html": [
       "<div>\n",
       "<style scoped>\n",
       "    .dataframe tbody tr th:only-of-type {\n",
       "        vertical-align: middle;\n",
       "    }\n",
       "\n",
       "    .dataframe tbody tr th {\n",
       "        vertical-align: top;\n",
       "    }\n",
       "\n",
       "    .dataframe thead th {\n",
       "        text-align: right;\n",
       "    }\n",
       "</style>\n",
       "<table border=\"1\" class=\"dataframe\">\n",
       "  <thead>\n",
       "    <tr style=\"text-align: right;\">\n",
       "      <th></th>\n",
       "      <th>station_id</th>\n",
       "      <th>stationame</th>\n",
       "      <th>month_beginning</th>\n",
       "      <th>avg_weekday_rides</th>\n",
       "      <th>avg_saturday_rides</th>\n",
       "      <th>avg_sunday-holiday_rides</th>\n",
       "      <th>monthtotal</th>\n",
       "    </tr>\n",
       "  </thead>\n",
       "  <tbody>\n",
       "    <tr>\n",
       "      <th>34183</th>\n",
       "      <td>40160</td>\n",
       "      <td>LaSalle/Van Buren</td>\n",
       "      <td>12/01/2020</td>\n",
       "      <td>364.1</td>\n",
       "      <td>139.8</td>\n",
       "      <td>89.8</td>\n",
       "      <td>9018</td>\n",
       "    </tr>\n",
       "    <tr>\n",
       "      <th>34116</th>\n",
       "      <td>40970</td>\n",
       "      <td>Cicero-Forest Park</td>\n",
       "      <td>12/01/2020</td>\n",
       "      <td>497.1</td>\n",
       "      <td>351.0</td>\n",
       "      <td>292.8</td>\n",
       "      <td>13804</td>\n",
       "    </tr>\n",
       "    <tr>\n",
       "      <th>34096</th>\n",
       "      <td>41240</td>\n",
       "      <td>Addison-O'Hare</td>\n",
       "      <td>12/01/2020</td>\n",
       "      <td>487.2</td>\n",
       "      <td>318.0</td>\n",
       "      <td>220.2</td>\n",
       "      <td>13092</td>\n",
       "    </tr>\n",
       "    <tr>\n",
       "      <th>34095</th>\n",
       "      <td>40550</td>\n",
       "      <td>Irving Park-O'Hare</td>\n",
       "      <td>12/01/2020</td>\n",
       "      <td>986.8</td>\n",
       "      <td>698.8</td>\n",
       "      <td>531.2</td>\n",
       "      <td>27161</td>\n",
       "    </tr>\n",
       "    <tr>\n",
       "      <th>34094</th>\n",
       "      <td>41330</td>\n",
       "      <td>Montrose-O'Hare</td>\n",
       "      <td>12/01/2020</td>\n",
       "      <td>325.5</td>\n",
       "      <td>206.3</td>\n",
       "      <td>165.0</td>\n",
       "      <td>8811</td>\n",
       "    </tr>\n",
       "    <tr>\n",
       "      <th>...</th>\n",
       "      <td>...</td>\n",
       "      <td>...</td>\n",
       "      <td>...</td>\n",
       "      <td>...</td>\n",
       "      <td>...</td>\n",
       "      <td>...</td>\n",
       "      <td>...</td>\n",
       "    </tr>\n",
       "    <tr>\n",
       "      <th>101</th>\n",
       "      <td>41080</td>\n",
       "      <td>47th-South Elevated</td>\n",
       "      <td>01/01/2001</td>\n",
       "      <td>1242.1</td>\n",
       "      <td>789.3</td>\n",
       "      <td>468.4</td>\n",
       "      <td>32826</td>\n",
       "    </tr>\n",
       "    <tr>\n",
       "      <th>102</th>\n",
       "      <td>40130</td>\n",
       "      <td>51st</td>\n",
       "      <td>01/01/2001</td>\n",
       "      <td>1116.7</td>\n",
       "      <td>700.0</td>\n",
       "      <td>448.4</td>\n",
       "      <td>29609</td>\n",
       "    </tr>\n",
       "    <tr>\n",
       "      <th>103</th>\n",
       "      <td>40510</td>\n",
       "      <td>Garfield-South Elevated</td>\n",
       "      <td>01/01/2001</td>\n",
       "      <td>720.8</td>\n",
       "      <td>495.0</td>\n",
       "      <td>304.2</td>\n",
       "      <td>19359</td>\n",
       "    </tr>\n",
       "    <tr>\n",
       "      <th>104</th>\n",
       "      <td>41140</td>\n",
       "      <td>King Drive</td>\n",
       "      <td>01/01/2001</td>\n",
       "      <td>697.8</td>\n",
       "      <td>396.0</td>\n",
       "      <td>220.8</td>\n",
       "      <td>18039</td>\n",
       "    </tr>\n",
       "    <tr>\n",
       "      <th>0</th>\n",
       "      <td>40900</td>\n",
       "      <td>Howard</td>\n",
       "      <td>01/01/2001</td>\n",
       "      <td>6233.9</td>\n",
       "      <td>3814.5</td>\n",
       "      <td>2408.6</td>\n",
       "      <td>164447</td>\n",
       "    </tr>\n",
       "  </tbody>\n",
       "</table>\n",
       "<p>35190 rows × 7 columns</p>\n",
       "</div>"
      ],
      "text/plain": [
       "       station_id               stationame month_beginning  avg_weekday_rides  \\\n",
       "34183       40160        LaSalle/Van Buren      12/01/2020              364.1   \n",
       "34116       40970       Cicero-Forest Park      12/01/2020              497.1   \n",
       "34096       41240           Addison-O'Hare      12/01/2020              487.2   \n",
       "34095       40550       Irving Park-O'Hare      12/01/2020              986.8   \n",
       "34094       41330          Montrose-O'Hare      12/01/2020              325.5   \n",
       "...           ...                      ...             ...                ...   \n",
       "101         41080      47th-South Elevated      01/01/2001             1242.1   \n",
       "102         40130                     51st      01/01/2001             1116.7   \n",
       "103         40510  Garfield-South Elevated      01/01/2001              720.8   \n",
       "104         41140               King Drive      01/01/2001              697.8   \n",
       "0           40900                   Howard      01/01/2001             6233.9   \n",
       "\n",
       "       avg_saturday_rides  avg_sunday-holiday_rides  monthtotal  \n",
       "34183               139.8                      89.8        9018  \n",
       "34116               351.0                     292.8       13804  \n",
       "34096               318.0                     220.2       13092  \n",
       "34095               698.8                     531.2       27161  \n",
       "34094               206.3                     165.0        8811  \n",
       "...                   ...                       ...         ...  \n",
       "101                 789.3                     468.4       32826  \n",
       "102                 700.0                     448.4       29609  \n",
       "103                 495.0                     304.2       19359  \n",
       "104                 396.0                     220.8       18039  \n",
       "0                  3814.5                    2408.6      164447  \n",
       "\n",
       "[35190 rows x 7 columns]"
      ]
     },
     "execution_count": 9,
     "metadata": {},
     "output_type": "execute_result"
    }
   ],
   "source": [
    "monthly.sort_values('month_beginning',ascending=False)"
   ]
  },
  {
   "cell_type": "code",
   "execution_count": null,
   "id": "5cef2474-a0f5-4cc3-a3ae-11ee52efd534",
   "metadata": {},
   "outputs": [
    {
     "data": {
      "text/plain": [
       "station_id                    int64\n",
       "stationame                   object\n",
       "month_beginning              object\n",
       "avg_weekday_rides           float64\n",
       "avg_saturday_rides          float64\n",
       "avg_sunday-holiday_rides    float64\n",
       "monthtotal                    int64\n",
       "dtype: object"
      ]
     },
     "execution_count": 10,
     "metadata": {},
     "output_type": "execute_result"
    }
   ],
   "source": [
    "monthly.dtypes"
   ]
  },
  {
   "cell_type": "code",
   "execution_count": null,
   "id": "a12a28c0-8a59-407b-b1b9-b7100b2d4cf6",
   "metadata": {},
   "outputs": [],
   "source": [
    "monthly.drop(columns={'station_id','stationame'},inplace=True)"
   ]
  },
  {
   "cell_type": "code",
   "execution_count": null,
   "id": "252f7fb6-9c65-4be6-9f9d-c52faf81b1ef",
   "metadata": {},
   "outputs": [],
   "source": [
    "monthly['month_beginning']= pd.to_datetime(monthly['month_beginning'])"
   ]
  },
  {
   "cell_type": "code",
   "execution_count": null,
   "id": "46d2fe99-d418-4d21-8d66-4b1ae392d305",
   "metadata": {},
   "outputs": [
    {
     "data": {
      "text/plain": [
       "month_beginning             datetime64[ns]\n",
       "avg_weekday_rides                  float64\n",
       "avg_saturday_rides                 float64\n",
       "avg_sunday-holiday_rides           float64\n",
       "monthtotal                           int64\n",
       "dtype: object"
      ]
     },
     "execution_count": 13,
     "metadata": {},
     "output_type": "execute_result"
    }
   ],
   "source": [
    "monthly.dtypes"
   ]
  },
  {
   "cell_type": "code",
   "execution_count": null,
   "id": "dec01cf2-108c-4dd0-9636-721739d4a531",
   "metadata": {},
   "outputs": [],
   "source": [
    "df=monthly.groupby(by=['month_beginning']).agg('sum')"
   ]
  },
  {
   "cell_type": "code",
   "execution_count": null,
   "id": "64cb6cb5-d57d-4862-91e2-0560404b5702",
   "metadata": {},
   "outputs": [
    {
     "data": {
      "text/html": [
       "<div>\n",
       "<style scoped>\n",
       "    .dataframe tbody tr th:only-of-type {\n",
       "        vertical-align: middle;\n",
       "    }\n",
       "\n",
       "    .dataframe tbody tr th {\n",
       "        vertical-align: top;\n",
       "    }\n",
       "\n",
       "    .dataframe thead th {\n",
       "        text-align: right;\n",
       "    }\n",
       "</style>\n",
       "<table border=\"1\" class=\"dataframe\">\n",
       "  <thead>\n",
       "    <tr style=\"text-align: right;\">\n",
       "      <th></th>\n",
       "      <th>avg_weekday_rides</th>\n",
       "      <th>avg_saturday_rides</th>\n",
       "      <th>avg_sunday-holiday_rides</th>\n",
       "      <th>monthtotal</th>\n",
       "    </tr>\n",
       "    <tr>\n",
       "      <th>month_beginning</th>\n",
       "      <th></th>\n",
       "      <th></th>\n",
       "      <th></th>\n",
       "      <th></th>\n",
       "    </tr>\n",
       "  </thead>\n",
       "  <tbody>\n",
       "    <tr>\n",
       "      <th>2001-01-01</th>\n",
       "      <td>487319.6</td>\n",
       "      <td>220753.3</td>\n",
       "      <td>136573.0</td>\n",
       "      <td>12286897</td>\n",
       "    </tr>\n",
       "    <tr>\n",
       "      <th>2001-02-01</th>\n",
       "      <td>497416.6</td>\n",
       "      <td>219440.1</td>\n",
       "      <td>147447.5</td>\n",
       "      <td>11415793</td>\n",
       "    </tr>\n",
       "    <tr>\n",
       "      <th>2001-03-01</th>\n",
       "      <td>503369.6</td>\n",
       "      <td>245850.6</td>\n",
       "      <td>152733.2</td>\n",
       "      <td>12914296</td>\n",
       "    </tr>\n",
       "    <tr>\n",
       "      <th>2001-04-01</th>\n",
       "      <td>501485.0</td>\n",
       "      <td>242434.5</td>\n",
       "      <td>157367.0</td>\n",
       "      <td>12287737</td>\n",
       "    </tr>\n",
       "    <tr>\n",
       "      <th>2001-05-01</th>\n",
       "      <td>513900.5</td>\n",
       "      <td>246570.3</td>\n",
       "      <td>171236.2</td>\n",
       "      <td>13148263</td>\n",
       "    </tr>\n",
       "  </tbody>\n",
       "</table>\n",
       "</div>"
      ],
      "text/plain": [
       "                 avg_weekday_rides  avg_saturday_rides  \\\n",
       "month_beginning                                          \n",
       "2001-01-01                487319.6            220753.3   \n",
       "2001-02-01                497416.6            219440.1   \n",
       "2001-03-01                503369.6            245850.6   \n",
       "2001-04-01                501485.0            242434.5   \n",
       "2001-05-01                513900.5            246570.3   \n",
       "\n",
       "                 avg_sunday-holiday_rides  monthtotal  \n",
       "month_beginning                                        \n",
       "2001-01-01                       136573.0    12286897  \n",
       "2001-02-01                       147447.5    11415793  \n",
       "2001-03-01                       152733.2    12914296  \n",
       "2001-04-01                       157367.0    12287737  \n",
       "2001-05-01                       171236.2    13148263  "
      ]
     },
     "execution_count": 15,
     "metadata": {},
     "output_type": "execute_result"
    }
   ],
   "source": [
    "df.head()"
   ]
  },
  {
   "cell_type": "code",
   "execution_count": null,
   "id": "166457d8-85ef-4d68-bcdf-0889b9be5ce3",
   "metadata": {},
   "outputs": [
    {
     "data": {
      "text/plain": [
       "avg_weekday_rides           float64\n",
       "avg_saturday_rides          float64\n",
       "avg_sunday-holiday_rides    float64\n",
       "monthtotal                    int64\n",
       "dtype: object"
      ]
     },
     "execution_count": 16,
     "metadata": {},
     "output_type": "execute_result"
    }
   ],
   "source": [
    "df.dtypes"
   ]
  },
  {
   "cell_type": "code",
   "execution_count": null,
   "id": "706baa25-5289-47fa-aadf-f1fc89896e65",
   "metadata": {},
   "outputs": [],
   "source": [
    "df=df.astype(float)"
   ]
  },
  {
   "cell_type": "code",
   "execution_count": null,
   "id": "ec3c6ed1-10f5-4064-858a-bd334f624215",
   "metadata": {},
   "outputs": [
    {
     "data": {
      "text/plain": [
       "avg_weekday_rides           float64\n",
       "avg_saturday_rides          float64\n",
       "avg_sunday-holiday_rides    float64\n",
       "monthtotal                  float64\n",
       "dtype: object"
      ]
     },
     "execution_count": 18,
     "metadata": {},
     "output_type": "execute_result"
    }
   ],
   "source": [
    "df.dtypes"
   ]
  },
  {
   "cell_type": "code",
   "execution_count": null,
   "id": "5989a1a0-47e1-4424-9f85-b776d3f6b157",
   "metadata": {},
   "outputs": [],
   "source": [
    "df.sort_index(inplace=True)"
   ]
  },
  {
   "cell_type": "code",
   "execution_count": null,
   "id": "9dfb7373-d322-44cb-8a57-8031c89e98db",
   "metadata": {},
   "outputs": [
    {
     "data": {
      "text/html": [
       "<div>\n",
       "<style scoped>\n",
       "    .dataframe tbody tr th:only-of-type {\n",
       "        vertical-align: middle;\n",
       "    }\n",
       "\n",
       "    .dataframe tbody tr th {\n",
       "        vertical-align: top;\n",
       "    }\n",
       "\n",
       "    .dataframe thead th {\n",
       "        text-align: right;\n",
       "    }\n",
       "</style>\n",
       "<table border=\"1\" class=\"dataframe\">\n",
       "  <thead>\n",
       "    <tr style=\"text-align: right;\">\n",
       "      <th></th>\n",
       "      <th>avg_weekday_rides</th>\n",
       "      <th>avg_saturday_rides</th>\n",
       "      <th>avg_sunday-holiday_rides</th>\n",
       "      <th>monthtotal</th>\n",
       "    </tr>\n",
       "    <tr>\n",
       "      <th>month_beginning</th>\n",
       "      <th></th>\n",
       "      <th></th>\n",
       "      <th></th>\n",
       "      <th></th>\n",
       "    </tr>\n",
       "  </thead>\n",
       "  <tbody>\n",
       "    <tr>\n",
       "      <th>2001-01-01</th>\n",
       "      <td>487319.6</td>\n",
       "      <td>220753.3</td>\n",
       "      <td>136573.0</td>\n",
       "      <td>12286897.0</td>\n",
       "    </tr>\n",
       "    <tr>\n",
       "      <th>2001-02-01</th>\n",
       "      <td>497416.6</td>\n",
       "      <td>219440.1</td>\n",
       "      <td>147447.5</td>\n",
       "      <td>11415793.0</td>\n",
       "    </tr>\n",
       "    <tr>\n",
       "      <th>2001-03-01</th>\n",
       "      <td>503369.6</td>\n",
       "      <td>245850.6</td>\n",
       "      <td>152733.2</td>\n",
       "      <td>12914296.0</td>\n",
       "    </tr>\n",
       "    <tr>\n",
       "      <th>2001-04-01</th>\n",
       "      <td>501485.0</td>\n",
       "      <td>242434.5</td>\n",
       "      <td>157367.0</td>\n",
       "      <td>12287737.0</td>\n",
       "    </tr>\n",
       "    <tr>\n",
       "      <th>2001-05-01</th>\n",
       "      <td>513900.5</td>\n",
       "      <td>246570.3</td>\n",
       "      <td>171236.2</td>\n",
       "      <td>13148263.0</td>\n",
       "    </tr>\n",
       "    <tr>\n",
       "      <th>...</th>\n",
       "      <td>...</td>\n",
       "      <td>...</td>\n",
       "      <td>...</td>\n",
       "      <td>...</td>\n",
       "    </tr>\n",
       "    <tr>\n",
       "      <th>2021-03-01</th>\n",
       "      <td>135312.4</td>\n",
       "      <td>113530.8</td>\n",
       "      <td>83009.1</td>\n",
       "      <td>3898318.0</td>\n",
       "    </tr>\n",
       "    <tr>\n",
       "      <th>2021-04-01</th>\n",
       "      <td>148614.3</td>\n",
       "      <td>120363.0</td>\n",
       "      <td>90308.6</td>\n",
       "      <td>4112171.0</td>\n",
       "    </tr>\n",
       "    <tr>\n",
       "      <th>2021-05-01</th>\n",
       "      <td>166836.1</td>\n",
       "      <td>148655.2</td>\n",
       "      <td>114718.4</td>\n",
       "      <td>4768231.0</td>\n",
       "    </tr>\n",
       "    <tr>\n",
       "      <th>2021-06-01</th>\n",
       "      <td>199886.2</td>\n",
       "      <td>177984.6</td>\n",
       "      <td>139961.0</td>\n",
       "      <td>5669251.0</td>\n",
       "    </tr>\n",
       "    <tr>\n",
       "      <th>2021-07-01</th>\n",
       "      <td>236309.6</td>\n",
       "      <td>213547.2</td>\n",
       "      <td>153024.0</td>\n",
       "      <td>6795339.0</td>\n",
       "    </tr>\n",
       "  </tbody>\n",
       "</table>\n",
       "<p>247 rows × 4 columns</p>\n",
       "</div>"
      ],
      "text/plain": [
       "                 avg_weekday_rides  avg_saturday_rides  \\\n",
       "month_beginning                                          \n",
       "2001-01-01                487319.6            220753.3   \n",
       "2001-02-01                497416.6            219440.1   \n",
       "2001-03-01                503369.6            245850.6   \n",
       "2001-04-01                501485.0            242434.5   \n",
       "2001-05-01                513900.5            246570.3   \n",
       "...                            ...                 ...   \n",
       "2021-03-01                135312.4            113530.8   \n",
       "2021-04-01                148614.3            120363.0   \n",
       "2021-05-01                166836.1            148655.2   \n",
       "2021-06-01                199886.2            177984.6   \n",
       "2021-07-01                236309.6            213547.2   \n",
       "\n",
       "                 avg_sunday-holiday_rides  monthtotal  \n",
       "month_beginning                                        \n",
       "2001-01-01                       136573.0  12286897.0  \n",
       "2001-02-01                       147447.5  11415793.0  \n",
       "2001-03-01                       152733.2  12914296.0  \n",
       "2001-04-01                       157367.0  12287737.0  \n",
       "2001-05-01                       171236.2  13148263.0  \n",
       "...                                   ...         ...  \n",
       "2021-03-01                        83009.1   3898318.0  \n",
       "2021-04-01                        90308.6   4112171.0  \n",
       "2021-05-01                       114718.4   4768231.0  \n",
       "2021-06-01                       139961.0   5669251.0  \n",
       "2021-07-01                       153024.0   6795339.0  \n",
       "\n",
       "[247 rows x 4 columns]"
      ]
     },
     "execution_count": 20,
     "metadata": {},
     "output_type": "execute_result"
    }
   ],
   "source": [
    "df"
   ]
  },
  {
   "cell_type": "code",
   "execution_count": 22,
   "id": "21d0b857-1588-4cfa-b93d-a8cca1ee7e53",
   "metadata": {},
   "outputs": [],
   "source": [
    "# df.to_csv('../capstone-data/cta-monthly-primary.csv')"
   ]
  },
  {
   "cell_type": "code",
   "execution_count": 23,
   "id": "018d5a91-0338-4de8-9f24-8dad6795ecd4",
   "metadata": {},
   "outputs": [],
   "source": [
    "#df= pd.read_csv('../capstone-data/cta-monthly-primary')"
   ]
  },
  {
   "cell_type": "code",
   "execution_count": null,
   "id": "1d69fda0-082c-459f-a848-3f9be1c7d008",
   "metadata": {},
   "outputs": [],
   "source": []
  }
 ],
 "metadata": {
  "kernelspec": {
   "display_name": "Python [conda env:dsi] *",
   "language": "python",
   "name": "conda-env-dsi-py"
  },
  "language_info": {
   "codemirror_mode": {
    "name": "ipython",
    "version": 3
   },
   "file_extension": ".py",
   "mimetype": "text/x-python",
   "name": "python",
   "nbconvert_exporter": "python",
   "pygments_lexer": "ipython3",
   "version": "3.8.8"
  }
 },
 "nbformat": 4,
 "nbformat_minor": 5
}
