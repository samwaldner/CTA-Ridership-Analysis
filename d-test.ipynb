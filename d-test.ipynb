{
 "cells": [
  {
   "cell_type": "code",
   "execution_count": null,
   "id": "fe52db42-9e0e-4505-91e0-814c9616d509",
   "metadata": {},
   "outputs": [],
   "source": []
  },
  {
   "cell_type": "code",
   "execution_count": null,
   "id": "d964cf87-8e58-41b2-8968-e2fac744b228",
   "metadata": {},
   "outputs": [],
   "source": [
    "# Code written by Hank Butler\n",
    "def compare_histograms(imputed_column, original_column, x_label, y_label = 'Frequency'):\n",
    "    fig, (ax0, ax1) = plt.subplots(nrows = 2, ncols = 1, figsize = (16,9))\n",
    "\n",
    "    # Set axes of histograms.\n",
    "    mode = statistics.mode(imputed_column)\n",
    "    rnge = max(original_column) - min(original_column)\n",
    "    xmin = min(original_column) - 0.02 * rnge\n",
    "    xmax = max(original_column) + 0.02 * rnge\n",
    "    ymax = 40\n",
    "\n",
    "    ax0.set_xlim(xmin, xmax)\n",
    "    ax0.set_ylim(0, ymax)\n",
    "    ax1.set_xlim(xmin, xmax)\n",
    "    ax1.set_ylim(0, ymax)\n",
    "\n",
    "    # Set top labels.\n",
    "    ax0.set_title('Real Histogram', position = (0,1), ha = 'left', fontsize = 25)\n",
    "    ax0.set_xlabel(x_label, position = (0,0), ha = 'left', fontsize = 25, color = 'grey', alpha = 0.85)\n",
    "    ax0.set_ylabel(y_label, position = (0,1), ha = 'right', va = 'top', fontsize = 25, rotation = 0, color = 'grey', alpha = 0.85)\n",
    "    ax0.set_xticks([])\n",
    "    ax0.set_yticks([])\n",
    "\n",
    "    # Generate top histogram.\n",
    "    ax0.hist(original_column, bins = 15, color = '#185fad', alpha = 0.75, label = '')\n",
    "    ax0.axvline(np.mean(original_column), color = '#185fad', lw = 5, label = 'True Mean')\n",
    "    ax0.legend(prop={'size': 15}, loc = 1)\n",
    "\n",
    "    # Set bottom labels.\n",
    "    ax1.set_title('Imputed Histogram', position = (0,1), ha = 'left', fontsize = 25)\n",
    "    ax1.set_xlabel(x_label, position = (0,0), ha = 'left', fontsize = 25, color = 'grey', alpha = 0.85)\n",
    "    ax1.set_ylabel(y_label, position = (0,1), ha = 'right', va = 'top', fontsize = 25, rotation = 0, color = 'grey', alpha = 0.85)\n",
    "    ax1.set_xticks([])\n",
    "    ax1.set_yticks([])\n",
    "    \n",
    "    # Generate bottom histogram.\n",
    "    ax1.hist(imputed_column, bins = 15, color = 'orange', alpha = 0.75, label = '', stacked = True)\n",
    "    ax1.axvline(np.mean(original_column), color = '#185fad', lw = 5, label = 'True Mean')\n",
    "    ax1.axvline(np.mean(imputed_column), color = 'darkorange', lw = 2, label = 'Imputed Mean')\n",
    "    ax1.legend(prop={'size': 15}, loc = 1)\n",
    "\n",
    "    plt.tight_layout();"
   ]
  },
  {
   "cell_type": "code",
   "execution_count": null,
   "id": "fdacdb14-2e6b-40b8-99da-a6e7426a0819",
   "metadata": {},
   "outputs": [
    {
     "data": {
      "text/html": [
       "<div>\n",
       "<style scoped>\n",
       "    .dataframe tbody tr th:only-of-type {\n",
       "        vertical-align: middle;\n",
       "    }\n",
       "\n",
       "    .dataframe tbody tr th {\n",
       "        vertical-align: top;\n",
       "    }\n",
       "\n",
       "    .dataframe thead th {\n",
       "        text-align: right;\n",
       "    }\n",
       "</style>\n",
       "<table border=\"1\" class=\"dataframe\">\n",
       "  <thead>\n",
       "    <tr style=\"text-align: right;\">\n",
       "      <th></th>\n",
       "      <th>open</th>\n",
       "      <th>high</th>\n",
       "      <th>low</th>\n",
       "      <th>close*</th>\n",
       "      <th>adj close**</th>\n",
       "      <th>volume</th>\n",
       "    </tr>\n",
       "    <tr>\n",
       "      <th>date</th>\n",
       "      <th></th>\n",
       "      <th></th>\n",
       "      <th></th>\n",
       "      <th></th>\n",
       "      <th></th>\n",
       "      <th></th>\n",
       "    </tr>\n",
       "  </thead>\n",
       "  <tbody>\n",
       "    <tr>\n",
       "      <th>2001-01-02</th>\n",
       "      <td>0.794</td>\n",
       "      <td>0.804</td>\n",
       "      <td>0.78</td>\n",
       "      <td>0.795</td>\n",
       "      <td>0.795</td>\n",
       "      <td>14697.0</td>\n",
       "    </tr>\n",
       "  </tbody>\n",
       "</table>\n",
       "</div>"
      ],
      "text/plain": [
       "             open   high   low  close*  adj close**   volume\n",
       "date                                                        \n",
       "2001-01-02  0.794  0.804  0.78   0.795        0.795  14697.0"
      ]
     },
     "execution_count": 33,
     "metadata": {},
     "output_type": "execute_result"
    }
   ],
   "source": [
    "gas.head(1)"
   ]
  },
  {
   "cell_type": "code",
   "execution_count": null,
   "id": "8f3a8dc4-2776-4d9a-8f6f-a26289958194",
   "metadata": {},
   "outputs": [],
   "source": [
    "gas_imp = gas.copy()"
   ]
  },
  {
   "cell_type": "code",
   "execution_count": null,
   "id": "ce49007a-080f-4ee9-929e-e15fe11983ff",
   "metadata": {},
   "outputs": [
    {
     "data": {
      "text/html": [
       "<div>\n",
       "<style scoped>\n",
       "    .dataframe tbody tr th:only-of-type {\n",
       "        vertical-align: middle;\n",
       "    }\n",
       "\n",
       "    .dataframe tbody tr th {\n",
       "        vertical-align: top;\n",
       "    }\n",
       "\n",
       "    .dataframe thead th {\n",
       "        text-align: right;\n",
       "    }\n",
       "</style>\n",
       "<table border=\"1\" class=\"dataframe\">\n",
       "  <thead>\n",
       "    <tr style=\"text-align: right;\">\n",
       "      <th></th>\n",
       "      <th>open</th>\n",
       "      <th>high</th>\n",
       "      <th>low</th>\n",
       "      <th>close*</th>\n",
       "      <th>adj close**</th>\n",
       "      <th>volume</th>\n",
       "    </tr>\n",
       "    <tr>\n",
       "      <th>date</th>\n",
       "      <th></th>\n",
       "      <th></th>\n",
       "      <th></th>\n",
       "      <th></th>\n",
       "      <th></th>\n",
       "      <th></th>\n",
       "    </tr>\n",
       "  </thead>\n",
       "  <tbody>\n",
       "    <tr>\n",
       "      <th>2001-01-02</th>\n",
       "      <td>0.7940</td>\n",
       "      <td>0.8040</td>\n",
       "      <td>0.780</td>\n",
       "      <td>0.7950</td>\n",
       "      <td>0.7950</td>\n",
       "      <td>14697.0</td>\n",
       "    </tr>\n",
       "    <tr>\n",
       "      <th>2001-01-03</th>\n",
       "      <td>0.7990</td>\n",
       "      <td>0.8120</td>\n",
       "      <td>0.792</td>\n",
       "      <td>0.8100</td>\n",
       "      <td>0.8100</td>\n",
       "      <td>10219.0</td>\n",
       "    </tr>\n",
       "    <tr>\n",
       "      <th>2001-01-04</th>\n",
       "      <td>0.8150</td>\n",
       "      <td>0.8300</td>\n",
       "      <td>0.813</td>\n",
       "      <td>0.8186</td>\n",
       "      <td>0.8186</td>\n",
       "      <td>17869.0</td>\n",
       "    </tr>\n",
       "    <tr>\n",
       "      <th>2001-01-05</th>\n",
       "      <td>0.8150</td>\n",
       "      <td>0.8380</td>\n",
       "      <td>0.814</td>\n",
       "      <td>0.8205</td>\n",
       "      <td>0.8205</td>\n",
       "      <td>18617.0</td>\n",
       "    </tr>\n",
       "    <tr>\n",
       "      <th>2001-01-08</th>\n",
       "      <td>0.8270</td>\n",
       "      <td>0.8530</td>\n",
       "      <td>0.825</td>\n",
       "      <td>0.8350</td>\n",
       "      <td>0.8350</td>\n",
       "      <td>24057.0</td>\n",
       "    </tr>\n",
       "    <tr>\n",
       "      <th>2001-01-09</th>\n",
       "      <td>0.8340</td>\n",
       "      <td>0.8370</td>\n",
       "      <td>0.819</td>\n",
       "      <td>0.8290</td>\n",
       "      <td>0.8290</td>\n",
       "      <td>16428.0</td>\n",
       "    </tr>\n",
       "    <tr>\n",
       "      <th>2001-01-10</th>\n",
       "      <td>0.8320</td>\n",
       "      <td>0.8950</td>\n",
       "      <td>0.822</td>\n",
       "      <td>0.8850</td>\n",
       "      <td>0.8850</td>\n",
       "      <td>19408.0</td>\n",
       "    </tr>\n",
       "    <tr>\n",
       "      <th>2001-01-11</th>\n",
       "      <td>0.8800</td>\n",
       "      <td>0.8925</td>\n",
       "      <td>0.872</td>\n",
       "      <td>0.8885</td>\n",
       "      <td>0.8885</td>\n",
       "      <td>17472.0</td>\n",
       "    </tr>\n",
       "    <tr>\n",
       "      <th>2001-01-12</th>\n",
       "      <td>0.8900</td>\n",
       "      <td>0.9050</td>\n",
       "      <td>0.880</td>\n",
       "      <td>0.9008</td>\n",
       "      <td>0.9008</td>\n",
       "      <td>12044.0</td>\n",
       "    </tr>\n",
       "    <tr>\n",
       "      <th>2001-01-15</th>\n",
       "      <td>NaN</td>\n",
       "      <td>NaN</td>\n",
       "      <td>NaN</td>\n",
       "      <td>NaN</td>\n",
       "      <td>NaN</td>\n",
       "      <td>NaN</td>\n",
       "    </tr>\n",
       "    <tr>\n",
       "      <th>2001-01-16</th>\n",
       "      <td>0.9015</td>\n",
       "      <td>0.9015</td>\n",
       "      <td>0.873</td>\n",
       "      <td>0.8790</td>\n",
       "      <td>0.8790</td>\n",
       "      <td>18421.0</td>\n",
       "    </tr>\n",
       "  </tbody>\n",
       "</table>\n",
       "</div>"
      ],
      "text/plain": [
       "              open    high    low  close*  adj close**   volume\n",
       "date                                                           \n",
       "2001-01-02  0.7940  0.8040  0.780  0.7950       0.7950  14697.0\n",
       "2001-01-03  0.7990  0.8120  0.792  0.8100       0.8100  10219.0\n",
       "2001-01-04  0.8150  0.8300  0.813  0.8186       0.8186  17869.0\n",
       "2001-01-05  0.8150  0.8380  0.814  0.8205       0.8205  18617.0\n",
       "2001-01-08  0.8270  0.8530  0.825  0.8350       0.8350  24057.0\n",
       "2001-01-09  0.8340  0.8370  0.819  0.8290       0.8290  16428.0\n",
       "2001-01-10  0.8320  0.8950  0.822  0.8850       0.8850  19408.0\n",
       "2001-01-11  0.8800  0.8925  0.872  0.8885       0.8885  17472.0\n",
       "2001-01-12  0.8900  0.9050  0.880  0.9008       0.9008  12044.0\n",
       "2001-01-15     NaN     NaN    NaN     NaN          NaN      NaN\n",
       "2001-01-16  0.9015  0.9015  0.873  0.8790       0.8790  18421.0"
      ]
     },
     "execution_count": 59,
     "metadata": {},
     "output_type": "execute_result"
    }
   ],
   "source": [
    "gas_imp.head(11)"
   ]
  },
  {
   "cell_type": "code",
   "execution_count": null,
   "id": "0e0d4ae3-14e2-44b1-9f0a-566970cf29e6",
   "metadata": {},
   "outputs": [
    {
     "data": {
      "text/html": [
       "<div>\n",
       "<style scoped>\n",
       "    .dataframe tbody tr th:only-of-type {\n",
       "        vertical-align: middle;\n",
       "    }\n",
       "\n",
       "    .dataframe tbody tr th {\n",
       "        vertical-align: top;\n",
       "    }\n",
       "\n",
       "    .dataframe thead th {\n",
       "        text-align: right;\n",
       "    }\n",
       "</style>\n",
       "<table border=\"1\" class=\"dataframe\">\n",
       "  <thead>\n",
       "    <tr style=\"text-align: right;\">\n",
       "      <th></th>\n",
       "      <th>open</th>\n",
       "      <th>high</th>\n",
       "      <th>low</th>\n",
       "      <th>close*</th>\n",
       "      <th>adj close**</th>\n",
       "      <th>volume</th>\n",
       "    </tr>\n",
       "    <tr>\n",
       "      <th>date</th>\n",
       "      <th></th>\n",
       "      <th></th>\n",
       "      <th></th>\n",
       "      <th></th>\n",
       "      <th></th>\n",
       "      <th></th>\n",
       "    </tr>\n",
       "  </thead>\n",
       "  <tbody>\n",
       "    <tr>\n",
       "      <th>2001-01-15</th>\n",
       "      <td>NaN</td>\n",
       "      <td>NaN</td>\n",
       "      <td>NaN</td>\n",
       "      <td>NaN</td>\n",
       "      <td>NaN</td>\n",
       "      <td>NaN</td>\n",
       "    </tr>\n",
       "    <tr>\n",
       "      <th>2001-01-29</th>\n",
       "      <td>0.891</td>\n",
       "      <td>0.895</td>\n",
       "      <td>0.870</td>\n",
       "      <td>0.877</td>\n",
       "      <td>0.877</td>\n",
       "      <td>NaN</td>\n",
       "    </tr>\n",
       "    <tr>\n",
       "      <th>2001-02-19</th>\n",
       "      <td>NaN</td>\n",
       "      <td>NaN</td>\n",
       "      <td>NaN</td>\n",
       "      <td>NaN</td>\n",
       "      <td>NaN</td>\n",
       "      <td>NaN</td>\n",
       "    </tr>\n",
       "    <tr>\n",
       "      <th>2001-03-13</th>\n",
       "      <td>0.875</td>\n",
       "      <td>0.892</td>\n",
       "      <td>0.873</td>\n",
       "      <td>0.885</td>\n",
       "      <td>0.885</td>\n",
       "      <td>NaN</td>\n",
       "    </tr>\n",
       "    <tr>\n",
       "      <th>2001-04-12</th>\n",
       "      <td>NaN</td>\n",
       "      <td>NaN</td>\n",
       "      <td>NaN</td>\n",
       "      <td>NaN</td>\n",
       "      <td>NaN</td>\n",
       "      <td>NaN</td>\n",
       "    </tr>\n",
       "  </tbody>\n",
       "</table>\n",
       "</div>"
      ],
      "text/plain": [
       "             open   high    low  close*  adj close**  volume\n",
       "date                                                        \n",
       "2001-01-15    NaN    NaN    NaN     NaN          NaN     NaN\n",
       "2001-01-29  0.891  0.895  0.870   0.877        0.877     NaN\n",
       "2001-02-19    NaN    NaN    NaN     NaN          NaN     NaN\n",
       "2001-03-13  0.875  0.892  0.873   0.885        0.885     NaN\n",
       "2001-04-12    NaN    NaN    NaN     NaN          NaN     NaN"
      ]
     },
     "execution_count": 52,
     "metadata": {},
     "output_type": "execute_result"
    }
   ],
   "source": [
    "gas_imp.loc[gas_imp['volume'].isna()==True].head()"
   ]
  },
  {
   "cell_type": "code",
   "execution_count": null,
   "id": "7a9dbdae-491d-4b5c-a2ba-448cc12d1e73",
   "metadata": {},
   "outputs": [
    {
     "ename": "SyntaxError",
     "evalue": "invalid syntax (3097919084.py, line 1)",
     "output_type": "error",
     "traceback": [
      "\u001b[0;36m  File \u001b[0;32m\"/var/folders/nw/r1vxxfhd0f3gvq3n40jpl2980000gn/T/ipykernel_74676/3097919084.py\"\u001b[0;36m, line \u001b[0;32m1\u001b[0m\n\u001b[0;31m    gas_imp.fillna(lambda gas_imp[x].mean(): x for x in gas_imp.columns ,limit=3).head(11)\u001b[0m\n\u001b[0m                                 ^\u001b[0m\n\u001b[0;31mSyntaxError\u001b[0m\u001b[0;31m:\u001b[0m invalid syntax\n"
     ]
    }
   ],
   "source": [
    "gas_imp.fillna(lambda gas_imp[x].mean(): x for x in gas_imp.columns ,limit=3).head(11)"
   ]
  },
  {
   "cell_type": "code",
   "execution_count": null,
   "id": "2046e9d3-32b4-430f-9fdc-32b058c87eae",
   "metadata": {},
   "outputs": [],
   "source": [
    "# imp = SimpleImputer(strategy = 'mean')\n",
    "\n",
    "# imp_income_missing = imp.fit_transform(gas_imp)\n",
    "\n",
    "# imp_income_missing = pd.DataFrame(imp_income_missing,\n",
    "#                                       columns = gas_imp.columns)\n",
    "\n",
    "# compare_histograms(imputed_column = imp_income_missing['volume'],\n",
    "#                    original_column = gas['volume'],\n",
    "#                    x_label = 'Age',\n",
    "#                    y_label = 'Frequency')"
   ]
  },
  {
   "cell_type": "code",
   "execution_count": null,
   "id": "be98d45d-b6f3-42d8-b90a-8a478797fa71",
   "metadata": {},
   "outputs": [],
   "source": [
    "# imp = SimpleImputer(strategy = 'median')\n",
    "\n",
    "# imp_income_missing = imp.fit_transform(gas_imp)\n",
    "\n",
    "# imp_income_missing = pd.DataFrame(imp_income_missing,\n",
    "#                                       columns = gas_imp.columns)\n",
    "\n",
    "# compare_histograms(imputed_column = imp_income_missing['volume'],\n",
    "#                    original_column = gas['volume'],\n",
    "#                    x_label = 'Age',\n",
    "#                    y_label = 'Frequency')"
   ]
  },
  {
   "cell_type": "code",
   "execution_count": null,
   "id": "371e77f1-d2bb-4590-8ab1-2ccbb3379995",
   "metadata": {},
   "outputs": [
    {
     "data": {
      "image/png": "[encoded data removed]",
      "text/plain": [
       "<Figure size 1152x648 with 2 Axes>"
      ]
     },
     "metadata": {},
     "output_type": "display_data"
    }
   ],
   "source": [
    "knn_imp = KNNImputer()\n",
    "\n",
    "knn_imp_income_missing = knn_imp.fit_transform(gas)\n",
    "\n",
    "knn_imp_income_missing = pd.DataFrame(knn_imp_income_missing,\n",
    "                                      columns = gas.columns)\n",
    "\n",
    "gas_imp = pd.DataFrame(knn_imp_income_missing, columns = gas.columns)\n",
    "\n",
    "compare_histograms(imputed_column = knn_imp_income_missing['volume'],\n",
    "                   original_column = gas['volume'],\n",
    "                   x_label = 'Age',\n",
    "                   y_label = 'Frequency')\n",
    "\n"
   ]
  },
  {
   "cell_type": "code",
   "execution_count": null,
   "id": "f7fa48b2-1831-4b37-aa76-9b22eae0037c",
   "metadata": {},
   "outputs": [
    {
     "data": {
      "text/plain": [
       "open           float64\n",
       "high           float64\n",
       "low            float64\n",
       "close*         float64\n",
       "adj close**    float64\n",
       "volume         float64\n",
       "dtype: object"
      ]
     },
     "execution_count": 38,
     "metadata": {},
     "output_type": "execute_result"
    }
   ],
   "source": [
    "gas_imp.dtypes"
   ]
  },
  {
   "cell_type": "code",
   "execution_count": null,
   "id": "494c453d-0c72-4ce4-a103-3227485c4fdf",
   "metadata": {},
   "outputs": [
    {
     "data": {
      "text/plain": [
       "RangeIndex(start=0, stop=5366, step=1)"
      ]
     },
     "execution_count": 39,
     "metadata": {},
     "output_type": "execute_result"
    }
   ],
   "source": [
    "gas_imp.index"
   ]
  },
  {
   "cell_type": "code",
   "execution_count": null,
   "id": "8143df85-61de-42f7-9f06-e498418d2a0c",
   "metadata": {},
   "outputs": [],
   "source": [
    "gas_imp.index = pd.to_datetime(gas_imp.index).date"
   ]
  },
  {
   "cell_type": "code",
   "execution_count": null,
   "id": "5be67b6e-1d2a-4278-b0c8-246be531fed6",
   "metadata": {},
   "outputs": [
    {
     "data": {
      "text/plain": [
       "Index([1970-01-01, 1970-01-01, 1970-01-01, 1970-01-01, 1970-01-01, 1970-01-01,\n",
       "       1970-01-01, 1970-01-01, 1970-01-01, 1970-01-01,\n",
       "       ...\n",
       "       1970-01-01, 1970-01-01, 1970-01-01, 1970-01-01, 1970-01-01, 1970-01-01,\n",
       "       1970-01-01, 1970-01-01, 1970-01-01, 1970-01-01],\n",
       "      dtype='object', length=5366)"
      ]
     },
     "execution_count": 42,
     "metadata": {},
     "output_type": "execute_result"
    }
   ],
   "source": [
    "gas_imp.index"
   ]
  },
  {
   "cell_type": "code",
   "execution_count": null,
   "id": "42af8b97-f1f0-4a69-8414-0ca6828430b1",
   "metadata": {},
   "outputs": [],
   "source": [
    "# it_imp = IterativeImputer(estimator = LinearRegression())\n",
    "\n",
    "# it_imp_income_missing = it_imp.fit_transform(gas_imp)\n",
    "\n",
    "# it_imp_income_missing = pd.DataFrame(it_imp_income_missing, columns = gas_imp.columns)\n",
    "\n",
    "# compare_histograms(imputed_column = it_imp_income_missing['volume'],\n",
    "#                   original_column = gas_imp['volume'],\n",
    "#                   x_label = 'Age',\n",
    "#                   y_label = 'Frequency')"
   ]
  },
  {
   "cell_type": "code",
   "execution_count": null,
   "id": "bc0f7a74-121f-4643-a015-36d40069a651",
   "metadata": {},
   "outputs": [
    {
     "data": {
      "text/plain": [
       "open            69\n",
       "high            69\n",
       "low             69\n",
       "close*          69\n",
       "adj close**     69\n",
       "volume         142\n",
       "dtype: int64"
      ]
     },
     "execution_count": 37,
     "metadata": {},
     "output_type": "execute_result"
    }
   ],
   "source": [
    "gas.isna().sum()"
   ]
  },
  {
   "cell_type": "code",
   "execution_count": null,
   "id": "107e8b75-f9f2-4167-b8bf-145de864b1a2",
   "metadata": {},
   "outputs": [
    {
     "data": {
      "text/plain": [
       "open           0\n",
       "high           0\n",
       "low            0\n",
       "close*         0\n",
       "adj close**    0\n",
       "volume         0\n",
       "dtype: int64"
      ]
     },
     "execution_count": 38,
     "metadata": {},
     "output_type": "execute_result"
    }
   ],
   "source": [
    "gas_imp.isna().sum()"
   ]
  },
  {
   "cell_type": "code",
   "execution_count": null,
   "id": "6a93ab53-d3b1-41ec-a63e-fc6058509eea",
   "metadata": {},
   "outputs": [
    {
     "data": {
      "image/png": "[encoded data removed]",
      "text/plain": [
       "<Figure size 432x288 with 1 Axes>"
      ]
     },
     "metadata": {
      "needs_background": "light"
     },
     "output_type": "display_data"
    }
   ],
   "source": [
    "plt.scatter(gas['volume'],gas['close*']);\n"
   ]
  },
  {
   "cell_type": "code",
   "execution_count": null,
   "id": "660eea69-7ace-4466-8cc4-f7495384dfee",
   "metadata": {},
   "outputs": [
    {
     "data": {
      "image/png": "[encoded data removed]",
      "text/plain": [
       "<Figure size 432x288 with 1 Axes>"
      ]
     },
     "metadata": {
      "needs_background": "light"
     },
     "output_type": "display_data"
    }
   ],
   "source": [
    "plt.scatter(gas_imp['volume'],gas_imp['close*']);\n"
   ]
  },
  {
   "cell_type": "code",
   "execution_count": null,
   "id": "30f105b4-b0fa-4709-a706-9db0f89d5951",
   "metadata": {},
   "outputs": [
    {
     "data": {
      "text/html": [
       "<div>\n",
       "<style scoped>\n",
       "    .dataframe tbody tr th:only-of-type {\n",
       "        vertical-align: middle;\n",
       "    }\n",
       "\n",
       "    .dataframe tbody tr th {\n",
       "        vertical-align: top;\n",
       "    }\n",
       "\n",
       "    .dataframe thead th {\n",
       "        text-align: right;\n",
       "    }\n",
       "</style>\n",
       "<table border=\"1\" class=\"dataframe\">\n",
       "  <thead>\n",
       "    <tr style=\"text-align: right;\">\n",
       "      <th></th>\n",
       "      <th>open</th>\n",
       "      <th>high</th>\n",
       "      <th>low</th>\n",
       "      <th>close*</th>\n",
       "      <th>adj close**</th>\n",
       "      <th>volume</th>\n",
       "    </tr>\n",
       "    <tr>\n",
       "      <th>date</th>\n",
       "      <th></th>\n",
       "      <th></th>\n",
       "      <th></th>\n",
       "      <th></th>\n",
       "      <th></th>\n",
       "      <th></th>\n",
       "    </tr>\n",
       "  </thead>\n",
       "  <tbody>\n",
       "    <tr>\n",
       "      <th>2016-10-31</th>\n",
       "      <td>1.4400</td>\n",
       "      <td>1.6351</td>\n",
       "      <td>1.4400</td>\n",
       "      <td>1.4841</td>\n",
       "      <td>1.4841</td>\n",
       "      <td>185790.0</td>\n",
       "    </tr>\n",
       "    <tr>\n",
       "      <th>2017-02-08</th>\n",
       "      <td>1.4720</td>\n",
       "      <td>1.5594</td>\n",
       "      <td>1.4650</td>\n",
       "      <td>1.5527</td>\n",
       "      <td>1.5527</td>\n",
       "      <td>125813.0</td>\n",
       "    </tr>\n",
       "    <tr>\n",
       "      <th>2017-08-30</th>\n",
       "      <td>1.9148</td>\n",
       "      <td>2.1705</td>\n",
       "      <td>1.9121</td>\n",
       "      <td>2.1399</td>\n",
       "      <td>2.1399</td>\n",
       "      <td>190777.0</td>\n",
       "    </tr>\n",
       "    <tr>\n",
       "      <th>2017-08-31</th>\n",
       "      <td>1.7744</td>\n",
       "      <td>1.7832</td>\n",
       "      <td>1.6960</td>\n",
       "      <td>1.7479</td>\n",
       "      <td>1.7479</td>\n",
       "      <td>184124.0</td>\n",
       "    </tr>\n",
       "    <tr>\n",
       "      <th>2017-09-04</th>\n",
       "      <td>1.7509</td>\n",
       "      <td>1.7509</td>\n",
       "      <td>1.6579</td>\n",
       "      <td>1.6991</td>\n",
       "      <td>1.6991</td>\n",
       "      <td>140207.0</td>\n",
       "    </tr>\n",
       "    <tr>\n",
       "      <th>2018-08-07</th>\n",
       "      <td>2.0935</td>\n",
       "      <td>2.0985</td>\n",
       "      <td>2.0067</td>\n",
       "      <td>2.0195</td>\n",
       "      <td>2.0195</td>\n",
       "      <td>129162.0</td>\n",
       "    </tr>\n",
       "    <tr>\n",
       "      <th>2020-02-07</th>\n",
       "      <td>1.4981</td>\n",
       "      <td>1.5335</td>\n",
       "      <td>1.4817</td>\n",
       "      <td>1.5239</td>\n",
       "      <td>1.5239</td>\n",
       "      <td>139485.0</td>\n",
       "    </tr>\n",
       "  </tbody>\n",
       "</table>\n",
       "</div>"
      ],
      "text/plain": [
       "              open    high     low  close*  adj close**    volume\n",
       "date                                                             \n",
       "2016-10-31  1.4400  1.6351  1.4400  1.4841       1.4841  185790.0\n",
       "2017-02-08  1.4720  1.5594  1.4650  1.5527       1.5527  125813.0\n",
       "2017-08-30  1.9148  2.1705  1.9121  2.1399       2.1399  190777.0\n",
       "2017-08-31  1.7744  1.7832  1.6960  1.7479       1.7479  184124.0\n",
       "2017-09-04  1.7509  1.7509  1.6579  1.6991       1.6991  140207.0\n",
       "2018-08-07  2.0935  2.0985  2.0067  2.0195       2.0195  129162.0\n",
       "2020-02-07  1.4981  1.5335  1.4817  1.5239       1.5239  139485.0"
      ]
     },
     "execution_count": 41,
     "metadata": {},
     "output_type": "execute_result"
    }
   ],
   "source": [
    "gas.loc[gas['volume']>125_000]"
   ]
  }
 ],
 "metadata": {
  "kernelspec": {
   "display_name": "Python [conda env:dsi] *",
   "language": "python",
   "name": "conda-env-dsi-py"
  },
  "language_info": {
   "codemirror_mode": {
    "name": "ipython",
    "version": 3
   },
   "file_extension": ".py",
   "mimetype": "text/x-python",
   "name": "python",
   "nbconvert_exporter": "python",
   "pygments_lexer": "ipython3",
   "version": "3.8.8"
  }
 },
 "nbformat": 4,
 "nbformat_minor": 5
}
